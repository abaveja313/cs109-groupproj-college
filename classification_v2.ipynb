{
 "cells": [
  {
   "cell_type": "code",
   "execution_count": 1,
   "metadata": {
    "collapsed": true
   },
   "outputs": [],
   "source": [
    "import TIdatabase as ti\n",
    "%matplotlib inline \n",
    "import numpy as np\n",
    "import pandas as pd\n",
    "import scipy.stats as stats\n",
    "import matplotlib.pyplot as plt\n",
    "import sklearn\n",
    "import statsmodels.api as sm\n",
    "import seaborn as sns\n",
    "sns.set_style(\"whitegrid\")\n",
    "sns.set_context(\"poster\")\n",
    "from matplotlib import rcParams\n",
    "%reload_ext rpy2.ipython\n",
    "from rpy2.robjects import pandas2ri"
   ]
  },
  {
   "cell_type": "code",
   "execution_count": 4,
   "metadata": {
    "collapsed": false
   },
   "outputs": [
    {
     "data": {
      "text/plain": [
       "  X  studentID classrank admissionstest AP   averageAP  SATsubject          GPA\n",
       "1 0 PWY05BUB4I        NA     0.11101293  7  0.18742697  0.07064293 -0.013895163\n",
       "2 1 3UVDFVI9Z0        NA     0.03509851  7  0.11599840 -0.09602374  0.036646353\n",
       "3 2 BCCBHJUP0M        NA     0.03509851  0          NA  0.07064293  0.029426136\n",
       "4 3 WZFPWHSQMS        NA     0.16622342  7  0.15171269  0.23730959  0.007765486\n",
       "5 4 5W1JNQA7G0        NA     0.04890113  1 -0.06257303 -0.09602374  0.040256461\n",
       "6 5 TWUKL79B6V        NA     0.04890113  0          NA -0.09602374  0.058307003\n",
       "         GPA_w                program schooltype intendedgradyear\n",
       "1  0.005108614 Biomedical engineering         -1             2017\n",
       "2  0.033997503               Classics         -1             2013\n",
       "3 -0.088224719     Biological Science          1             2016\n",
       "4 -0.032669164                Physics          1             2015\n",
       "5           NA                                 1             2011\n",
       "6           NA      Political Science          1             2016\n",
       "                                                                                                                                                                                                                                                                                                                                                                                                                                                                                      addInfo\n",
       "1                                                                                                  Basketball outside of school violin cancer awareness club founder red cross club vp orchestra leadership council religious education teacher ecoteens engineering dept of Plano internNational merit finalist national ap scholar 2nd place in 3 point contest at National Ismaili Sports Tournament Pan American Spanish forumNo special circumstances good interview and recommendations\n",
       "2 Brain Bowl President and Captain 3 years Mu Alpha Theta Pres VP Comp Coordinator 4 years member 6 years NJHS NHS member in good standing 6 years Latin Club President and comp coordinator tutor for hundreds of hoursNational Merit Finalist AP Scholar with Distinction Lots of Latin awards Brain Bowl Top Scorer awards Academic Letter awardOther high AP scores one great and one pretty good rec Essays range from great at some places to terrible at others depended on the prompt\n",
       "3                                                                                                                                                                                                                                                                                                                                                                                                         Ballet 4 Years Bhangra 6 Years Volunteer WildCare Animal Hospital 6 years Cum Laude\n",
       "4                                                                                                                                                                                                                                                                                                                                                                                                                                                                                            \n",
       "5                                                                                                                                                                                                          4 yrs Varsity Wrestling 2x Team Captain Academic All State and other awards Performance in several plays and musicals Some summer work experience Various clubs Model UN Student Honor Council National Merit Finalist Several state and local wrestling awards School Book Award \n",
       "6                                                                                                                                                                                                                                                                                                                                                                                                                                                                                            \n",
       "  canAfford female MinorityGender MinorityRace international firstinfamily\n",
       "1         0      1             -1           -1            -1            NA\n",
       "2         0     -1             -1           -1            -1            NA\n",
       "3         0      1             -1            1            -1            NA\n",
       "4         0     -1             -1           -1            -1            NA\n",
       "5         0     -1             -1           -1            -1            NA\n",
       "6         0      1             -1           -1             1            NA\n",
       "  sports artist workexp collegeID earlyAppl visited alumni outofstate\n",
       "1     -1     NA      NA      Rice        -1      NA     -1         -1\n",
       "2     -1     NA      NA      Rice        -1      NA     -1          1\n",
       "3     -1     NA      NA      Rice        -1      NA     -1          1\n",
       "4     -1     NA      NA      Rice        -1      NA     -1          1\n",
       "5     -1     NA      NA      Rice         1      NA     -1          1\n",
       "6     -1     NA      NA      Rice        -1      NA     -1          1\n",
       "  acceptStatus acceptProb name acceptrate size public finAidPct instatePct\n",
       "1            1         NA Rice      0.151 6621     -1         0          0\n",
       "2            1         NA Rice      0.151 6621     -1         0          0\n",
       "3           -1         NA Rice      0.151 6621     -1         0          0\n",
       "4           -1         NA Rice      0.151 6621     -1         0          0\n",
       "5            1         NA Rice      0.151 6621     -1         0          0\n",
       "6            0         NA Rice      0.151 6621     -1         0          0\n"
      ]
     },
     "metadata": {},
     "output_type": "display_data"
    }
   ],
   "source": [
    "%%R\n",
    "# dftouse = read.csv(\"collegedata_normalized.csv\",header=T)\n",
    "head(dftouse)"
   ]
  },
  {
   "cell_type": "code",
   "execution_count": null,
   "metadata": {
    "collapsed": true
   },
   "outputs": [],
   "source": []
  }
 ],
 "metadata": {
  "kernelspec": {
   "display_name": "Python 2",
   "language": "python",
   "name": "python2"
  },
  "language_info": {
   "codemirror_mode": {
    "name": "ipython",
    "version": 2
   },
   "file_extension": ".py",
   "mimetype": "text/x-python",
   "name": "python",
   "nbconvert_exporter": "python",
   "pygments_lexer": "ipython2",
   "version": "2.7.10"
  }
 },
 "nbformat": 4,
 "nbformat_minor": 0
}
