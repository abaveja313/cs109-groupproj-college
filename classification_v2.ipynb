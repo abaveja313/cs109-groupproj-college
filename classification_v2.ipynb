{
 "cells": [
  {
   "cell_type": "code",
   "execution_count": 1,
   "metadata": {
    "collapsed": true
   },
   "outputs": [],
   "source": [
    "import TIdatabase as ti\n",
    "%matplotlib inline \n",
    "import numpy as np\n",
    "import pandas as pd\n",
    "import scipy.stats as stats\n",
    "import matplotlib.pyplot as plt\n",
    "import sklearn\n",
    "import statsmodels.api as sm\n",
    "import seaborn as sns\n",
    "sns.set_style(\"whitegrid\")\n",
    "sns.set_context(\"poster\")\n",
    "from matplotlib import rcParams\n",
    "%reload_ext rpy2.ipython\n",
    "from rpy2.robjects import pandas2ri"
   ]
  },
  {
   "cell_type": "markdown",
   "metadata": {},
   "source": [
    "Read the data in R. "
   ]
  },
  {
   "cell_type": "code",
   "execution_count": 2,
   "metadata": {
    "collapsed": false
   },
   "outputs": [
    {
     "data": {
      "text/plain": [
       "  X  studentID classrank admissionstest AP averageAP SATsubject        GPA\n",
       "1 0 PWY05BUB4I        NA      0.9268992  7  1.067339  0.3242716 -0.1871100\n",
       "2 1 3UVDFVI9Z0        NA      0.2930540  7  0.660575 -0.4407769  0.4934737\n",
       "       GPA_w                program schooltype intendedgradyear\n",
       "1 0.05994704 Biomedical engineering          0             2017\n",
       "2 0.39894377               Classics          0             2013\n",
       "                                                                                                                                                                                                                                                                                                                                                                                                                                                                                      addInfo\n",
       "1                                                                                                  Basketball outside of school violin cancer awareness club founder red cross club vp orchestra leadership council religious education teacher ecoteens engineering dept of Plano internNational merit finalist national ap scholar 2nd place in 3 point contest at National Ismaili Sports Tournament Pan American Spanish forumNo special circumstances good interview and recommendations\n",
       "2 Brain Bowl President and Captain 3 years Mu Alpha Theta Pres VP Comp Coordinator 4 years member 6 years NJHS NHS member in good standing 6 years Latin Club President and comp coordinator tutor for hundreds of hoursNational Merit Finalist AP Scholar with Distinction Lots of Latin awards Brain Bowl Top Scorer awards Academic Letter awardOther high AP scores one great and one pretty good rec Essays range from great at some places to terrible at others depended on the prompt\n",
       "  canAfford female MinorityGender MinorityRace international firstinfamily\n",
       "1         0      1              0            0             0            NA\n",
       "2         0      0              0            0             0            NA\n",
       "  sports artist workexp collegeID earlyAppl visited alumni outofstate\n",
       "1      0     NA      NA      Rice         0      NA      0          0\n",
       "2      0     NA      NA      Rice         0      NA      0          1\n",
       "  acceptStatus acceptProb name acceptrate size public finAidPct instatePct\n",
       "1            1         NA Rice      0.151 6621      0         0          0\n",
       "2            1         NA Rice      0.151 6621      0         0          0\n"
      ]
     },
     "metadata": {},
     "output_type": "display_data"
    }
   ],
   "source": [
    "%%R\n",
    "dftouse = read.csv(\"collegedata_normalized.csv\",header=T)\n",
    "head(dftouse,2)"
   ]
  },
  {
   "cell_type": "code",
   "execution_count": null,
   "metadata": {
    "collapsed": false
   },
   "outputs": [],
   "source": [
    "%%R \n",
    "library(\"mice\") # imputation package\n",
    "library(\"randomForest\") # random forest package\n",
    "library(\"e1071\") # svm package\n",
    "# # impute data\n",
    "# y=mice(dftouse)\n",
    "# # logistic regression\n",
    "# log_reg = glm(acceptStatus ~., data=complete(y), family=binomial(link=\"logit\"))\n",
    "# log_reg$fitted.values\n",
    "# # random forest\n",
    "# rf = randomForest(acceptStatus ~., data=complete(y))\n",
    "# rf$predicted\n",
    "# # svm\n",
    "# dsvm = svm(acceptStatus~., data=complete(y),probability=T)\n",
    "# dsvm$probA\n",
    "# predict(dsvm,complete(y))"
   ]
  },
  {
   "cell_type": "code",
   "execution_count": null,
   "metadata": {
    "collapsed": true
   },
   "outputs": [],
   "source": []
  }
 ],
 "metadata": {
  "kernelspec": {
   "display_name": "Python 2",
   "language": "python",
   "name": "python2"
  },
  "language_info": {
   "codemirror_mode": {
    "name": "ipython",
    "version": 2
   },
   "file_extension": ".py",
   "mimetype": "text/x-python",
   "name": "python",
   "nbconvert_exporter": "python",
   "pygments_lexer": "ipython2",
   "version": "2.7.10"
  }
 },
 "nbformat": 4,
 "nbformat_minor": 0
}
