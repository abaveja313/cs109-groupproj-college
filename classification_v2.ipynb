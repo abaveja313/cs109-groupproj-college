{
 "cells": [
  {
   "cell_type": "markdown",
   "metadata": {},
   "source": [
    "# Classification Code\n",
    "\n",
    "The aim of this is to use the normalised college data to train a model that predicts the likelihood of college acceptance, given several factors. Some factors have to do with the student (e.g. GPA, minority), and some have to do with the college (e.g. acceptance rate, private/public). Together, these predictors should fit a model that returns probability of being accepted by a college. "
   ]
  },
  {
   "cell_type": "markdown",
   "metadata": {},
   "source": [
    "Load required packages. "
   ]
  },
  {
   "cell_type": "code",
   "execution_count": 17,
   "metadata": {
    "collapsed": true
   },
   "outputs": [],
   "source": [
    "import TIdatabase as ti\n",
    "%matplotlib inline \n",
    "import numpy as np\n",
    "import pandas as pd\n",
    "import scipy.stats as stats\n",
    "import matplotlib.pyplot as plt\n",
    "import sklearn\n",
    "import statsmodels.api as sm\n",
    "import seaborn as sns\n",
    "sns.set_style(\"whitegrid\")\n",
    "sns.set_context(\"poster\")\n",
    "from matplotlib import rcParams\n",
    "from sklearn.cross_validation import train_test_split\n",
    "from sklearn import linear_model\n",
    "from sklearn import svm\n",
    "from sklearn.preprocessing import Imputer\n",
    "from sklearn import metrics\n",
    "from sklearn.cross_validation import cross_val_score\n",
    "from sklearn.ensemble import RandomForestClassifier\n",
    "from sklearn.tree import DecisionTreeClassifier\n",
    "from sklearn.neighbors import KNeighborsClassifier"
   ]
  },
  {
   "cell_type": "markdown",
   "metadata": {},
   "source": [
    "### Data Cleaning & Checking\n",
    "\n",
    "We read in the normalized data. "
   ]
  },
  {
   "cell_type": "code",
   "execution_count": 2,
   "metadata": {
    "collapsed": false
   },
   "outputs": [
    {
     "data": {
      "text/html": [
       "<div>\n",
       "<table border=\"1\" class=\"dataframe\">\n",
       "  <thead>\n",
       "    <tr style=\"text-align: right;\">\n",
       "      <th></th>\n",
       "      <th>studentID</th>\n",
       "      <th>classrank</th>\n",
       "      <th>admissionstest</th>\n",
       "      <th>AP</th>\n",
       "      <th>averageAP</th>\n",
       "      <th>SATsubject</th>\n",
       "      <th>GPA</th>\n",
       "      <th>GPA_w</th>\n",
       "      <th>program</th>\n",
       "      <th>schooltype</th>\n",
       "      <th>...</th>\n",
       "      <th>alumni</th>\n",
       "      <th>outofstate</th>\n",
       "      <th>acceptStatus</th>\n",
       "      <th>acceptProb</th>\n",
       "      <th>name</th>\n",
       "      <th>acceptrate</th>\n",
       "      <th>size</th>\n",
       "      <th>public</th>\n",
       "      <th>finAidPct</th>\n",
       "      <th>instatePct</th>\n",
       "    </tr>\n",
       "  </thead>\n",
       "  <tbody>\n",
       "    <tr>\n",
       "      <th>0</th>\n",
       "      <td>S50C3UECT8</td>\n",
       "      <td>NaN</td>\n",
       "      <td>0.838909</td>\n",
       "      <td>7</td>\n",
       "      <td>1.067927</td>\n",
       "      <td>3</td>\n",
       "      <td>-0.188104</td>\n",
       "      <td>0.059072</td>\n",
       "      <td>Biomedical engineering</td>\n",
       "      <td>0</td>\n",
       "      <td>...</td>\n",
       "      <td>0</td>\n",
       "      <td>0</td>\n",
       "      <td>1</td>\n",
       "      <td>NaN</td>\n",
       "      <td>Rice</td>\n",
       "      <td>0.151</td>\n",
       "      <td>6621</td>\n",
       "      <td>0</td>\n",
       "      <td>0</td>\n",
       "      <td>0</td>\n",
       "    </tr>\n",
       "    <tr>\n",
       "      <th>1</th>\n",
       "      <td>GBWZQQRBEV</td>\n",
       "      <td>NaN</td>\n",
       "      <td>0.666993</td>\n",
       "      <td>7</td>\n",
       "      <td>0.661638</td>\n",
       "      <td>2</td>\n",
       "      <td>0.493061</td>\n",
       "      <td>0.398012</td>\n",
       "      <td>Classics</td>\n",
       "      <td>0</td>\n",
       "      <td>...</td>\n",
       "      <td>0</td>\n",
       "      <td>1</td>\n",
       "      <td>1</td>\n",
       "      <td>NaN</td>\n",
       "      <td>Rice</td>\n",
       "      <td>0.151</td>\n",
       "      <td>6621</td>\n",
       "      <td>0</td>\n",
       "      <td>0</td>\n",
       "      <td>0</td>\n",
       "    </tr>\n",
       "    <tr>\n",
       "      <th>2</th>\n",
       "      <td>MXXLWO1HQ2</td>\n",
       "      <td>NaN</td>\n",
       "      <td>0.208552</td>\n",
       "      <td>0</td>\n",
       "      <td>NaN</td>\n",
       "      <td>3</td>\n",
       "      <td>0.395752</td>\n",
       "      <td>-1.035963</td>\n",
       "      <td>Biological Science</td>\n",
       "      <td>1</td>\n",
       "      <td>...</td>\n",
       "      <td>0</td>\n",
       "      <td>1</td>\n",
       "      <td>0</td>\n",
       "      <td>NaN</td>\n",
       "      <td>Rice</td>\n",
       "      <td>0.151</td>\n",
       "      <td>6621</td>\n",
       "      <td>0</td>\n",
       "      <td>0</td>\n",
       "      <td>0</td>\n",
       "    </tr>\n",
       "    <tr>\n",
       "      <th>3</th>\n",
       "      <td>5KSL7C8SLZ</td>\n",
       "      <td>NaN</td>\n",
       "      <td>1.297350</td>\n",
       "      <td>7</td>\n",
       "      <td>0.864783</td>\n",
       "      <td>4</td>\n",
       "      <td>0.103824</td>\n",
       "      <td>-0.384156</td>\n",
       "      <td>Physics</td>\n",
       "      <td>1</td>\n",
       "      <td>...</td>\n",
       "      <td>0</td>\n",
       "      <td>1</td>\n",
       "      <td>0</td>\n",
       "      <td>NaN</td>\n",
       "      <td>Rice</td>\n",
       "      <td>0.151</td>\n",
       "      <td>6621</td>\n",
       "      <td>0</td>\n",
       "      <td>0</td>\n",
       "      <td>0</td>\n",
       "    </tr>\n",
       "    <tr>\n",
       "      <th>4</th>\n",
       "      <td>RQWLNGGZ49</td>\n",
       "      <td>NaN</td>\n",
       "      <td>0.323162</td>\n",
       "      <td>1</td>\n",
       "      <td>-0.354087</td>\n",
       "      <td>2</td>\n",
       "      <td>0.541716</td>\n",
       "      <td>NaN</td>\n",
       "      <td>NaN</td>\n",
       "      <td>1</td>\n",
       "      <td>...</td>\n",
       "      <td>0</td>\n",
       "      <td>1</td>\n",
       "      <td>1</td>\n",
       "      <td>NaN</td>\n",
       "      <td>Rice</td>\n",
       "      <td>0.151</td>\n",
       "      <td>6621</td>\n",
       "      <td>0</td>\n",
       "      <td>0</td>\n",
       "      <td>0</td>\n",
       "    </tr>\n",
       "  </tbody>\n",
       "</table>\n",
       "<p>5 rows × 34 columns</p>\n",
       "</div>"
      ],
      "text/plain": [
       "    studentID  classrank  admissionstest  AP  averageAP  SATsubject       GPA  \\\n",
       "0  S50C3UECT8        NaN        0.838909   7   1.067927           3 -0.188104   \n",
       "1  GBWZQQRBEV        NaN        0.666993   7   0.661638           2  0.493061   \n",
       "2  MXXLWO1HQ2        NaN        0.208552   0        NaN           3  0.395752   \n",
       "3  5KSL7C8SLZ        NaN        1.297350   7   0.864783           4  0.103824   \n",
       "4  RQWLNGGZ49        NaN        0.323162   1  -0.354087           2  0.541716   \n",
       "\n",
       "      GPA_w                 program  schooltype     ...      alumni  \\\n",
       "0  0.059072  Biomedical engineering           0     ...           0   \n",
       "1  0.398012                Classics           0     ...           0   \n",
       "2 -1.035963      Biological Science           1     ...           0   \n",
       "3 -0.384156                 Physics           1     ...           0   \n",
       "4       NaN                     NaN           1     ...           0   \n",
       "\n",
       "  outofstate  acceptStatus  acceptProb  name  acceptrate  size  public  \\\n",
       "0          0             1         NaN  Rice       0.151  6621       0   \n",
       "1          1             1         NaN  Rice       0.151  6621       0   \n",
       "2          1             0         NaN  Rice       0.151  6621       0   \n",
       "3          1             0         NaN  Rice       0.151  6621       0   \n",
       "4          1             1         NaN  Rice       0.151  6621       0   \n",
       "\n",
       "   finAidPct  instatePct  \n",
       "0          0           0  \n",
       "1          0           0  \n",
       "2          0           0  \n",
       "3          0           0  \n",
       "4          0           0  \n",
       "\n",
       "[5 rows x 34 columns]"
      ]
     },
     "execution_count": 2,
     "metadata": {},
     "output_type": "execute_result"
    }
   ],
   "source": [
    "df = pd.read_csv(\"collegedata_normalized.csv\", index_col=0)\n",
    "df.head()"
   ]
  },
  {
   "cell_type": "markdown",
   "metadata": {},
   "source": [
    "Then we check how much of the data is missing. The cell below shows that 23% of all entries are null. This is way too high. "
   ]
  },
  {
   "cell_type": "code",
   "execution_count": 3,
   "metadata": {
    "collapsed": false
   },
   "outputs": [
    {
     "name": "stdout",
     "output_type": "stream",
     "text": [
      "Fraction nulls =  0.232593074511\n"
     ]
    }
   ],
   "source": [
    "x = df.isnull().sum(axis=1).tolist()\n",
    "y = float(sum(x)) / (df.shape[0]*df.shape[1])\n",
    "print 'Fraction nulls = ', y"
   ]
  },
  {
   "cell_type": "markdown",
   "metadata": {},
   "source": [
    "To decrease the proportion of NaNs, we get rid of columns which are almost all null. From the `df.head()` above, it appears like some columns have almost exclusively nulls. Therefore the 23% above is probably driven mainly by columns that are basically all null. To see this, we print and plot the % null values for each column. We see the histogram is very bimodal. "
   ]
  },
  {
   "cell_type": "code",
   "execution_count": 4,
   "metadata": {
    "collapsed": false
   },
   "outputs": [
    {
     "data": {
      "image/png": "[encoded data removed]",
      "text/plain": [
       "<matplotlib.figure.Figure at 0x105e2b610>"
      ]
     },
     "metadata": {},
     "output_type": "display_data"
    }
   ],
   "source": [
    "percentnulls = {}\n",
    "for i in range(len(df.columns)):\n",
    "    percentnulls[df.columns[i]] = 100.0 * df[df.columns[i]].isnull().sum() / len(df[df.columns[i]])\n",
    "    \n",
    "# plt.barh(range(len(df.columns)),percentnulls.values(), align=\"center\")\n",
    "# plt.ylim([0,20])\n",
    "# plt.yticks(range(len(df.columns)), percentnulls.keys())\n",
    "# plt.ylabel(\"feature\")\n",
    "# plt.xlabel(\"% nulls\")\n",
    "# plt.title(\"% Nulls Per Feature\")\n",
    "# plt.show()\n",
    "\n",
    "# plt.scatter(range(len(df.columns)),percentnulls.values(),s=100)\n",
    "# plt.tick_params(axis='x',which='both',bottom='off',top='off',labelbottom='off')\n",
    "# plt.ylabel(\"% null values\")\n",
    "# plt.title(\"Proportion of Null Values By Feature\")\n",
    "# plt.show()\n",
    "\n",
    "fig, axes = plt.subplots(nrows=1, ncols=1, figsize = (16,4))\n",
    "plt.hist(percentnulls.values(),bins=20,alpha=0.7,edgecolor=\"white\")\n",
    "plt.xlabel(\"% null values in feature\")\n",
    "plt.ylabel(\"Number of features\")\n",
    "plt.title(\"% Null Values Per Feature\")\n",
    "plt.gca().xaxis.grid(True,color='0.95')\n",
    "plt.gca().yaxis.grid(True,color='0.95')\n",
    "plt.tight_layout()\n",
    "plt.show()"
   ]
  },
  {
   "cell_type": "code",
   "execution_count": 5,
   "metadata": {
    "collapsed": false
   },
   "outputs": [
    {
     "data": {
      "text/plain": [
       "['addInfo']"
      ]
     },
     "execution_count": 5,
     "metadata": {},
     "output_type": "execute_result"
    }
   ],
   "source": [
    "[i for i in percentnulls.keys() if percentnulls[i] > 20 and percentnulls[i] < 80]"
   ]
  },
  {
   "cell_type": "markdown",
   "metadata": {},
   "source": [
    "The histogram shows us that (apart from the `addInfo` feature), if a feature has $>50%$ missing values, it has $>80%$ null values, and if there are $<50%$ nulls, there are $<20%$ null values. This means if we remove columns with $>50%$ missing data, we will be removing most of the nulls in the data frame, and it won't actually remove much information. As for the `addInfo` feature, this is additional information about the candidate, and at this stage we are not using it in the model. "
   ]
  },
  {
   "cell_type": "markdown",
   "metadata": {},
   "source": [
    "We thus remove any column that has 50% or more null values. This takes out any predictors that would have been useless anyway. "
   ]
  },
  {
   "cell_type": "code",
   "execution_count": 6,
   "metadata": {
    "collapsed": false
   },
   "outputs": [
    {
     "name": "stdout",
     "output_type": "stream",
     "text": [
      "Columns to drop:  ['classrank', 'canAfford', 'firstinfamily', 'artist', 'workexp', 'visited', 'acceptProb']\n"
     ]
    }
   ],
   "source": [
    "cols_to_drop = []\n",
    "for i in df.columns:\n",
    "    if 1.0* df[i].isnull().sum() / len(df[i]) >= 0.5:\n",
    "        cols_to_drop.append(i)\n",
    "print \"Columns to drop: \", cols_to_drop\n",
    "dfr = df.drop(cols_to_drop,axis=1)"
   ]
  },
  {
   "cell_type": "markdown",
   "metadata": {},
   "source": [
    "We also drop all columns where the accept status is NaN. These are of course useless as well."
   ]
  },
  {
   "cell_type": "code",
   "execution_count": 7,
   "metadata": {
    "collapsed": true
   },
   "outputs": [],
   "source": [
    "dfr = dfr[pd.notnull(df[\"acceptStatus\"])]"
   ]
  },
  {
   "cell_type": "code",
   "execution_count": 8,
   "metadata": {
    "collapsed": false
   },
   "outputs": [
    {
     "name": "stdout",
     "output_type": "stream",
     "text": [
      "Fraction nulls =  0.0315301778112\n"
     ]
    }
   ],
   "source": [
    "x = dfr.isnull().sum(axis=1).tolist()\n",
    "y = float(sum(x)) / (dfr.shape[0]*dfr.shape[1])\n",
    "print 'Fraction nulls = ', y"
   ]
  },
  {
   "cell_type": "markdown",
   "metadata": {},
   "source": [
    "Now we have only 3% null values. Good! The next step is to choose which columns we want to use to predict. Obviously columns like `studentID`, while crucial, are not actually predictors. Also, we remove weighted GPA in favour of GPA, as we have already normalised everything. "
   ]
  },
  {
   "cell_type": "code",
   "execution_count": 9,
   "metadata": {
    "collapsed": false
   },
   "outputs": [
    {
     "name": "stdout",
     "output_type": "stream",
     "text": [
      "Index([u'studentID', u'admissionstest', u'AP', u'averageAP', u'SATsubject',\n",
      "       u'GPA', u'GPA_w', u'program', u'schooltype', u'intendedgradyear',\n",
      "       u'addInfo', u'female', u'MinorityGender', u'MinorityRace',\n",
      "       u'international', u'sports', u'collegeID', u'earlyAppl', u'alumni',\n",
      "       u'outofstate', u'acceptStatus', u'name', u'acceptrate', u'size',\n",
      "       u'public', u'finAidPct', u'instatePct'],\n",
      "      dtype='object')\n"
     ]
    }
   ],
   "source": [
    "print dfr.columns\n",
    "predictor_cols = [\"admissionstest\",\"AP\",\"averageAP\",\"SATsubject\",\"GPA\",\"schooltype\",\"intendedgradyear\",\"female\",\"MinorityRace\",\"international\",\"sports\",\"earlyAppl\",\"alumni\",\"outofstate\",\"acceptrate\",\"size\",\"public\",\"finAidPct\",\"instatePct\"]\n",
    "dfpredict = dfr[predictor_cols]\n",
    "dfresponse = dfr[\"acceptStatus\"]"
   ]
  },
  {
   "cell_type": "code",
   "execution_count": 10,
   "metadata": {
    "collapsed": false
   },
   "outputs": [
    {
     "data": {
      "text/plain": [
       "Index([u'admissionstest', u'AP', u'averageAP', u'SATsubject', u'GPA',\n",
       "       u'schooltype', u'intendedgradyear', u'female', u'MinorityRace',\n",
       "       u'international', u'sports', u'earlyAppl', u'alumni', u'outofstate',\n",
       "       u'acceptrate', u'size', u'public', u'finAidPct', u'instatePct'],\n",
       "      dtype='object')"
      ]
     },
     "execution_count": 10,
     "metadata": {},
     "output_type": "execute_result"
    }
   ],
   "source": [
    "dfpredict.columns"
   ]
  },
  {
   "cell_type": "markdown",
   "metadata": {},
   "source": [
    "The code below demonstrates that if we remove all the rows with ANY nulls in it, we reduce our dataset from 13k to 11k. This reduces our dataset too much. So we will impute the missing values. We initially tried to do this using the `mice` package in R, but there does not seem to be an equivalent in Python. Since the % of nulls is just 4%, it shouldn't matter too much what method we use. Since some of the variables are factor, not numerical, we can't use mean or media. We are looking into KNN imputation, but for the time being, just use median. As stated, it shouldn't matter too much what method we use. "
   ]
  },
  {
   "cell_type": "code",
   "execution_count": 11,
   "metadata": {
    "collapsed": false
   },
   "outputs": [
    {
     "name": "stdout",
     "output_type": "stream",
     "text": [
      "(10917, 19)\n",
      "(13310, 19)\n"
     ]
    }
   ],
   "source": [
    "print dfpredict.dropna(axis=0,how=\"any\").shape\n",
    "print dfpredict.shape"
   ]
  },
  {
   "cell_type": "code",
   "execution_count": 12,
   "metadata": {
    "collapsed": false
   },
   "outputs": [
    {
     "data": {
      "text/plain": [
       "((13310, 19), (13310,))"
      ]
     },
     "execution_count": 12,
     "metadata": {},
     "output_type": "execute_result"
    }
   ],
   "source": [
    "imp = Imputer(missing_values=\"NaN\", strategy=\"median\", axis=1)\n",
    "imp.fit(dfpredict)\n",
    "X = imp.transform(dfpredict)\n",
    "y = dfresponse\n",
    "X.shape, y.shape"
   ]
  },
  {
   "cell_type": "markdown",
   "metadata": {},
   "source": [
    "Next, we create a training and test data set. The training data will be used to fit the model and the test data to test the model accuracy. "
   ]
  },
  {
   "cell_type": "code",
   "execution_count": 13,
   "metadata": {
    "collapsed": false
   },
   "outputs": [
    {
     "name": "stdout",
     "output_type": "stream",
     "text": [
      "(10648, 19) (2662, 19) (10648,) (2662,)\n"
     ]
    }
   ],
   "source": [
    "X_train, X_test, y_train, y_test = train_test_split(X, y, test_size=0.2)\n",
    "print X_train.shape, X_test.shape, y_train.shape, y_test.shape\n",
    "#X_train, X_validate, y_train, y_validate = train_test_split(X1, y1, test_size=0.25)\n",
    "#print X_train.shape, X_validate.shape, X_test.shape, y_train.shape, y_validate.shape, y_test.shape"
   ]
  },
  {
   "cell_type": "markdown",
   "metadata": {},
   "source": [
    "### Baselines\n",
    "Let's start with evaluating our starting point. What accuracy do we get with the uttermost simple classifier: predicting that all students get accepted (or all students get rejected). Whichever of these is the highest, will be our accuracy to beat. "
   ]
  },
  {
   "cell_type": "code",
   "execution_count": 31,
   "metadata": {
    "collapsed": false
   },
   "outputs": [
    {
     "name": "stdout",
     "output_type": "stream",
     "text": [
      "Accuracy when predicting all accepted =  0.390683696469\n",
      "Accuracy when predicting all rejected =  0.609316303531\n"
     ]
    }
   ],
   "source": [
    "# predict all accepted\n",
    "print 'Accuracy when predicting all accepted = ', metrics.accuracy_score(y_test, np.ones(y_test.shape))\n",
    "# predict all rejected\n",
    "print 'Accuracy when predicting all rejected = ', metrics.accuracy_score(y_test,np.zeros(y_test.shape))"
   ]
  },
  {
   "cell_type": "markdown",
   "metadata": {},
   "source": [
    "Our baseline is thus an accuracy of 60%, when we predict that no one gets accepted to their universities.  "
   ]
  },
  {
   "cell_type": "markdown",
   "metadata": {},
   "source": [
    "### Logistic Regression\n",
    "\n",
    "We start with a logistic regression. We use cross validation to choose the hyperparameter c. The score for each c is the mean of the scores from the cross validation folds and is stored in a dictionary. "
   ]
  },
  {
   "cell_type": "code",
   "execution_count": 14,
   "metadata": {
    "collapsed": false
   },
   "outputs": [],
   "source": [
    "cdict = {}\n",
    "for c in [0.001,0.01,0.1,1,10,100,1000]:\n",
    "    clf = linear_model.LogisticRegression(C=c)\n",
    "    #clf.fit(X_train,y_train)\n",
    "    #predicted = clf.predict(X_validate)\n",
    "    #cdict[c] = metrics.accuracy_score(y_validate, predicted)\n",
    "    scores = cross_val_score(clf, X_train, y_train, scoring='accuracy', cv=5)\n",
    "    cdict[c] = scores.mean()"
   ]
  },
  {
   "cell_type": "markdown",
   "metadata": {},
   "source": [
    "We pick the c value with highest accuracy and fit the model using this value. "
   ]
  },
  {
   "cell_type": "code",
   "execution_count": 68,
   "metadata": {
    "collapsed": false
   },
   "outputs": [
    {
     "name": "stdout",
     "output_type": "stream",
     "text": [
      "{1: 0.71299907161774467, 100: 0.66247381895884472, 0.1: 0.68689115434740899, 1000: 0.62950941282578832, 10: 0.69909957947150569, 0.001: 0.6221826024252608, 0.01: 0.6221826024252608}\n",
      "Best parameter:  1 0.712999071618\n",
      "Accuracy on test set:  0.661908339594\n"
     ]
    }
   ],
   "source": [
    "print cdict\n",
    "best_c = max(cdict, key=cdict.get)\n",
    "print 'Best parameter: ', best_c, cdict[best_c]\n",
    "clf = linear_model.LogisticRegression(C=best_c)\n",
    "clf.fit(X_train,y_train)\n",
    "predicted = clf.predict(X_test)\n",
    "print 'Accuracy on test set: ',metrics.accuracy_score(y_test, predicted) "
   ]
  },
  {
   "cell_type": "markdown",
   "metadata": {},
   "source": [
    "We got ~66% accuracy. Not bad, but different models may be able to do better. "
   ]
  },
  {
   "cell_type": "markdown",
   "metadata": {},
   "source": [
    "### Random Forest\n",
    "\n",
    "Now we try a random forest, and follow the same procedure as before to choose the number of trees."
   ]
  },
  {
   "cell_type": "code",
   "execution_count": 69,
   "metadata": {
    "collapsed": false
   },
   "outputs": [],
   "source": [
    "ntdict = {}\n",
    "for nt in [100,250,500,1000,2500]:\n",
    "    clf = RandomForestClassifier(n_estimators=nt,criterion=\"gini\")\n",
    "    #clf.fit(X_train,y_train)\n",
    "    #predicted = clf.predict(X_validate)\n",
    "    #ntdict[nt] = metrics.accuracy_score(y_validate, predicted)\n",
    "    scores = cross_val_score(clf, X_train, y_train, cv=5)\n",
    "    ntdict[nt] = scores.mean()"
   ]
  },
  {
   "cell_type": "code",
   "execution_count": 70,
   "metadata": {
    "collapsed": false
   },
   "outputs": [
    {
     "name": "stdout",
     "output_type": "stream",
     "text": [
      "{1000: 0.73140600295053559, 500: 0.73206319173850054, 250: 0.73065456461959477, 100: 0.7273676062953579, 2500: 0.73103006326671471}\n",
      "Best parameter:  500 0.732063191739\n",
      "Accuracy on test set:  0.732907588279\n"
     ]
    }
   ],
   "source": [
    "print ntdict\n",
    "best_nt = max(ntdict, key=ntdict.get)\n",
    "print 'Best parameter: ',best_nt, ntdict[best_nt]\n",
    "clf = RandomForestClassifier(n_estimators=nt)\n",
    "clf.fit(X_train,y_train)\n",
    "predicted = clf.predict(X_test)\n",
    "print 'Accuracy on test set: ',metrics.accuracy_score(y_test,predicted)"
   ]
  },
  {
   "cell_type": "markdown",
   "metadata": {},
   "source": [
    "We repeat the random forst, but now using `entropy` instead of `gini`."
   ]
  },
  {
   "cell_type": "code",
   "execution_count": 76,
   "metadata": {
    "collapsed": false
   },
   "outputs": [
    {
     "name": "stdout",
     "output_type": "stream",
     "text": [
      "{1000: 0.73337823086948184, 2500: 0.73149950273111985, 250: 0.73253210195886453, 500: 0.73187566293329098, 5000: 0.73290835036837587}\n",
      "Best parameter:  1000 0.733378230869\n",
      "Accuracy on test set:  0.736664162284\n"
     ]
    }
   ],
   "source": [
    "ntdict = {}\n",
    "for nt in [250,500,1000,2500,5000]:\n",
    "    clf = RandomForestClassifier(n_estimators=nt,criterion=\"entropy\")\n",
    "    #clf.fit(X_train,y_train)\n",
    "    #predicted = clf.predict(X_validate)\n",
    "    #ntdict[nt] = metrics.accuracy_score(y_validate, predicted)\n",
    "    scores = cross_val_score(clf, X_train, y_train, cv=5)\n",
    "    ntdict[nt] = scores.mean()\n",
    "print ntdict\n",
    "best_nt = max(ntdict, key=ntdict.get)\n",
    "print 'Best parameter: ',best_nt, ntdict[best_nt]\n",
    "clf = RandomForestClassifier(n_estimators=nt)\n",
    "clf.fit(X_train,y_train)\n",
    "predicted = clf.predict(X_test)\n",
    "print 'Accuracy on test set: ',metrics.accuracy_score(y_test,predicted)"
   ]
  },
  {
   "cell_type": "markdown",
   "metadata": {},
   "source": [
    "It appears `entropy` is pretty much the same as `gini`. This model gets about 73% accuracy, so is clearly better than logistic regression. \n",
    "Let's take a look at feature importance. "
   ]
  },
  {
   "cell_type": "code",
   "execution_count": 80,
   "metadata": {
    "collapsed": false
   },
   "outputs": [
    {
     "data": {
      "text/plain": [
       "19"
      ]
     },
     "execution_count": 80,
     "metadata": {},
     "output_type": "execute_result"
    }
   ],
   "source": [
    "len(dfpredict.columns)"
   ]
  },
  {
   "cell_type": "code",
   "execution_count": 77,
   "metadata": {
    "collapsed": false
   },
   "outputs": [
    {
     "ename": "IndexError",
     "evalue": "index 18 is out of bounds for axis 0 with size 18",
     "output_type": "error",
     "traceback": [
      "\u001b[0;31m---------------------------------------------------------------------------\u001b[0m",
      "\u001b[0;31mIndexError\u001b[0m                                Traceback (most recent call last)",
      "\u001b[0;32m<ipython-input-77-17a20ae65437>\u001b[0m in \u001b[0;36m<module>\u001b[0;34m()\u001b[0m\n\u001b[1;32m      2\u001b[0m \u001b[0mfeature_importance\u001b[0m \u001b[0;34m=\u001b[0m \u001b[0;34m{\u001b[0m\u001b[0;34m}\u001b[0m\u001b[0;34m\u001b[0m\u001b[0m\n\u001b[1;32m      3\u001b[0m \u001b[0;32mfor\u001b[0m \u001b[0mi\u001b[0m \u001b[0;32min\u001b[0m \u001b[0mrange\u001b[0m\u001b[0;34m(\u001b[0m\u001b[0mlen\u001b[0m\u001b[0;34m(\u001b[0m\u001b[0mdfpredict\u001b[0m\u001b[0;34m.\u001b[0m\u001b[0mcolumns\u001b[0m\u001b[0;34m)\u001b[0m\u001b[0;34m)\u001b[0m\u001b[0;34m:\u001b[0m\u001b[0;34m\u001b[0m\u001b[0m\n\u001b[0;32m----> 4\u001b[0;31m     \u001b[0mfeature_importance\u001b[0m\u001b[0;34m[\u001b[0m\u001b[0mdfpredict\u001b[0m\u001b[0;34m.\u001b[0m\u001b[0mcolumns\u001b[0m\u001b[0;34m[\u001b[0m\u001b[0mi\u001b[0m\u001b[0;34m]\u001b[0m\u001b[0;34m]\u001b[0m \u001b[0;34m=\u001b[0m \u001b[0mclf\u001b[0m\u001b[0;34m.\u001b[0m\u001b[0mfeature_importances_\u001b[0m\u001b[0;34m[\u001b[0m\u001b[0mi\u001b[0m\u001b[0;34m]\u001b[0m\u001b[0;34m\u001b[0m\u001b[0m\n\u001b[0m\u001b[1;32m      5\u001b[0m \u001b[0;31m# plot sorted importances\u001b[0m\u001b[0;34m\u001b[0m\u001b[0;34m\u001b[0m\u001b[0m\n\u001b[1;32m      6\u001b[0m \u001b[0msns\u001b[0m\u001b[0;34m.\u001b[0m\u001b[0mset_style\u001b[0m\u001b[0;34m(\u001b[0m\u001b[0;34m\"white\"\u001b[0m\u001b[0;34m)\u001b[0m\u001b[0;34m\u001b[0m\u001b[0m\n",
      "\u001b[0;31mIndexError\u001b[0m: index 18 is out of bounds for axis 0 with size 18"
     ]
    }
   ],
   "source": [
    "# create dictionary of feature importances\n",
    "feature_importance = {}\n",
    "for i in range(len(dfpredict.columns)):\n",
    "    feature_importance[dfpredict.columns[i]] = clf.feature_importances_[i]\n",
    "# plot sorted importances\n",
    "sns.set_style(\"white\")\n",
    "plt.barh(range(len(dfpredict.columns)),sorted(feature_importance.values()), align=\"center\",alpha=0.7,edgecolor='white')\n",
    "plt.ylim([0,20])\n",
    "plt.yticks(range(len(dfpredict.columns)), sorted(feature_importance,key=feature_importance.get))\n",
    "plt.ylabel(\"feature\")\n",
    "plt.xlabel(\"importance\")\n",
    "plt.title(\"Feature Importance\")\n",
    "plt.gca().yaxis.grid(False)\n",
    "plt.gca().xaxis.grid(True,color='0.95')\n",
    "plt.tight_layout()\n",
    "sns.despine()\n",
    "plt.show()"
   ]
  },
  {
   "cell_type": "markdown",
   "metadata": {},
   "source": [
    "The above plot shows that the admission test scores, the school's acceptance rate and the GPA score are the most important factors in the decision. This is as we expected and what most people think. "
   ]
  },
  {
   "cell_type": "markdown",
   "metadata": {},
   "source": [
    "### Decision Tree\n",
    "\n",
    "Below is a decision tree classifier. Its performance will probably be worse than that of the random forest, as it is in some sense just a subset of a random forest. "
   ]
  },
  {
   "cell_type": "code",
   "execution_count": 81,
   "metadata": {
    "collapsed": false
   },
   "outputs": [
    {
     "name": "stdout",
     "output_type": "stream",
     "text": [
      "Accuracy on test test: 0.64199849737\n"
     ]
    }
   ],
   "source": [
    "dt = DecisionTreeClassifier()\n",
    "dt.fit(X_train,y_train)\n",
    "predicted = dt.predict(X_test)\n",
    "print 'Accuracy on test test:', metrics.accuracy_score(y_test, predicted)"
   ]
  },
  {
   "cell_type": "markdown",
   "metadata": {},
   "source": [
    "This one got us only 68% accuracy, so again significantly worse than the random forest. So at this stage, random forest is still the best!"
   ]
  },
  {
   "cell_type": "markdown",
   "metadata": {},
   "source": [
    "### K Nearest Neighbours\n",
    "Now, let's see how a K-nearest neighbour classifier does."
   ]
  },
  {
   "cell_type": "code",
   "execution_count": 82,
   "metadata": {
    "collapsed": false
   },
   "outputs": [
    {
     "name": "stdout",
     "output_type": "stream",
     "text": [
      "{5: 0.67543297675516067, 10: 0.69167993084544521, 15: 0.69656335381948808, 20: 0.69863005179976057, 25: 0.69656388306352901, 30: 0.6974089093823943}\n",
      "Best parameter:  20 0.6986300518\n",
      "Accuracy on test set:  0.708865514651\n"
     ]
    }
   ],
   "source": [
    "kdict = {}\n",
    "for k in [5,10,15,20,25,30]:\n",
    "    clf = KNeighborsClassifier(n_neighbors=k)\n",
    "    scores = cross_val_score(clf, X_train, y_train, cv=5, scoring='accuracy')\n",
    "    kdict[k] = scores.mean()\n",
    "print kdict\n",
    "best_k = max(kdict, key=kdict.get)\n",
    "print 'Best parameter: ',best_k, kdict[best_k]\n",
    "clf = KNeighborsClassifier(n_neighbors=best_k)\n",
    "clf.fit(X_train,y_train)\n",
    "predicted = clf.predict(X_test)\n",
    "print 'Accuracy on test set: ', metrics.accuracy_score(y_test,predicted)"
   ]
  },
  {
   "cell_type": "code",
   "execution_count": 67,
   "metadata": {
    "collapsed": false
   },
   "outputs": [],
   "source": [
    "#graph = clf.kneighbors_graph(X_train)\n",
    "#nrows, _ = graph.shape\n",
    "#X_train\n",
    "#for i in range(nrows):"
   ]
  },
  {
   "cell_type": "markdown",
   "metadata": {},
   "source": [
    "This method performs second best to our random forest. "
   ]
  },
  {
   "cell_type": "markdown",
   "metadata": {},
   "source": [
    "### SVM\n",
    "\n",
    "Finally, we try a Linear SVM. "
   ]
  },
  {
   "cell_type": "code",
   "execution_count": 83,
   "metadata": {
    "collapsed": false
   },
   "outputs": [
    {
     "name": "stdout",
     "output_type": "stream",
     "text": [
      "{1: 0.57673659303558944, 100: 0.57333337743700341, 0.1: 0.43021330740037528, 1000: 0.52514173816974175, 10: 0.52497683454728683, 0.001: 0.57342731825428861, 0.01: 0.52488262910798122}\n",
      "Best parameter:  1 0.576736593036\n",
      "Accuracy on test set:  0.609316303531\n"
     ]
    }
   ],
   "source": [
    "cdict = {}\n",
    "for c in [0.001,0.01,0.1,1,10,100,1000]:\n",
    "    clf = svm.LinearSVC(loss=\"hinge\",C=c);\n",
    "    scores = cross_val_score(clf, X_train, y_train, cv=5, scoring='accuracy')\n",
    "    cdict[c] = scores.mean()\n",
    "print cdict\n",
    "best_c = max(cdict, key=cdict.get)\n",
    "print 'Best parameter: ', best_c, cdict[best_c]\n",
    "clf = svm.LinearSVC(loss=\"hinge\",C=best_c);\n",
    "clf.fit(X_train,y_train)\n",
    "predicted = clf.predict(X_test)\n",
    "print 'Accuracy on test set: ',metrics.accuracy_score(y_test,predicted)"
   ]
  },
  {
   "cell_type": "markdown",
   "metadata": {},
   "source": [
    "This one is our worst predictor, giving only 61% accuracy. This is barely better than the baseline, but this is maybe not that surprising. We should try a kernelized SVM. "
   ]
  },
  {
   "cell_type": "code",
   "execution_count": 84,
   "metadata": {
    "collapsed": false
   },
   "outputs": [
    {
     "name": "stdout",
     "output_type": "stream",
     "text": [
      "{1: 0.71299907161774467, 100: 0.66247381895884472, 0.1: 0.68689115434740899, 1000: 0.62950941282578832, 10: 0.69909957947150569, 0.001: 0.6221826024252608, 0.01: 0.6221826024252608}\n",
      "Best parameter:  1 0.712999071618\n",
      "Accuracy on test set:  0.718256949662\n"
     ]
    }
   ],
   "source": [
    "cdict = {}\n",
    "for c in [0.001,0.01,0.1,1,10,100,1000]:\n",
    "    clf = svm.SVC(C=c);\n",
    "    scores = cross_val_score(clf, X_train, y_train, cv=5, scoring='accuracy')\n",
    "    cdict[c] = scores.mean()\n",
    "print cdict\n",
    "best_c = max(cdict, key=cdict.get)\n",
    "print 'Best parameter: ',best_c, cdict[best_c]\n",
    "clf = svm.SVC(C=best_c);\n",
    "clf.fit(X_train,y_train)\n",
    "predicted = clf.predict(X_test)\n",
    "print 'Accuracy on test set: ',metrics.accuracy_score(y_test,predicted)"
   ]
  },
  {
   "cell_type": "markdown",
   "metadata": {},
   "source": [
    "The RBF SVM is doing very well! However, random forest is still better. "
   ]
  },
  {
   "cell_type": "markdown",
   "metadata": {},
   "source": [
    "### Adaboost"
   ]
  },
  {
   "cell_type": "code",
   "execution_count": 85,
   "metadata": {
    "collapsed": false
   },
   "outputs": [
    {
     "name": "stdout",
     "output_type": "stream",
     "text": [
      "{200: 0.72004167796823215, 50: 0.71863331547134701, 100: 0.72116901187932358, 250: 0.72051164667667822, 150: 0.72088714532379805}\n",
      "Best parameter:  100 0.721169011879\n",
      "Accuracy on test set:  0.727272727273\n"
     ]
    }
   ],
   "source": [
    "from sklearn.ensemble import AdaBoostClassifier\n",
    "ndict={}\n",
    "for n in [50,100,150,200,250]:\n",
    "    clf = AdaBoostClassifier(n_estimators=n);\n",
    "    scores = cross_val_score(clf, X_train, y_train, cv=5, scoring='accuracy')\n",
    "    ndict[n] = scores.mean()\n",
    "print ndict\n",
    "best_n = max(ndict, key=ndict.get)\n",
    "print 'Best parameter: ',best_n, ndict[best_n]\n",
    "clf = AdaBoostClassifier(n_estimators=best_n);\n",
    "clf.fit(X_train,y_train)\n",
    "predicted = clf.predict(X_test)\n",
    "print 'Accuracy on test set: ', metrics.accuracy_score(y_test,predicted)"
   ]
  },
  {
   "cell_type": "markdown",
   "metadata": {},
   "source": [
    "We are getting closer to our random forest accuracy, but in the end, it looks like random forest is the one!"
   ]
  },
  {
   "cell_type": "markdown",
   "metadata": {
    "collapsed": true
   },
   "source": [
    "### Dropping `Intended Graduation Year` As A Predictor\n",
    "\n",
    "Given that our data stretches back only as far as 2009 intended graduation year, it is worth seeing whether dropping `intendedgradyear` as a predictor will help. This assumes that the admissions regime at all of the top 25 colleges has not drastically changed over the last few years. \n",
    "\n",
    "The reason we are dropping this is because all people who use the site will input an intended graduation year of >2018, whereas all of our data has intended graduation year of 2009-2018. So using this as a feature would be extrapolation by definition, so is not entirely reliable. When we test the model on the test data, this data also has intended graduation year from 2009-2018, so this is not extrapolation. But using it as a feature in prediction is not ok, since it is extrapolation. \n",
    "\n",
    "Also, the extra few percentage of accuracy when we use intended graduation year may be overfitting on the training set. "
   ]
  },
  {
   "cell_type": "code",
   "execution_count": 15,
   "metadata": {
    "collapsed": false
   },
   "outputs": [
    {
     "name": "stdout",
     "output_type": "stream",
     "text": [
      "{100: 0.72943306937286789, 5: 0.69327648370259132, 1000: 0.73319092258262264, 10: 0.70736262258063809, 50: 0.7237047523909701, 500: 0.73009131664891491, 25: 0.7205105440849261, 250: 0.73187566293329109}\n",
      "1000 0.733190922583\n",
      "0.73328324568\n"
     ]
    }
   ],
   "source": [
    "dfpredict1 = dfpredict.drop(\"intendedgradyear\",axis=1)\n",
    "X = imp.transform(dfpredict1)\n",
    "y = dfresponse\n",
    "X_train, X_test, y_train, y_test = train_test_split(X, y, test_size=0.2)\n",
    "ntdict = {}\n",
    "for nt in [5,10,25,50,100,250,500,1000]:\n",
    "    clf = RandomForestClassifier(n_estimators=nt,criterion=\"gini\")\n",
    "    #clf.fit(X_train,y_train)\n",
    "    #predicted = clf.predict(X_validate)\n",
    "    #ntdict[nt] = metrics.accuracy_score(y_validate, predicted)\n",
    "    scores = cross_val_score(clf, X_train, y_train, cv=5)\n",
    "    ntdict[nt] = scores.mean()\n",
    "print ntdict\n",
    "best_nt = max(ntdict, key=ntdict.get)\n",
    "print 'Best parameter: ',best_nt, ntdict[best_nt]\n",
    "clf = RandomForestClassifier(n_estimators=nt)\n",
    "clf.fit(X_train,y_train)\n",
    "predicted = clf.predict(X_test)\n",
    "print 'Accuracy on test set: ', metrics.accuracy_score(y_test,predicted)"
   ]
  },
  {
   "cell_type": "markdown",
   "metadata": {},
   "source": [
    "### Test"
   ]
  },
  {
   "cell_type": "code",
   "execution_count": 43,
   "metadata": {
    "collapsed": false
   },
   "outputs": [
    {
     "name": "stdout",
     "output_type": "stream",
     "text": [
      "[{'college': 'Princeton', 'prob': 0.24399999999999999}, {'college': 'Harvard', 'prob': 0.20000000000000001}, {'college': 'Yale', 'prob': 0.19500000000000001}, {'college': 'Columbia', 'prob': 0.318}, {'college': 'Stanford', 'prob': 0.28299999999999997}, {'college': 'UChicago', 'prob': 0.41399999999999998}, {'college': 'MIT', 'prob': 0.215}, {'college': 'Duke', 'prob': 0.51100000000000001}, {'college': 'UPenn', 'prob': 0.30299999999999999}, {'college': 'CalTech', 'prob': 0.39200000000000002}, {'college': 'JohnsHopkins', 'prob': 0.56725000000000003}, {'college': 'Dartmouth', 'prob': 0.48699999999999999}, {'college': 'Northwestern', 'prob': 0.65389999999999993}, {'college': 'Brown', 'prob': 0.255}, {'college': 'Cornell', 'prob': 0.63200000000000001}, {'college': 'Vanderbilt', 'prob': 0.68799999999999994}, {'college': 'WashU', 'prob': 0.64424999999999999}, {'college': 'Rice', 'prob': 0.71299999999999997}, {'college': 'NotreDame', 'prob': 0.70199999999999996}, {'college': 'UCB', 'prob': 0.83299999999999996}, {'college': 'Emory', 'prob': 0.67600000000000005}, {'college': 'Georgetown', 'prob': 0.60799999999999998}, {'college': 'CarnegieMellon', 'prob': 0.77500000000000002}, {'college': 'UCLA', 'prob': 0.78900000000000003}, {'college': 'USC', 'prob': 0.74199999999999999}]\n"
     ]
    }
   ],
   "source": [
    "### test a candidate's chances for each college\n",
    "\n",
    "candidate = [0.926899206,7,1.06733864,\n",
    "             3,-0.187109979,0,1,\n",
    "             0,0,0,0,0,\n",
    "             0]\n",
    "\n",
    "college_cols = [\"acceptrate\",\"size\",\"public\",\"finAidPct\",\"instatePct\"]\n",
    "colleges = ti.College()\n",
    "preds = []\n",
    "for i, row in colleges.df.iterrows():\n",
    "    Xp1 = candidate + list(row[college_cols])\n",
    "    y = clf.predict_proba(Xp1)[0][1]\n",
    "    p =  {'college':row.collegeID, 'prob':y}\n",
    "    preds.append(p)\n",
    "    \n",
    "print preds   \n"
   ]
  },
  {
   "cell_type": "code",
   "execution_count": null,
   "metadata": {
    "collapsed": true
   },
   "outputs": [],
   "source": []
  }
 ],
 "metadata": {
  "kernelspec": {
   "display_name": "Python 2",
   "language": "python",
   "name": "python2"
  },
  "language_info": {
   "codemirror_mode": {
    "name": "ipython",
    "version": 2
   },
   "file_extension": ".py",
   "mimetype": "text/x-python",
   "name": "python",
   "nbconvert_exporter": "python",
   "pygments_lexer": "ipython2",
   "version": "2.7.10"
  }
 },
 "nbformat": 4,
 "nbformat_minor": 0
}
