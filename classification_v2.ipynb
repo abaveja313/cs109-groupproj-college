{
 "cells": [
  {
   "cell_type": "markdown",
   "metadata": {},
   "source": [
    "# Classification\n",
    "\n",
    "The aim of this is to use the normalised college data to train a model that predicts the likelihood of college acceptance, given several factors. Some factors have to do with the student (e.g. GPA, minority), and some have to do with the college (e.g. acceptance rate, private/public). Together, these predictors should fit a model that returns probability of being accepted by a college. "
   ]
  },
  {
   "cell_type": "markdown",
   "metadata": {},
   "source": [
    "Load required packages. "
   ]
  },
  {
   "cell_type": "code",
   "execution_count": 28,
   "metadata": {
    "collapsed": true
   },
   "outputs": [],
   "source": [
    "import TIdatabase as ti\n",
    "%matplotlib inline \n",
    "import numpy as np\n",
    "import pandas as pd\n",
    "import scipy.stats as stats\n",
    "import matplotlib.pyplot as plt\n",
    "import sklearn\n",
    "import statsmodels.api as sm\n",
    "import seaborn as sns\n",
    "sns.set_style(\"whitegrid\")\n",
    "sns.set_context(\"poster\")\n",
    "from matplotlib import rcParams\n",
    "from sklearn.cross_validation import train_test_split\n",
    "from sklearn import linear_model\n",
    "from sklearn import svm\n",
    "from sklearn.preprocessing import Imputer\n",
    "from sklearn import metrics\n",
    "from sklearn.cross_validation import cross_val_score\n",
    "from sklearn.ensemble import RandomForestClassifier\n",
    "from sklearn.tree import DecisionTreeClassifier\n",
    "from sklearn.neighbors import KNeighborsClassifier"
   ]
  },
  {
   "cell_type": "markdown",
   "metadata": {},
   "source": [
    "### Data Cleaning & Checking\n",
    "\n",
    "We read in the normalized data. "
   ]
  },
  {
   "cell_type": "code",
   "execution_count": 29,
   "metadata": {
    "collapsed": false
   },
   "outputs": [
    {
     "data": {
      "text/html": [
       "<div>\n",
       "<table border=\"1\" class=\"dataframe\">\n",
       "  <thead>\n",
       "    <tr style=\"text-align: right;\">\n",
       "      <th></th>\n",
       "      <th>studentID</th>\n",
       "      <th>classrank</th>\n",
       "      <th>admissionstest</th>\n",
       "      <th>AP</th>\n",
       "      <th>averageAP</th>\n",
       "      <th>SATsubject</th>\n",
       "      <th>GPA</th>\n",
       "      <th>GPA_w</th>\n",
       "      <th>program</th>\n",
       "      <th>schooltype</th>\n",
       "      <th>...</th>\n",
       "      <th>alumni</th>\n",
       "      <th>outofstate</th>\n",
       "      <th>acceptStatus</th>\n",
       "      <th>acceptProb</th>\n",
       "      <th>name</th>\n",
       "      <th>acceptrate</th>\n",
       "      <th>size</th>\n",
       "      <th>public</th>\n",
       "      <th>finAidPct</th>\n",
       "      <th>instatePct</th>\n",
       "    </tr>\n",
       "  </thead>\n",
       "  <tbody>\n",
       "    <tr>\n",
       "      <th>0</th>\n",
       "      <td>S50C3UECT8</td>\n",
       "      <td>NaN</td>\n",
       "      <td>0.838909</td>\n",
       "      <td>7</td>\n",
       "      <td>1.067927</td>\n",
       "      <td>3</td>\n",
       "      <td>-0.188104</td>\n",
       "      <td>0.059072</td>\n",
       "      <td>Biomedical engineering</td>\n",
       "      <td>0</td>\n",
       "      <td>...</td>\n",
       "      <td>0</td>\n",
       "      <td>0</td>\n",
       "      <td>1</td>\n",
       "      <td>NaN</td>\n",
       "      <td>Rice</td>\n",
       "      <td>0.151</td>\n",
       "      <td>6621</td>\n",
       "      <td>0</td>\n",
       "      <td>0</td>\n",
       "      <td>0</td>\n",
       "    </tr>\n",
       "    <tr>\n",
       "      <th>1</th>\n",
       "      <td>GBWZQQRBEV</td>\n",
       "      <td>NaN</td>\n",
       "      <td>0.666993</td>\n",
       "      <td>7</td>\n",
       "      <td>0.661638</td>\n",
       "      <td>2</td>\n",
       "      <td>0.493061</td>\n",
       "      <td>0.398012</td>\n",
       "      <td>Classics</td>\n",
       "      <td>0</td>\n",
       "      <td>...</td>\n",
       "      <td>0</td>\n",
       "      <td>1</td>\n",
       "      <td>1</td>\n",
       "      <td>NaN</td>\n",
       "      <td>Rice</td>\n",
       "      <td>0.151</td>\n",
       "      <td>6621</td>\n",
       "      <td>0</td>\n",
       "      <td>0</td>\n",
       "      <td>0</td>\n",
       "    </tr>\n",
       "    <tr>\n",
       "      <th>2</th>\n",
       "      <td>MXXLWO1HQ2</td>\n",
       "      <td>NaN</td>\n",
       "      <td>0.208552</td>\n",
       "      <td>0</td>\n",
       "      <td>NaN</td>\n",
       "      <td>3</td>\n",
       "      <td>0.395752</td>\n",
       "      <td>-1.035963</td>\n",
       "      <td>Biological Science</td>\n",
       "      <td>1</td>\n",
       "      <td>...</td>\n",
       "      <td>0</td>\n",
       "      <td>1</td>\n",
       "      <td>0</td>\n",
       "      <td>NaN</td>\n",
       "      <td>Rice</td>\n",
       "      <td>0.151</td>\n",
       "      <td>6621</td>\n",
       "      <td>0</td>\n",
       "      <td>0</td>\n",
       "      <td>0</td>\n",
       "    </tr>\n",
       "    <tr>\n",
       "      <th>3</th>\n",
       "      <td>5KSL7C8SLZ</td>\n",
       "      <td>NaN</td>\n",
       "      <td>1.297350</td>\n",
       "      <td>7</td>\n",
       "      <td>0.864783</td>\n",
       "      <td>4</td>\n",
       "      <td>0.103824</td>\n",
       "      <td>-0.384156</td>\n",
       "      <td>Physics</td>\n",
       "      <td>1</td>\n",
       "      <td>...</td>\n",
       "      <td>0</td>\n",
       "      <td>1</td>\n",
       "      <td>0</td>\n",
       "      <td>NaN</td>\n",
       "      <td>Rice</td>\n",
       "      <td>0.151</td>\n",
       "      <td>6621</td>\n",
       "      <td>0</td>\n",
       "      <td>0</td>\n",
       "      <td>0</td>\n",
       "    </tr>\n",
       "    <tr>\n",
       "      <th>4</th>\n",
       "      <td>RQWLNGGZ49</td>\n",
       "      <td>NaN</td>\n",
       "      <td>0.323162</td>\n",
       "      <td>1</td>\n",
       "      <td>-0.354087</td>\n",
       "      <td>2</td>\n",
       "      <td>0.541716</td>\n",
       "      <td>NaN</td>\n",
       "      <td>NaN</td>\n",
       "      <td>1</td>\n",
       "      <td>...</td>\n",
       "      <td>0</td>\n",
       "      <td>1</td>\n",
       "      <td>1</td>\n",
       "      <td>NaN</td>\n",
       "      <td>Rice</td>\n",
       "      <td>0.151</td>\n",
       "      <td>6621</td>\n",
       "      <td>0</td>\n",
       "      <td>0</td>\n",
       "      <td>0</td>\n",
       "    </tr>\n",
       "  </tbody>\n",
       "</table>\n",
       "<p>5 rows × 34 columns</p>\n",
       "</div>"
      ],
      "text/plain": [
       "    studentID  classrank  admissionstest  AP  averageAP  SATsubject       GPA  \\\n",
       "0  S50C3UECT8        NaN        0.838909   7   1.067927           3 -0.188104   \n",
       "1  GBWZQQRBEV        NaN        0.666993   7   0.661638           2  0.493061   \n",
       "2  MXXLWO1HQ2        NaN        0.208552   0        NaN           3  0.395752   \n",
       "3  5KSL7C8SLZ        NaN        1.297350   7   0.864783           4  0.103824   \n",
       "4  RQWLNGGZ49        NaN        0.323162   1  -0.354087           2  0.541716   \n",
       "\n",
       "      GPA_w                 program  schooltype     ...      alumni  \\\n",
       "0  0.059072  Biomedical engineering           0     ...           0   \n",
       "1  0.398012                Classics           0     ...           0   \n",
       "2 -1.035963      Biological Science           1     ...           0   \n",
       "3 -0.384156                 Physics           1     ...           0   \n",
       "4       NaN                     NaN           1     ...           0   \n",
       "\n",
       "  outofstate  acceptStatus  acceptProb  name  acceptrate  size  public  \\\n",
       "0          0             1         NaN  Rice       0.151  6621       0   \n",
       "1          1             1         NaN  Rice       0.151  6621       0   \n",
       "2          1             0         NaN  Rice       0.151  6621       0   \n",
       "3          1             0         NaN  Rice       0.151  6621       0   \n",
       "4          1             1         NaN  Rice       0.151  6621       0   \n",
       "\n",
       "   finAidPct  instatePct  \n",
       "0          0           0  \n",
       "1          0           0  \n",
       "2          0           0  \n",
       "3          0           0  \n",
       "4          0           0  \n",
       "\n",
       "[5 rows x 34 columns]"
      ]
     },
     "execution_count": 29,
     "metadata": {},
     "output_type": "execute_result"
    }
   ],
   "source": [
    "df = pd.read_csv(\"collegedata_normalized.csv\", index_col=0)\n",
    "df.head()"
   ]
  },
  {
   "cell_type": "markdown",
   "metadata": {},
   "source": [
    "Then we check how much of the data is missing. The cell below shows that 23% of all entries are null. This is way too high. "
   ]
  },
  {
   "cell_type": "code",
   "execution_count": 30,
   "metadata": {
    "collapsed": false
   },
   "outputs": [
    {
     "name": "stdout",
     "output_type": "stream",
     "text": [
      "Fraction nulls =  0.232593074511\n"
     ]
    }
   ],
   "source": [
    "x = df.isnull().sum(axis=1).tolist()\n",
    "y = float(sum(x)) / (df.shape[0]*df.shape[1])\n",
    "print 'Fraction nulls = ', y"
   ]
  },
  {
   "cell_type": "markdown",
   "metadata": {},
   "source": [
    "To decrease the proportion of NaNs, we get rid of columns which are almost all null. From the `df.head()` above, it appears like some columns have almost exclusively nulls. Therefore the 23% above is probably driven mainly by columns that are basically all null. To see this, we print and plot the % null values for each column. We see the histogram is very bimodal. "
   ]
  },
  {
   "cell_type": "code",
   "execution_count": 31,
   "metadata": {
    "collapsed": false
   },
   "outputs": [
    {
     "data": {
      "image/png": "[encoded data removed]",
      "text/plain": [
       "<matplotlib.figure.Figure at 0x10b57c150>"
      ]
     },
     "metadata": {},
     "output_type": "display_data"
    }
   ],
   "source": [
    "percentnulls = {}\n",
    "for i in range(len(df.columns)):\n",
    "    percentnulls[df.columns[i]] = 100.0 * df[df.columns[i]].isnull().sum() / len(df[df.columns[i]])\n",
    "    \n",
    "# plt.barh(range(len(df.columns)),percentnulls.values(), align=\"center\")\n",
    "# plt.ylim([0,20])\n",
    "# plt.yticks(range(len(df.columns)), percentnulls.keys())\n",
    "# plt.ylabel(\"feature\")\n",
    "# plt.xlabel(\"% nulls\")\n",
    "# plt.title(\"% Nulls Per Feature\")\n",
    "# plt.show()\n",
    "\n",
    "# plt.scatter(range(len(df.columns)),percentnulls.values(),s=100)\n",
    "# plt.tick_params(axis='x',which='both',bottom='off',top='off',labelbottom='off')\n",
    "# plt.ylabel(\"% null values\")\n",
    "# plt.title(\"Proportion of Null Values By Feature\")\n",
    "# plt.show()\n",
    "\n",
    "fig, axes = plt.subplots(nrows=1, ncols=1, figsize = (16,4))\n",
    "plt.hist(percentnulls.values(),bins=20,alpha=0.7,edgecolor=\"white\")\n",
    "plt.xlabel(\"% null values in feature\")\n",
    "plt.ylabel(\"Number of features\")\n",
    "plt.title(\"% Null Values Per Feature\")\n",
    "plt.gca().xaxis.grid(True,color='0.95')\n",
    "plt.gca().yaxis.grid(True,color='0.95')\n",
    "plt.tight_layout()\n",
    "plt.show()"
   ]
  },
  {
   "cell_type": "code",
   "execution_count": 32,
   "metadata": {
    "collapsed": false
   },
   "outputs": [
    {
     "data": {
      "text/plain": [
       "['addInfo']"
      ]
     },
     "execution_count": 32,
     "metadata": {},
     "output_type": "execute_result"
    }
   ],
   "source": [
    "[i for i in percentnulls.keys() if percentnulls[i] > 20 and percentnulls[i] < 80]"
   ]
  },
  {
   "cell_type": "markdown",
   "metadata": {},
   "source": [
    "The histogram shows us that (apart from the `addInfo` feature), if a feature has $>50%$ missing values, it has $>80%$ null values, and if there are $<50%$ nulls, there are $<20%$ null values. This means if we remove columns with $>50%$ missing data, we will be removing most of the nulls in the data frame, and it won't actually remove much information. As for the `addInfo` feature, this is additional information about the candidate, and at this stage we are not using it in the model. "
   ]
  },
  {
   "cell_type": "markdown",
   "metadata": {},
   "source": [
    "We thus remove any column that has 50% or more null values. This takes out any predictors that would have been useless anyway. "
   ]
  },
  {
   "cell_type": "code",
   "execution_count": 33,
   "metadata": {
    "collapsed": false
   },
   "outputs": [
    {
     "name": "stdout",
     "output_type": "stream",
     "text": [
      "Columns to drop:  ['classrank', 'canAfford', 'firstinfamily', 'artist', 'workexp', 'visited', 'acceptProb']\n"
     ]
    }
   ],
   "source": [
    "cols_to_drop = []\n",
    "for i in df.columns:\n",
    "    if 1.0* df[i].isnull().sum() / len(df[i]) >= 0.5:\n",
    "        cols_to_drop.append(i)\n",
    "print \"Columns to drop: \", cols_to_drop\n",
    "dfr = df.drop(cols_to_drop,axis=1)"
   ]
  },
  {
   "cell_type": "markdown",
   "metadata": {},
   "source": [
    "We also drop all columns where the accept status is NaN. These are of course useless as well."
   ]
  },
  {
   "cell_type": "code",
   "execution_count": 34,
   "metadata": {
    "collapsed": true
   },
   "outputs": [],
   "source": [
    "dfr = dfr[pd.notnull(df[\"acceptStatus\"])]"
   ]
  },
  {
   "cell_type": "code",
   "execution_count": 35,
   "metadata": {
    "collapsed": false
   },
   "outputs": [
    {
     "name": "stdout",
     "output_type": "stream",
     "text": [
      "Fraction nulls =  0.0315301778112\n"
     ]
    }
   ],
   "source": [
    "x = dfr.isnull().sum(axis=1).tolist()\n",
    "y = float(sum(x)) / (dfr.shape[0]*dfr.shape[1])\n",
    "print 'Fraction nulls = ', y"
   ]
  },
  {
   "cell_type": "markdown",
   "metadata": {},
   "source": [
    "Now we have only 3% null values. Good! The next step is to choose which columns we want to use to predict. Obviously columns like `studentID`, while crucial, are not actually predictors. Also, we remove weighted GPA in favour of GPA, as we have already normalised everything. We also do not include finAidpct and instatepct, as these columns are all 0. "
   ]
  },
  {
   "cell_type": "code",
   "execution_count": 37,
   "metadata": {
    "collapsed": false
   },
   "outputs": [
    {
     "name": "stdout",
     "output_type": "stream",
     "text": [
      "Index([u'studentID', u'admissionstest', u'AP', u'averageAP', u'SATsubject',\n",
      "       u'GPA', u'GPA_w', u'program', u'schooltype', u'intendedgradyear',\n",
      "       u'addInfo', u'female', u'MinorityGender', u'MinorityRace',\n",
      "       u'international', u'sports', u'collegeID', u'earlyAppl', u'alumni',\n",
      "       u'outofstate', u'acceptStatus', u'name', u'acceptrate', u'size',\n",
      "       u'public', u'finAidPct', u'instatePct'],\n",
      "      dtype='object')\n"
     ]
    }
   ],
   "source": [
    "print dfr.columns\n",
    "predictor_cols = [\"admissionstest\",\"AP\",\"averageAP\",\"SATsubject\",\"GPA\",\"schooltype\",\"intendedgradyear\",\"female\",\"MinorityRace\",\"international\",\"sports\",\"earlyAppl\",\"alumni\",\"outofstate\",\"acceptrate\",\"size\",\"public\"]\n",
    "dfpredict = dfr[predictor_cols]\n",
    "dfresponse = dfr[\"acceptStatus\"]"
   ]
  },
  {
   "cell_type": "code",
   "execution_count": 38,
   "metadata": {
    "collapsed": false
   },
   "outputs": [
    {
     "data": {
      "text/plain": [
       "Index([u'admissionstest', u'AP', u'averageAP', u'SATsubject', u'GPA',\n",
       "       u'schooltype', u'intendedgradyear', u'female', u'MinorityRace',\n",
       "       u'international', u'sports', u'earlyAppl', u'alumni', u'outofstate',\n",
       "       u'acceptrate', u'size', u'public'],\n",
       "      dtype='object')"
      ]
     },
     "execution_count": 38,
     "metadata": {},
     "output_type": "execute_result"
    }
   ],
   "source": [
    "dfpredict.columns"
   ]
  },
  {
   "cell_type": "markdown",
   "metadata": {},
   "source": [
    "The code below demonstrates that if we remove all the rows with ANY nulls in it, we reduce our dataset from 13k to 11k. This reduces our dataset too much. So we will impute the missing values. We initially tried to do this using the `mice` package in R, but there does not seem to be an equivalent in Python. Since the % of nulls is just 4%, it shouldn't matter too much what method we use. Since some of the variables are factor, not numerical, we can't use mean or media. We are looking into KNN imputation, but for the time being, just use median. As stated, it shouldn't matter too much what method we use. "
   ]
  },
  {
   "cell_type": "code",
   "execution_count": 39,
   "metadata": {
    "collapsed": false
   },
   "outputs": [
    {
     "name": "stdout",
     "output_type": "stream",
     "text": [
      "(10917, 17)\n",
      "(13310, 17)\n"
     ]
    }
   ],
   "source": [
    "print dfpredict.dropna(axis=0,how=\"any\").shape\n",
    "print dfpredict.shape"
   ]
  },
  {
   "cell_type": "code",
   "execution_count": 40,
   "metadata": {
    "collapsed": false
   },
   "outputs": [
    {
     "data": {
      "text/plain": [
       "((13310, 17), (13310,))"
      ]
     },
     "execution_count": 40,
     "metadata": {},
     "output_type": "execute_result"
    }
   ],
   "source": [
    "imp = Imputer(missing_values=\"NaN\", strategy=\"median\", axis=1)\n",
    "imp.fit(dfpredict)\n",
    "X = imp.transform(dfpredict)\n",
    "y = dfresponse\n",
    "X.shape, y.shape"
   ]
  },
  {
   "cell_type": "markdown",
   "metadata": {},
   "source": [
    "Next, we create a training and test data set. The training data will be used to fit the model and the test data to test the model accuracy. "
   ]
  },
  {
   "cell_type": "code",
   "execution_count": 41,
   "metadata": {
    "collapsed": false
   },
   "outputs": [
    {
     "name": "stdout",
     "output_type": "stream",
     "text": [
      "(10648, 17) (2662, 17) (10648,) (2662,)\n"
     ]
    }
   ],
   "source": [
    "X_train, X_test, y_train, y_test = train_test_split(X, y, test_size=0.2)\n",
    "print X_train.shape, X_test.shape, y_train.shape, y_test.shape\n",
    "#X_train, X_validate, y_train, y_validate = train_test_split(X1, y1, test_size=0.25)\n",
    "#print X_train.shape, X_validate.shape, X_test.shape, y_train.shape, y_validate.shape, y_test.shape"
   ]
  },
  {
   "cell_type": "markdown",
   "metadata": {},
   "source": [
    "### Baselines\n",
    "Let's start with evaluating our starting point. What accuracy do we get with the uttermost simple classifier: predicting that all students get accepted (or all students get rejected). Whichever of these is the highest, will be our accuracy to beat. "
   ]
  },
  {
   "cell_type": "code",
   "execution_count": 42,
   "metadata": {
    "collapsed": false
   },
   "outputs": [
    {
     "name": "stdout",
     "output_type": "stream",
     "text": [
      "Accuracy when predicting all accepted =  0.380916604057\n",
      "Accuracy when predicting all rejected =  0.619083395943\n"
     ]
    }
   ],
   "source": [
    "# predict all accepted\n",
    "print 'Accuracy when predicting all accepted = ', metrics.accuracy_score(y_test, np.ones(y_test.shape))\n",
    "# predict all rejected\n",
    "print 'Accuracy when predicting all rejected = ', metrics.accuracy_score(y_test,np.zeros(y_test.shape))"
   ]
  },
  {
   "cell_type": "markdown",
   "metadata": {},
   "source": [
    "Our baseline is thus an accuracy of 60%, when we predict that no one gets accepted to their universities.  "
   ]
  },
  {
   "cell_type": "markdown",
   "metadata": {},
   "source": [
    "### Logistic Regression\n",
    "\n",
    "We start with a logistic regression. We use cross validation to choose the hyperparameter c. The score for each c is the mean of the scores from the cross validation folds and is stored in a dictionary. "
   ]
  },
  {
   "cell_type": "code",
   "execution_count": 43,
   "metadata": {
    "collapsed": false
   },
   "outputs": [],
   "source": [
    "cdict = {}\n",
    "for c in [0.001,0.01,0.1,1,10,100,1000]:\n",
    "    clf = linear_model.LogisticRegression(C=c)\n",
    "    #clf.fit(X_train,y_train)\n",
    "    #predicted = clf.predict(X_validate)\n",
    "    #cdict[c] = metrics.accuracy_score(y_validate, predicted)\n",
    "    scores = cross_val_score(clf, X_train, y_train, scoring='accuracy', cv=5)\n",
    "    cdict[c] = scores.mean()"
   ]
  },
  {
   "cell_type": "markdown",
   "metadata": {},
   "source": [
    "We pick the c value with highest accuracy and fit the model using this value. "
   ]
  },
  {
   "cell_type": "code",
   "execution_count": 44,
   "metadata": {
    "collapsed": false
   },
   "outputs": [
    {
     "name": "stdout",
     "output_type": "stream",
     "text": [
      "{1: 0.66425447421370321, 100: 0.66425447421370321, 0.1: 0.66416057750008817, 1000: 0.66425447421370321, 10: 0.66425447421370321, 0.001: 0.6555209326132232, 0.01: 0.66106198595079246}\n",
      "Best parameter:  1 0.664254474214\n",
      "Accuracy on test set:  0.663410969196\n"
     ]
    }
   ],
   "source": [
    "print cdict\n",
    "best_c = max(cdict, key=cdict.get)\n",
    "print 'Best parameter: ', best_c, cdict[best_c]\n",
    "clflog = linear_model.LogisticRegression(C=best_c)\n",
    "clflog.fit(X_train,y_train)\n",
    "predicted = clflog.predict(X_test)\n",
    "print 'Accuracy on test set: ',metrics.accuracy_score(y_test, predicted) "
   ]
  },
  {
   "cell_type": "markdown",
   "metadata": {},
   "source": [
    "We got ~65% accuracy. Not bad, but different models may be able to do better. "
   ]
  },
  {
   "cell_type": "markdown",
   "metadata": {},
   "source": [
    "### Random Forest\n",
    "\n",
    "Now we try a random forest, and follow the same procedure as before to choose the number of trees."
   ]
  },
  {
   "cell_type": "code",
   "execution_count": 45,
   "metadata": {
    "collapsed": false
   },
   "outputs": [],
   "source": [
    "ntdict = {}\n",
    "for nt in [100,250,500,1000,2500]:\n",
    "    clf = RandomForestClassifier(n_estimators=nt,criterion=\"gini\")\n",
    "    #clf.fit(X_train,y_train)\n",
    "    #predicted = clf.predict(X_validate)\n",
    "    #ntdict[nt] = metrics.accuracy_score(y_validate, predicted)\n",
    "    scores = cross_val_score(clf, X_train, y_train, cv=5)\n",
    "    ntdict[nt] = scores.mean()"
   ]
  },
  {
   "cell_type": "code",
   "execution_count": 46,
   "metadata": {
    "collapsed": false
   },
   "outputs": [
    {
     "name": "stdout",
     "output_type": "stream",
     "text": [
      "{1000: 0.74116947297822011, 500: 0.74154523633026237, 250: 0.74248455646157641, 100: 0.74201498464471038, 2500: 0.74239013025521561}\n",
      "Best parameter:  250 0.742484556462\n",
      "Accuracy on test set:  0.746431254696\n"
     ]
    }
   ],
   "source": [
    "print ntdict\n",
    "best_nt = max(ntdict, key=ntdict.get)\n",
    "print 'Best parameter: ',best_nt, ntdict[best_nt]\n",
    "clfRF_gini = RandomForestClassifier(n_estimators=nt)\n",
    "clfRF_gini.fit(X_train,y_train)\n",
    "predicted = clfRF_gini.predict(X_test)\n",
    "print 'Accuracy on test set: ',metrics.accuracy_score(y_test,predicted)"
   ]
  },
  {
   "cell_type": "markdown",
   "metadata": {},
   "source": [
    "We repeat the random forst, but now using `entropy` instead of `gini`."
   ]
  },
  {
   "cell_type": "code",
   "execution_count": null,
   "metadata": {
    "collapsed": false
   },
   "outputs": [],
   "source": [
    "ntdict = {}\n",
    "# We added 5000 because a few times, the optimal number of trees was on the edge\n",
    "for nt in [250,500,1000,2500,5000]:\n",
    "    clf = RandomForestClassifier(n_estimators=nt,criterion=\"entropy\")\n",
    "    #clf.fit(X_train,y_train)\n",
    "    #predicted = clf.predict(X_validate)\n",
    "    #ntdict[nt] = metrics.accuracy_score(y_validate, predicted)\n",
    "    scores = cross_val_score(clf, X_train, y_train, cv=5)\n",
    "    ntdict[nt] = scores.mean()\n",
    "print ntdict\n",
    "best_nt = max(ntdict, key=ntdict.get)\n",
    "print 'Best parameter: ',best_nt, ntdict[best_nt]\n",
    "clfRF_ent = RandomForestClassifier(n_estimators=nt)\n",
    "clfRF_ent.fit(X_train,y_train)\n",
    "predicted = clfRF_ent.predict(X_test)\n",
    "print 'Accuracy on test set: ',metrics.accuracy_score(y_test,predicted)"
   ]
  },
  {
   "cell_type": "markdown",
   "metadata": {},
   "source": [
    "It appears `entropy` is pretty much the same as `gini`. This model gets about 73% accuracy, so is clearly better than logistic regression. \n",
    "Let's take a look at feature importance. "
   ]
  },
  {
   "cell_type": "code",
   "execution_count": null,
   "metadata": {
    "collapsed": false
   },
   "outputs": [],
   "source": [
    "# create dictionary of feature importances\n",
    "clf=clfRF_gini\n",
    "feature_importance = {}\n",
    "for i in range(len(dfpredict.columns)):\n",
    "    feature_importance[dfpredict.columns[i]] = clf.feature_importances_[i]\n",
    "# plot sorted importances\n",
    "sns.set_style(\"white\")\n",
    "plt.barh(range(len(dfpredict.columns)),sorted(feature_importance.values()), align=\"center\",alpha=0.7,edgecolor='white')\n",
    "plt.ylim([0,20])\n",
    "plt.yticks(range(len(dfpredict.columns)), sorted(feature_importance,key=feature_importance.get))\n",
    "plt.ylabel(\"feature\")\n",
    "plt.xlabel(\"importance\")\n",
    "plt.title(\"Feature Importance\")\n",
    "plt.gca().yaxis.grid(False)\n",
    "plt.gca().xaxis.grid(True,color='0.95')\n",
    "plt.tight_layout()\n",
    "sns.despine(left=True,bottom=True)\n",
    "plt.show()"
   ]
  },
  {
   "cell_type": "markdown",
   "metadata": {},
   "source": [
    "The above plot shows that the admission test scores, the school's acceptance rate and the GPA score are the most important factors in the decision. This is as we expected and what most people think. "
   ]
  },
  {
   "cell_type": "markdown",
   "metadata": {},
   "source": [
    "### Decision Tree\n",
    "\n",
    "Below is a decision tree classifier. Its performance will probably be worse than that of the random forest, as it is in some sense just a subset of a random forest. "
   ]
  },
  {
   "cell_type": "code",
   "execution_count": null,
   "metadata": {
    "collapsed": false
   },
   "outputs": [],
   "source": [
    "dt = DecisionTreeClassifier()\n",
    "dt.fit(X_train,y_train)\n",
    "predicted = dt.predict(X_test)\n",
    "print 'Accuracy on test test:', metrics.accuracy_score(y_test, predicted)"
   ]
  },
  {
   "cell_type": "markdown",
   "metadata": {},
   "source": [
    "This one got us only 68% accuracy, so again significantly worse than the random forest. So at this stage, random forest is still the best!"
   ]
  },
  {
   "cell_type": "markdown",
   "metadata": {},
   "source": [
    "### K Nearest Neighbours\n",
    "Now, let's see how a K-nearest neighbour classifier does."
   ]
  },
  {
   "cell_type": "code",
   "execution_count": 33,
   "metadata": {
    "collapsed": false
   },
   "outputs": [
    {
     "name": "stdout",
     "output_type": "stream",
     "text": [
      "{35: 0.69430883546895406, 10: 0.68904894277948403, 15: 0.69440202619224112, 20: 0.69430751173708916, 25: 0.69252453316389573, 30: 0.69440299692894214}\n",
      "Best parameter:  30 0.694402996929\n",
      "Accuracy on test set:  0.709616829452\n"
     ]
    }
   ],
   "source": [
    "kdict = {}\n",
    "for k in [10,15,20,25,30,35]:\n",
    "    clf = KNeighborsClassifier(n_neighbors=k)\n",
    "    scores = cross_val_score(clf, X_train, y_train, cv=5, scoring='accuracy')\n",
    "    kdict[k] = scores.mean()\n",
    "print kdict\n",
    "best_k = max(kdict, key=kdict.get)\n",
    "print 'Best parameter: ',best_k, kdict[best_k]\n",
    "clfknn = KNeighborsClassifier(n_neighbors=best_k)\n",
    "clfknn.fit(X_train,y_train)\n",
    "predicted = clfknn.predict(X_test)\n",
    "print 'Accuracy on test set: ', metrics.accuracy_score(y_test,predicted)"
   ]
  },
  {
   "cell_type": "code",
   "execution_count": 30,
   "metadata": {
    "collapsed": false
   },
   "outputs": [],
   "source": [
    "#graph = clf.kneighbors_graph(X_train)\n",
    "#nrows, _ = graph.shape\n",
    "#X_train\n",
    "#for i in range(nrows):"
   ]
  },
  {
   "cell_type": "markdown",
   "metadata": {},
   "source": [
    "This method performs second best to our random forest. "
   ]
  },
  {
   "cell_type": "markdown",
   "metadata": {},
   "source": [
    "### SVM\n",
    "\n",
    "Finally, we try a Linear SVM. "
   ]
  },
  {
   "cell_type": "code",
   "execution_count": 35,
   "metadata": {
    "collapsed": false
   },
   "outputs": [
    {
     "name": "stdout",
     "output_type": "stream",
     "text": [
      "{1: 0.57044459740901554, 0.1: 0.52377713650322988, 10: 0.57044459740901554, 0.001: 0.52800328285502496, 0.0001: 0.56291812277171804, 0.01: 0.50556196830103439}\n",
      "Best parameter:  1 0.570444597409\n",
      "Accuracy on test set:  0.628474830954\n"
     ]
    }
   ],
   "source": [
    "cdict = {}\n",
    "for c in [0.0001,0.001,0.01,0.1,1,10]:\n",
    "    clf = svm.LinearSVC(loss=\"hinge\",C=c);\n",
    "    scores = cross_val_score(clf, X_train, y_train, cv=5, scoring='accuracy')\n",
    "    cdict[c] = scores.mean()\n",
    "print cdict\n",
    "best_c = max(cdict, key=cdict.get)\n",
    "print 'Best parameter: ', best_c, cdict[best_c]\n",
    "clf = svm.LinearSVC(loss=\"hinge\",C=best_c);\n",
    "clf.fit(X_train,y_train)\n",
    "predicted = clf.predict(X_test)\n",
    "print 'Accuracy on test set: ',metrics.accuracy_score(y_test,predicted)"
   ]
  },
  {
   "cell_type": "markdown",
   "metadata": {},
   "source": [
    "This one is our worst predictor, giving only 61% accuracy. This is barely better than the baseline, but this is maybe not surprising. We should try a kernelized SVM. "
   ]
  },
  {
   "cell_type": "code",
   "execution_count": 36,
   "metadata": {
    "collapsed": false
   },
   "outputs": [
    {
     "name": "stdout",
     "output_type": "stream",
     "text": [
      "{1: 0.70905503194606234, 100: 0.6591860814006848, 0.1: 0.6825674220763176, 1000: 0.64133944014966993, 10: 0.69966059514984646, 0.001: 0.61739295421652718, 0.01: 0.61739295421652718}\n",
      "Best parameter:  1 0.709055031946\n",
      "Accuracy on test set:  0.726521412472\n"
     ]
    }
   ],
   "source": [
    "cdict = {}\n",
    "for c in [0.001,0.01,0.1,1,10,100,1000]:\n",
    "    clf = svm.SVC(C=c);\n",
    "    scores = cross_val_score(clf, X_train, y_train, cv=5, scoring='accuracy')\n",
    "    cdict[c] = scores.mean()\n",
    "print cdict\n",
    "best_c = max(cdict, key=cdict.get)\n",
    "print 'Best parameter: ',best_c, cdict[best_c]\n",
    "clfsvm = svm.SVC(C=best_c);\n",
    "clfsvm.fit(X_train,y_train)\n",
    "predicted = clfsvm.predict(X_test)\n",
    "print 'Accuracy on test set: ',metrics.accuracy_score(y_test,predicted)"
   ]
  },
  {
   "cell_type": "markdown",
   "metadata": {},
   "source": [
    "The RBF SVM is doing very well! However, random forest is still better. "
   ]
  },
  {
   "cell_type": "markdown",
   "metadata": {},
   "source": [
    "### Adaboost"
   ]
  },
  {
   "cell_type": "code",
   "execution_count": 37,
   "metadata": {
    "collapsed": false
   },
   "outputs": [
    {
     "name": "stdout",
     "output_type": "stream",
     "text": [
      "{200: 0.73074923223551835, 50: 0.72323564192170564, 100: 0.72849535811359389, 250: 0.72962317766246598, 150: 0.72990363232023725}\n",
      "Best parameter:  200 0.730749232236\n",
      "Accuracy on test set:  0.740796393689\n"
     ]
    }
   ],
   "source": [
    "from sklearn.ensemble import AdaBoostClassifier\n",
    "ndict={}\n",
    "for n in [50,100,150,200,250]:\n",
    "    clf = AdaBoostClassifier(n_estimators=n);\n",
    "    scores = cross_val_score(clf, X_train, y_train, cv=5, scoring='accuracy')\n",
    "    ndict[n] = scores.mean()\n",
    "print ndict\n",
    "best_n = max(ndict, key=ndict.get)\n",
    "print 'Best parameter: ',best_n, ndict[best_n]\n",
    "clfada = AdaBoostClassifier(n_estimators=best_n);\n",
    "clfada.fit(X_train,y_train)\n",
    "predicted = clfada.predict(X_test)\n",
    "print 'Accuracy on test set: ', metrics.accuracy_score(y_test,predicted)"
   ]
  },
  {
   "cell_type": "markdown",
   "metadata": {},
   "source": [
    "We are getting closer to our random forest accuracy, but in the end, it looks like random forest is the one! To conclude, let's summarize our best classifiers with ROC curves.\n",
    "\n",
    "## Summary"
   ]
  },
  {
   "cell_type": "code",
   "execution_count": 38,
   "metadata": {
    "collapsed": true
   },
   "outputs": [],
   "source": [
    "from sklearn.metrics import roc_curve, auc\n",
    "def make_roc(name, clf, ytest, xtest, ax=None, labe=5, proba=True, skip=0):\n",
    "    initial=False\n",
    "    if not ax:\n",
    "        ax=plt.gca()\n",
    "        initial=True\n",
    "    if proba:#for stuff like logistic regression\n",
    "        fpr, tpr, thresholds=roc_curve(ytest, clf.predict_proba(xtest)[:,1])\n",
    "    else:#for stuff like SVM\n",
    "        fpr, tpr, thresholds=roc_curve(ytest, clf.decision_function(xtest))\n",
    "    roc_auc = auc(fpr, tpr)\n",
    "    if skip:\n",
    "        l=fpr.shape[0]\n",
    "        ax.plot(fpr[0:l:skip], tpr[0:l:skip], '.-', alpha=0.3, label='ROC curve for %s (area = %0.2f)' % (name, roc_auc))\n",
    "    else:\n",
    "        ax.plot(fpr, tpr, '.-', alpha=0.3, label='ROC curve for %s (area = %0.2f)' % (name, roc_auc))\n",
    "    label_kwargs = {}\n",
    "    label_kwargs['bbox'] = dict(\n",
    "        boxstyle='round,pad=0.3', alpha=0.1,\n",
    "    )\n",
    "    if labe!=None:\n",
    "        for k in xrange(0, fpr.shape[0],labe):\n",
    "            #from https://gist.github.com/podshumok/c1d1c9394335d86255b8\n",
    "            threshold = str(np.round(thresholds[k], 2))\n",
    "            ax.annotate(threshold, (fpr[k], tpr[k]), **label_kwargs)\n",
    "    if initial:\n",
    "        ax.plot([0, 1], [0, 1], 'k--')\n",
    "        ax.set_xlim([0.0, 1.0])\n",
    "        ax.set_ylim([0.0, 1.05])\n",
    "        ax.set_xlabel('False Positive Rate')\n",
    "        ax.set_ylabel('True Positive Rate')\n",
    "        ax.set_title('ROC')\n",
    "    ax.legend(loc=\"lower right\")\n",
    "    return ax"
   ]
  },
  {
   "cell_type": "code",
   "execution_count": 41,
   "metadata": {
    "collapsed": false
   },
   "outputs": [
    {
     "data": {
      "image/png": "[encoded data removed]",
      "text/plain": [
       "<matplotlib.figure.Figure at 0x2057adc90>"
      ]
     },
     "metadata": {},
     "output_type": "display_data"
    }
   ],
   "source": [
    "with sns.hls_palette(8, l=.3, s=.8):\n",
    "    ax=make_roc(\"random forest\",clfRF_gini,y_test,X_test,labe=200,skip=50,proba=True)\n",
    "    make_roc(\"logistic\",clflog, y_test, X_test, ax=ax, labe=200, skip=50,proba=True)\n",
    "    make_roc(\"knn\",clfknn,y_test,X_test,ax=ax,labe=100,proba=True)\n",
    "    make_roc(\"svm\",clfsvm,y_test,X_test,ax=ax,labe=200,skip=50,proba=False)\n",
    "    make_roc(\"adaboost\",clfada,y_test,X_test,ax=ax,labe=200,skip=50,proba=True)"
   ]
  },
  {
   "cell_type": "markdown",
   "metadata": {},
   "source": [
    "The random forest classifier is the best one. Its ROC curve is always reaches a higher true postive rate and lower false positive rate. It is closely followed by the Adaboost classifier. "
   ]
  },
  {
   "cell_type": "code",
   "execution_count": 46,
   "metadata": {
    "collapsed": false
   },
   "outputs": [],
   "source": [
    "#slope=np.float((y_test==0).sum())/(y_test==1).sum()\n",
    "#slope\n",
    "#x=np.arange(0.,1., 0.02)\n",
    "#with sns.hls_palette(8, l=.3, s=.8):\n",
    "#    intercept=0.34\n",
    "#    ax = make_roc(\"random forest\",clfRF_gini,y_test,X_test,labe=200,skip=50,proba=True)\n",
    "#    make_roc(\"logistic\",clflog, y_test, X_test, labe=200, skip=50,proba=True)\n",
    "#    make_roc(\"knn\",clfknn,y_test,X_test,ax=ax,labe=200,skip=50,proba=True)\n",
    "#    make_roc(\"svm\",clfsvm,y_test,X_test,ax=ax,labe=200,skip=50,proba=False)\n",
    "#    make_roc(\"adaboost\",clfada,y_test,X_test,ax=ax,labe=200,skip=50,proba=True)\n",
    "#    ax.plot(x,intercept+slope*x,alpha=0.4,label='Tangent')\n",
    "#    ax.legend(loc='lower right')\n",
    "#    ax.set_xlabel('FPR')\n",
    "#    ax.set_ylabel('TPR')"
   ]
  },
  {
   "cell_type": "markdown",
   "metadata": {
    "collapsed": true
   },
   "source": [
    "### Dropping `Intended Graduation Year` As A Predictor\n",
    "\n",
    "Given that the `intendedgradyear` in our data only stretches back as far as 2009, it is worth seeing whether dropping it as a predictor will help. This assumes that the admissions regime at all of the top 25 colleges has not drastically changed over the last few years. \n",
    "\n",
    "The reason we are dropping this is because people who use the site will input an intended graduation year of >2019, whereas all of our data has intended graduation year of 2009-2019. Therefore using it as a feature would be extrapolation by definition, so is not entirely reliable. \n",
    "\n",
    "We drop the column from the training and test sets, not from the original data frame. The reason behind this is that we don't want to compare the accuracy for different training/test splits, so we need to ensure the same split is used below as was used above. "
   ]
  },
  {
   "cell_type": "code",
   "execution_count": 26,
   "metadata": {
    "collapsed": false
   },
   "outputs": [],
   "source": [
    "index_igy = [index for index,value in enumerate(dfpredict.columns) if value == \"intendedgradyear\"]\n",
    "select = [i for i in range(X_train.shape[1]) if i not in index_igy]"
   ]
  },
  {
   "cell_type": "code",
   "execution_count": 62,
   "metadata": {
    "collapsed": false
   },
   "outputs": [
    {
     "name": "stdout",
     "output_type": "stream",
     "text": [
      "Random Forest: \n",
      "{100: 0.72793118359278475, 5: 0.69994352077376543, 1000: 0.73281443044230299, 10: 0.70144622118676969, 50: 0.72980876486992141, 500: 0.73365932436725623, 25: 0.71966597832609691, 250: 0.73253282855024882}\n",
      "Best parameter:  500 0.733659324367\n",
      "Accuracy on test set:  0.743050338092\n",
      "Adaboost: \n",
      "{200: 0.72530242860672811, 50: 0.72041927000600092, 100: 0.72295430477602451, 250: 0.72314253944720952, 150: 0.72220330756468631}\n",
      "Best parameter:  200 0.725302428607\n",
      "Accuracy on test set:  0.728024042074\n"
     ]
    }
   ],
   "source": [
    "#dfpredict1 = dfpredict.drop(\"intendedgradyear\",axis=1)\n",
    "#X1 = imp.transform(dfpredict1)\n",
    "#y1 = dfresponse\n",
    "#X_train1, X_test1, y_train1, y_test1 = train_test_split(X1, y1, test_size=0.2)\n",
    "X_train1 = X_train[:,select]\n",
    "X_test1 = X_test[:,select]\n",
    "y_train1=y_train\n",
    "y_test1=y_test\n",
    "print 'Random Forest: '\n",
    "ntdict = {}\n",
    "for nt in [5,10,25,50,100,250,500,1000]:\n",
    "    clf = RandomForestClassifier(n_estimators=nt,criterion=\"gini\")\n",
    "    scores = cross_val_score(clf, X_train1, y_train1, cv=5)\n",
    "    ntdict[nt] = scores.mean()\n",
    "print ntdict\n",
    "best_nt = max(ntdict, key=ntdict.get)\n",
    "print 'Best parameter: ',best_nt, ntdict[best_nt]\n",
    "clfRF = RandomForestClassifier(n_estimators=nt)\n",
    "clfRF.fit(X_train1,y_train1)\n",
    "predicted = clfRF.predict(X_test1)\n",
    "print 'Accuracy on test set: ', metrics.accuracy_score(y_test1,predicted)\n",
    "print 'Adaboost: '\n",
    "ndict={}\n",
    "for n in [50,100,150,200,250]:\n",
    "    clf = AdaBoostClassifier(n_estimators=n);\n",
    "    scores = cross_val_score(clf, X_train1, y_train1, cv=5, scoring='accuracy')\n",
    "    ndict[n] = scores.mean()\n",
    "print ndict\n",
    "best_n = max(ndict, key=ndict.get)\n",
    "print 'Best parameter: ',best_n, ndict[best_n]\n",
    "clfADA = AdaBoostClassifier(n_estimators=best_n);\n",
    "clfADA.fit(X_train1,y_train1)\n",
    "predicted = clfADA.predict(X_test1)\n",
    "print 'Accuracy on test set: ', metrics.accuracy_score(y_test1,predicted)"
   ]
  },
  {
   "cell_type": "markdown",
   "metadata": {},
   "source": [
    "Our accuracy has dropped slightly, but with an acceptable amount. We are still gaining at least 10% compared to the baseline. Moreover, the little extra accuracy we obtained when including `intendedgradyear` may just be due to overfitting and thus not valid anyway when we want to predict for new users. "
   ]
  },
  {
   "cell_type": "markdown",
   "metadata": {},
   "source": [
    "## Predicting the probability of getting into college\n",
    "\n",
    "Let's now use our best classifier to predict the probability that a new candidate gets into each of the universities. We use the classifiers' `predict_proba` function to obtain this information. It is the answer we want to give users of our web app."
   ]
  },
  {
   "cell_type": "code",
   "execution_count": 64,
   "metadata": {
    "collapsed": false,
    "scrolled": false
   },
   "outputs": [
    {
     "data": {
      "text/plain": [
       "[{'college': 'Princeton', 'prob': (0.27100000000000002, 0.49861241402964329)},\n",
       " {'college': 'Harvard', 'prob': (0.1575, 0.49829616351109646)},\n",
       " {'college': 'Yale', 'prob': (0.19, 0.49789257856831082)},\n",
       " {'college': 'Columbia', 'prob': (0.27000000000000002, 0.49893386085793934)},\n",
       " {'college': 'Stanford', 'prob': (0.17599999999999999, 0.4981005409433984)},\n",
       " {'college': 'UChicago', 'prob': (0.54400000000000004, 0.49953045895672826)},\n",
       " {'college': 'MIT', 'prob': (0.26000000000000001, 0.49840100881307031)},\n",
       " {'college': 'Duke', 'prob': (0.52200000000000002, 0.49945513544441261)},\n",
       " {'college': 'UPenn', 'prob': (0.32400000000000001, 0.4992783217136173)},\n",
       " {'college': 'CalTech', 'prob': (0.47599999999999998, 0.49911940709488806)},\n",
       " {'college': 'JohnsHopkins',\n",
       "  'prob': (0.56799999999999995, 0.50021980198520399)},\n",
       " {'college': 'Dartmouth', 'prob': (0.48199999999999998, 0.49931417133877409)},\n",
       " {'college': 'Northwestern',\n",
       "  'prob': (0.58599999999999997, 0.50029403649233639)},\n",
       " {'college': 'Brown', 'prob': (0.44, 0.49864852370680934)},\n",
       " {'college': 'Cornell', 'prob': (0.58399999999999996, 0.50021980198520399)},\n",
       " {'college': 'Vanderbilt', 'prob': (0.64300000000000002, 0.50042462624644068)},\n",
       " {'college': 'WashU', 'prob': (0.63400000000000001, 0.5001711246474575)},\n",
       " {'college': 'Rice', 'prob': (0.71599999999999997, 0.50020942748933117)},\n",
       " {'college': 'NotreDame', 'prob': (0.67000000000000004, 0.50105935371363519)},\n",
       " {'college': 'UCB', 'prob': (0.80700000000000005, 0.50122104934941447)},\n",
       " {'college': 'Emory', 'prob': (0.70299999999999996, 0.50249519847060098)},\n",
       " {'college': 'Georgetown', 'prob': (0.60899999999999999, 0.50004053483175714)},\n",
       " {'college': 'CarnegieMellon', 'prob': (0.748, 0.5015396021506211)},\n",
       " {'college': 'UCLA', 'prob': (0.86699999999999999, 0.50123148737653178)},\n",
       " {'college': 'USC', 'prob': (0.745, 0.50181175810902545)}]"
      ]
     },
     "execution_count": 64,
     "metadata": {},
     "output_type": "execute_result"
    }
   ],
   "source": [
    "### test a candidate's chances for each college\n",
    "\n",
    "candidate = [0.926899206,7,1.06733864,\n",
    "             3,-0.187109979,0,1,\n",
    "             0,0,0,0,0,\n",
    "             0]\n",
    "\n",
    "college_cols = [\"acceptrate\",\"size\",\"public\",\"finAidPct\",\"instatePct\"]\n",
    "colleges = ti.College()\n",
    "preds = []\n",
    "for i, row in colleges.df.iterrows():\n",
    "    Xp1 = candidate + list(row[college_cols])\n",
    "    y_rf = clfRF.predict_proba(Xp1)[0][1]\n",
    "    y_ada = clfADA.predict_proba(Xp1)[0][1]\n",
    "    p =  {'college':row.collegeID, 'prob':(y_rf,y_ada)}\n",
    "    preds.append(p)\n",
    "    \n",
    "preds   "
   ]
  },
  {
   "cell_type": "code",
   "execution_count": null,
   "metadata": {
    "collapsed": true
   },
   "outputs": [],
   "source": []
  }
 ],
 "metadata": {
  "kernelspec": {
   "display_name": "Python 2",
   "language": "python",
   "name": "python2"
  },
  "language_info": {
   "codemirror_mode": {
    "name": "ipython",
    "version": 2
   },
   "file_extension": ".py",
   "mimetype": "text/x-python",
   "name": "python",
   "nbconvert_exporter": "python",
   "pygments_lexer": "ipython2",
   "version": "2.7.10"
  }
 },
 "nbformat": 4,
 "nbformat_minor": 0
}
