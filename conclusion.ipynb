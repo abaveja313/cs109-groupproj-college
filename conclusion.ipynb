{
 "cells": [
  {
   "cell_type": "markdown",
   "metadata": {},
   "source": [
    "# Conclusions"
   ]
  },
  {
   "cell_type": "markdown",
   "metadata": {},
   "source": [
    "We feel we have provided some transparency and explanation of the key factors affected college admission probability. In comparison to the multitude of self-proclaimed college admissions 'experts' at least we have the data and analysis to substantiate our results and have been forthright about the limitations of our models.\n",
    "\n",
    "For colleges:\n",
    "* There are significant variations in priorities the top 25 colleges put toward minority diversity, with Carnegie Mellon and Emory most favorable and Harvard one of the least favorable.\n",
    "* This is further substantiated by the advantage students at private schools have over public schools both in standardized tests as well as GPA.\n",
    "* Standardized tests, GPA and admission rates are far more important criteria than others for the majority of candidates.\n",
    "\n",
    "For students:\n",
    "* While there are limitations in our models, it appears that GPA and standardized admission scores are far more important than a large number of extracurriculars. Improving these two metrics is a better use of time than piling on yet another activity. \n",
    "* Use the early decision card wisely as some schools value it whereas it makes little impact on others. Use our  website to examine tradeoffs of these various factors."
   ]
  },
  {
   "cell_type": "markdown",
   "metadata": {},
   "source": [
    "## Next Steps\n",
    "\n",
    "If we were to continue this project, we would take the following next steps:\n",
    "\n",
    "* Analyze the unstructured College Confidential messages, likely using a Recurrent Neural Net. This would allow a more complete and well rounded picture of a candidate giving greater prediction accuracy. It would also potentially offset some of the self-selection bias in the current CollegeData.com data.\n",
    "* Extend the Linear Mixed Model analysis to compare and contrast different schools. This would provide some statistical power to either side in the current discussions about diversity within these elite schools.\n",
    "* Perform usability testing of the public website to gather feedback about utility, accuracy and usefulness.\n",
    "* Allow users of the public website to contribute their actual placement results. This would provide a growing and independent source of data from CollegeData.com. As more users contributed over time, this data set would be more accurate and more useful, creating a positive feedback loop.\n",
    "* Expand the number of colleges beyond just the top 25 and include other characteristics such as financial percentage, graduation rates.\n",
    "* Factor in college specific programs. Currently we have minimal data on the program that is candidate is applying to and no college-specific data about acceptance rates per program. For example at Harvard or Carnegie Mellon, there are dramatically different acceptance rates depending if the candidate applies to Computer Science or a Liberal Arts program.\n",
    "* Interview college admissions officers to review our results and compare against their data. If it were possible to obtain anonymized data from the colleges rather than relying on self-reported student numbers, our models could be significantly improved. \n",
    "\n",
    "Through this analysis, we have garnered even more respect for the admissions officers' challenge of playing Solomon among many qualified, hard working enthusiastic students. There are many competing and contradictory factors. As Nate Silver's baseball scouts ([source](https://en.wikipedia.org/wiki/Nate_Silver#Baseball_analyst:_2003.E2.80.932008)), admissions officers have the near impossible task of forecasting which students are most likely to thrive when the student is experencing many changes and challenges at this age."
   ]
  },
  {
   "cell_type": "code",
   "execution_count": null,
   "metadata": {
    "collapsed": true
   },
   "outputs": [],
   "source": []
  }
 ],
 "metadata": {
  "kernelspec": {
   "display_name": "Python 2",
   "language": "python",
   "name": "python2"
  },
  "language_info": {
   "codemirror_mode": {
    "name": "ipython",
    "version": 2
   },
   "file_extension": ".py",
   "mimetype": "text/x-python",
   "name": "python",
   "nbconvert_exporter": "python",
   "pygments_lexer": "ipython2",
   "version": "2.7.10"
  }
 },
 "nbformat": 4,
 "nbformat_minor": 0
}
