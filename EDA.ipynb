{
 "cells": [
  {
   "cell_type": "markdown",
   "metadata": {},
   "source": [
    "# Data analysis"
   ]
  },
  {
   "cell_type": "markdown",
   "metadata": {},
   "source": [
    "## 1. Exploratory Data Analysis\n",
    "\n",
    "Before doing any classification, we can look at what kind of information the scraped data gives us in itself. In our exploratory data analysis, we want to detect any obvious differences in how different universities handle gender and minorities. At first sight, how important is it to apply early or to have a family member alumnus?\n",
    "\n",
    "When creating and evaluating graphs based on our scraped data, we should keep in mind that our dataset is not balanced. For some universities we simply have a lot more data than for others. This is shown below. "
   ]
  },
  {
   "cell_type": "code",
   "execution_count": 1,
   "metadata": {
    "collapsed": false
   },
   "outputs": [
    {
     "data": {
      "text/html": [
       "<script type='text/javascript' src='https://public.tableau.com/javascripts/api/viz_v1.js'></script><div class='tableauPlaceholder' style='width: 982px; height: 742px;'><noscript><a href='#'><img alt='Gender ' src='https:&#47;&#47;public.tableau.com&#47;static&#47;images&#47;Da&#47;Dataavailability&#47;Gender&#47;1_rss.png' style='border: none' /></a></noscript><object class='tableauViz' width='982' height='742' style='display:none;'><param name='host_url' value='https%3A%2F%2Fpublic.tableau.com%2F' /> <param name='site_root' value='' /><param name='name' value='Dataavailability&#47;Gender' /><param name='tabs' value='no' /><param name='toolbar' value='yes' /><param name='static_image' value='https:&#47;&#47;public.tableau.com&#47;static&#47;images&#47;Da&#47;Dataavailability&#47;Gender&#47;1.png' /> <param name='animate_transition' value='yes' /><param name='display_static_image' value='yes' /><param name='display_spinner' value='yes' /><param name='display_overlay' value='yes' /><param name='display_count' value='yes' /><param name='showVizHome' value='no' /><param name='showTabs' value='y' /><param name='bootstrapWhenNotified' value='true' /></object></div>"
      ],
      "text/plain": [
       "<IPython.core.display.HTML object>"
      ]
     },
     "metadata": {},
     "output_type": "display_data"
    }
   ],
   "source": [
    "%%html\n",
    "<script type='text/javascript' src='https://public.tableau.com/javascripts/api/viz_v1.js'></script><div class='tableauPlaceholder' style='width: 982px; height: 742px;'><noscript><a href='#'><img alt='Gender ' src='https:&#47;&#47;public.tableau.com&#47;static&#47;images&#47;Da&#47;Dataavailability&#47;Gender&#47;1_rss.png' style='border: none' /></a></noscript><object class='tableauViz' width='982' height='742' style='display:none;'><param name='host_url' value='https%3A%2F%2Fpublic.tableau.com%2F' /> <param name='site_root' value='' /><param name='name' value='Dataavailability&#47;Gender' /><param name='tabs' value='no' /><param name='toolbar' value='yes' /><param name='static_image' value='https:&#47;&#47;public.tableau.com&#47;static&#47;images&#47;Da&#47;Dataavailability&#47;Gender&#47;1.png' /> <param name='animate_transition' value='yes' /><param name='display_static_image' value='yes' /><param name='display_spinner' value='yes' /><param name='display_overlay' value='yes' /><param name='display_count' value='yes' /><param name='showVizHome' value='no' /><param name='showTabs' value='y' /><param name='bootstrapWhenNotified' value='true' /></object></div>"
   ]
  },
  {
   "cell_type": "markdown",
   "metadata": {},
   "source": [
    "We have at least 100 accepted records for each university except for Caltech. We will not be able to make any conclusions for this university. On the other hand, we have many accepted records for the UCs, and a sufficient number of accepted records for the Ivys, so we can be quite confident about them.\n",
    "\n",
    "Our datamodel has many indicators. Below, we show a first comparison of the universities based on the proportion of accepted applicants who had a `TRUE` value for a given indicator. (For example in the Gender plot, of the students admittied to Caltech, about 60% were female.)"
   ]
  },
  {
   "cell_type": "code",
   "execution_count": 2,
   "metadata": {
    "collapsed": false
   },
   "outputs": [
    {
     "data": {
      "text/html": [
       "<script type='text/javascript' src='https://public.tableau.com/javascripts/api/viz_v1.js'></script><div class='tableauPlaceholder' style='width: 982px; height: 742px;'><noscript><a href='#'><img alt='Dashboard 3 ' src='https:&#47;&#47;public.tableau.com&#47;static&#47;images&#47;Sc&#47;Scores_5&#47;Dashboard3&#47;1_rss.png' style='border: none' /></a></noscript><object class='tableauViz' width='982' height='742' style='display:none;'><param name='host_url' value='https%3A%2F%2Fpublic.tableau.com%2F' /> <param name='site_root' value='' /><param name='name' value='Scores_5&#47;Dashboard3' /><param name='tabs' value='no' /><param name='toolbar' value='yes' /><param name='static_image' value='https:&#47;&#47;public.tableau.com&#47;static&#47;images&#47;Sc&#47;Scores_5&#47;Dashboard3&#47;1.png' /> <param name='animate_transition' value='yes' /><param name='display_static_image' value='yes' /><param name='display_spinner' value='yes' /><param name='display_overlay' value='yes' /><param name='display_count' value='yes' /><param name='showVizHome' value='no' /><param name='showTabs' value='y' /><param name='bootstrapWhenNotified' value='true' /></object></div>"
      ],
      "text/plain": [
       "<IPython.core.display.HTML object>"
      ]
     },
     "metadata": {},
     "output_type": "display_data"
    }
   ],
   "source": [
    "%%html\n",
    "<script type='text/javascript' src='https://public.tableau.com/javascripts/api/viz_v1.js'></script><div class='tableauPlaceholder' style='width: 982px; height: 742px;'><noscript><a href='#'><img alt='Dashboard 3 ' src='https:&#47;&#47;public.tableau.com&#47;static&#47;images&#47;Sc&#47;Scores_5&#47;Dashboard3&#47;1_rss.png' style='border: none' /></a></noscript><object class='tableauViz' width='982' height='742' style='display:none;'><param name='host_url' value='https%3A%2F%2Fpublic.tableau.com%2F' /> <param name='site_root' value='' /><param name='name' value='Scores_5&#47;Dashboard3' /><param name='tabs' value='no' /><param name='toolbar' value='yes' /><param name='static_image' value='https:&#47;&#47;public.tableau.com&#47;static&#47;images&#47;Sc&#47;Scores_5&#47;Dashboard3&#47;1.png' /> <param name='animate_transition' value='yes' /><param name='display_static_image' value='yes' /><param name='display_spinner' value='yes' /><param name='display_overlay' value='yes' /><param name='display_count' value='yes' /><param name='showVizHome' value='no' /><param name='showTabs' value='y' /><param name='bootstrapWhenNotified' value='true' /></object></div>"
   ]
  },
  {
   "cell_type": "markdown",
   "metadata": {},
   "source": [
    "##### Gender\n",
    "Firstly, we immediately notice the presence of 4 californian universities in the top 5 when it comes to accepting females. Caltech, UCLA and UCB are all known as more technical universities (especially Caltech), so it could be the case that these universities are overcompensating for a historically poor gender split by admitting more females to level the ratio. On the other side, Stanford, Vanderbilt and Duke are doing quite poorly on the gender equality front, with only about 40% of admitted students females in recent history. \n",
    "\n",
    "##### Minority\n",
    "The percentage of accepted minorities is very similar in most universities, varying around 25%. Whereas the Californian universities were better than the East Coast universities in terms of female admittance, they are worse for minority admittance. It is significant that the UCs, public universities that pride themselves on diversity of accepted candidates are relatively poor in minority acceptance. Caltech is clearly an outlier here due to its lack of data. For Notre Dame on the other hand, we do have enough records of acceptances so we can conclude that of their admitted students, there is a lower percentage of minorities. Given Notre Dame also appears to be slightly gender-biased (from the Gender plot), it seems that the university is not actively anti-discriminating their applicants. \n",
    "\n",
    "##### Alumni\n",
    "How important is legacy? Our graph shows that there are indeed universities for which it matters more than for others. For most universities, only about 5% of accepted students have an alumni connection. However, for the universities that are generally considered more elitist (e.g. Stanford and the Ivy Leagues), having alumni does appear to benefit one's application. \n",
    "\n",
    "##### Early application\n",
    "Early application seems to play an enormous role at some colleges, specifically MIT (~60%) and Chicago, Yale, Georgetown, and Notre Dame (~40%). In contrast, the public Californian universities give almost no weight to whether an application was early. The UCs have < 1% of admittied students as early applications. \n",
    "\n",
    "##### Out of state\n",
    "Our graph shows that for many universities, almost all accepted students are from a different state to the university. The Californian universities have the lowest proportion of out-of-state students, but this must be taken with the fact that California is the biggest state, so has the most applicants. This may explain that despite the fact that Caltech and Stanford are private, they still admit many Californians, purely because there are so many applicants from California. As is expected, the UCs have the lowest proportion of out-of-state students, as the institution is public. On the other side of the spectrum, Georgetown achieves a percentage of 99.41 out of state students. Again, this is to be expected given it is located in the state of \"District of Columbia\". \n",
    "\n",
    "##### International\n",
    "It is notable that the universities that admit the most (in terms of proportion) of international students are those that are widely considered to be the best, namely Caltech, Stanford, MIT, and the Ivy Leagues (especially Columbia and Harvard). This probably has two contributing reasons. Firstly, these are the universities with the best international reputation, so almost certainly receive more applications from international students compared to other universities. Secondly, these universities are all private, so are less likely to favour in-state and American students, and will just pick the best candidates from across the world. \n",
    "\n",
    "##### Sports\n",
    "High-school varsity sport plays an important role in the application to several top schools, notably Harvard, MIT, Stanford, and despite its reputation as an exclusively technical school, Caltech. In general (and this is by no means a hard-and-fast rule), the universities with a better \"reputation\" take sport into account more. The notable exception to this rule is the UCs, where < 2% admitted applicants listed proficiency at sport. Interestingly, none of Northwestern's admitted students listed varsity sport, and this is not for lack of results. \n",
    "\n",
    "##### Public/Private school\n",
    "Overall, universities' admitted students are 10-30% private-school high-school students, with the notable exception of Notre Dame (~40%). Recall that Notre Dame was also poor for gender equality and minority acceptance, and this plot shows it accepts more (in proportion) private-school students than the other colleges. Not surprisingly, the UCs have the lowest proportion of private-school students, as they are public universities. "
   ]
  },
  {
   "cell_type": "markdown",
   "metadata": {},
   "source": [
    "### Gender & Racial Equality\n",
    "Now, let us concentrate on the two most discussed indicators in college admissions: gender and minorities. Instead of just looking at the percentages admitted by universities, we should check if there are any discrepencies in how their scores compare. Ideally, we want the scores of minorities and non-minorities (or males and females) to be completely balanced. However, it is generally considered that SAT is racially biased, so universities should be compensating for this with more lenience towards minorities.\n",
    "\n",
    "Consider below an overview of SAT/ACT scores for non-minorities and minorities. Feel free to play with the filter to select a particular university or to switch between accepted/all records."
   ]
  },
  {
   "cell_type": "code",
   "execution_count": 3,
   "metadata": {
    "collapsed": false
   },
   "outputs": [
    {
     "data": {
      "text/html": [
       "<script type='text/javascript' src='https://public.tableau.com/javascripts/api/viz_v1.js'></script><div class='tableauPlaceholder' style='width: 982px; height: 742px;'><noscript><a href='#'><img alt='SAT&#47;ACT ' src='https:&#47;&#47;public.tableau.com&#47;static&#47;images&#47;5H&#47;5HQFR8RX5&#47;1_rss.png' style='border: none' /></a></noscript><object class='tableauViz' width='982' height='742' style='display:none;'><param name='host_url' value='https%3A%2F%2Fpublic.tableau.com%2F' /> <param name='path' value='shared&#47;5HQFR8RX5' /> <param name='toolbar' value='yes' /><param name='static_image' value='https:&#47;&#47;public.tableau.com&#47;static&#47;images&#47;5H&#47;5HQFR8RX5&#47;1.png' /> <param name='animate_transition' value='yes' /><param name='display_static_image' value='yes' /><param name='display_spinner' value='yes' /><param name='display_overlay' value='yes' /><param name='display_count' value='yes' /><param name='showVizHome' value='no' /><param name='showTabs' value='y' /><param name='bootstrapWhenNotified' value='true' /></object></div>"
      ],
      "text/plain": [
       "<IPython.core.display.HTML object>"
      ]
     },
     "metadata": {},
     "output_type": "display_data"
    }
   ],
   "source": [
    "%%html\n",
    "<script type='text/javascript' src='https://public.tableau.com/javascripts/api/viz_v1.js'></script><div class='tableauPlaceholder' style='width: 982px; height: 742px;'><noscript><a href='#'><img alt='SAT&#47;ACT ' src='https:&#47;&#47;public.tableau.com&#47;static&#47;images&#47;5H&#47;5HQFR8RX5&#47;1_rss.png' style='border: none' /></a></noscript><object class='tableauViz' width='982' height='742' style='display:none;'><param name='host_url' value='https%3A%2F%2Fpublic.tableau.com%2F' /> <param name='path' value='shared&#47;5HQFR8RX5' /> <param name='toolbar' value='yes' /><param name='static_image' value='https:&#47;&#47;public.tableau.com&#47;static&#47;images&#47;5H&#47;5HQFR8RX5&#47;1.png' /> <param name='animate_transition' value='yes' /><param name='display_static_image' value='yes' /><param name='display_spinner' value='yes' /><param name='display_overlay' value='yes' /><param name='display_count' value='yes' /><param name='showVizHome' value='no' /><param name='showTabs' value='y' /><param name='bootstrapWhenNotified' value='true' /></object></div>"
   ]
  },
  {
   "cell_type": "markdown",
   "metadata": {},
   "source": [
    "When only considering accepted students, we indeed see a drop in the minority scores for many universities. In particular, Emory and Carnegie Mellon are giving their minority candidates an obvious boost. In contrast, Duke and Harvard not only lack lenience towards minorities, but even show slightly higher scores for their accepted minorities than for their accepted non-minorities, indicating it is harder to get in as a minority student. \n",
    "\n",
    "Now, let's do the same for gender. In this case, we do want the scores of accepted females and males to be balanced, since the SAT and ACT are (as far as we know) neither biased towards males nor females. "
   ]
  },
  {
   "cell_type": "code",
   "execution_count": 4,
   "metadata": {
    "collapsed": false
   },
   "outputs": [
    {
     "data": {
      "text/html": [
       "<script type='text/javascript' src='https://public.tableau.com/javascripts/api/viz_v1.js'></script><div class='tableauPlaceholder' style='width: 982px; height: 742px;'><noscript><a href='#'><img alt='SAT&#47;GPA gender ' src='https:&#47;&#47;public.tableau.com&#47;static&#47;images&#47;B5&#47;B5XJ8G2KB&#47;1_rss.png' style='border: none' /></a></noscript><object class='tableauViz' width='982' height='742' style='display:none;'><param name='host_url' value='https%3A%2F%2Fpublic.tableau.com%2F' /> <param name='path' value='shared&#47;B5XJ8G2KB' /> <param name='toolbar' value='yes' /><param name='static_image' value='https:&#47;&#47;public.tableau.com&#47;static&#47;images&#47;B5&#47;B5XJ8G2KB&#47;1.png' /> <param name='animate_transition' value='yes' /><param name='display_static_image' value='yes' /><param name='display_spinner' value='yes' /><param name='display_overlay' value='yes' /><param name='display_count' value='yes' /><param name='showVizHome' value='no' /><param name='showTabs' value='y' /><param name='bootstrapWhenNotified' value='true' /></object></div>"
      ],
      "text/plain": [
       "<IPython.core.display.HTML object>"
      ]
     },
     "metadata": {},
     "output_type": "display_data"
    }
   ],
   "source": [
    "%%html\n",
    "<script type='text/javascript' src='https://public.tableau.com/javascripts/api/viz_v1.js'></script><div class='tableauPlaceholder' style='width: 982px; height: 742px;'><noscript><a href='#'><img alt='SAT&#47;GPA gender ' src='https:&#47;&#47;public.tableau.com&#47;static&#47;images&#47;B5&#47;B5XJ8G2KB&#47;1_rss.png' style='border: none' /></a></noscript><object class='tableauViz' width='982' height='742' style='display:none;'><param name='host_url' value='https%3A%2F%2Fpublic.tableau.com%2F' /> <param name='path' value='shared&#47;B5XJ8G2KB' /> <param name='toolbar' value='yes' /><param name='static_image' value='https:&#47;&#47;public.tableau.com&#47;static&#47;images&#47;B5&#47;B5XJ8G2KB&#47;1.png' /> <param name='animate_transition' value='yes' /><param name='display_static_image' value='yes' /><param name='display_spinner' value='yes' /><param name='display_overlay' value='yes' /><param name='display_count' value='yes' /><param name='showVizHome' value='no' /><param name='showTabs' value='y' /><param name='bootstrapWhenNotified' value='true' /></object></div>"
   ]
  },
  {
   "cell_type": "markdown",
   "metadata": {},
   "source": [
    "Many universities appear to be very fair when it comes to gender equality. In particular, Brown, Columbia and UChicago have very similar boxplots for accepted males and females, indicating no clear gender bias. At WashU, Vanderbilt and Berkeley, it appears females are getting a significant boost. As discussed below the Gender plot above, this is probably anti-discrimination to restore the gender balance to a historically male-dominated school. At MIT and Stanford on the other hand, males don't need to score as well on the SAT as females do to get in. "
   ]
  },
  {
   "cell_type": "markdown",
   "metadata": {},
   "source": [
    "### Private vs. Public school\n",
    "An important question for parents all over America is probably whether to send their kids to private school. Is it worth spending so much money on tuition? On the one hand, we could check if having been to a private high school gives one an edge in applications. That is, for similar candidates when it comes to test scores, gender, minority etc., is the private school candidate favored above the public school candidate? This analysis however goes above exploratory data analysis. Above, we investigated the percentage of accepted private school candidates for each university, but this result does not reflect the importance universities attribute to the high school type, as it is correlated to several other variables, such as GPA and admission test scores. What we can do at this point, is investigate these correlations. Does sending your kid to private school result in higher GPA or test scores? "
   ]
  },
  {
   "cell_type": "code",
   "execution_count": 5,
   "metadata": {
    "collapsed": false
   },
   "outputs": [
    {
     "data": {
      "text/html": [
       "<script type='text/javascript' src='https://public.tableau.com/javascripts/api/viz_v1.js'></script><div class='tableauPlaceholder' style='width: 982px; height: 742px;'><noscript><a href='#'><img alt='Dashboard 5 ' src='https:&#47;&#47;public.tableau.com&#47;static&#47;images&#47;Pr&#47;Privateschool&#47;Dashboard5&#47;1_rss.png' style='border: none' /></a></noscript><object class='tableauViz' width='982' height='742' style='display:none;'><param name='host_url' value='https%3A%2F%2Fpublic.tableau.com%2F' /> <param name='site_root' value='' /><param name='name' value='Privateschool&#47;Dashboard5' /><param name='tabs' value='no' /><param name='toolbar' value='yes' /><param name='static_image' value='https:&#47;&#47;public.tableau.com&#47;static&#47;images&#47;Pr&#47;Privateschool&#47;Dashboard5&#47;1.png' /> <param name='animate_transition' value='yes' /><param name='display_static_image' value='yes' /><param name='display_spinner' value='yes' /><param name='display_overlay' value='yes' /><param name='display_count' value='yes' /><param name='showVizHome' value='no' /><param name='showTabs' value='y' /><param name='bootstrapWhenNotified' value='true' /></object></div>"
      ],
      "text/plain": [
       "<IPython.core.display.HTML object>"
      ]
     },
     "metadata": {},
     "output_type": "display_data"
    }
   ],
   "source": [
    "%%html\n",
    "<script type='text/javascript' src='https://public.tableau.com/javascripts/api/viz_v1.js'></script><div class='tableauPlaceholder' style='width: 982px; height: 742px;'><noscript><a href='#'><img alt='Dashboard 5 ' src='https:&#47;&#47;public.tableau.com&#47;static&#47;images&#47;Pr&#47;Privateschool&#47;Dashboard5&#47;1_rss.png' style='border: none' /></a></noscript><object class='tableauViz' width='982' height='742' style='display:none;'><param name='host_url' value='https%3A%2F%2Fpublic.tableau.com%2F' /> <param name='site_root' value='' /><param name='name' value='Privateschool&#47;Dashboard5' /><param name='tabs' value='no' /><param name='toolbar' value='yes' /><param name='static_image' value='https:&#47;&#47;public.tableau.com&#47;static&#47;images&#47;Pr&#47;Privateschool&#47;Dashboard5&#47;1.png' /> <param name='animate_transition' value='yes' /><param name='display_static_image' value='yes' /><param name='display_spinner' value='yes' /><param name='display_overlay' value='yes' /><param name='display_count' value='yes' /><param name='showVizHome' value='no' /><param name='showTabs' value='y' /><param name='bootstrapWhenNotified' value='true' /></object></div>"
   ]
  },
  {
   "cell_type": "markdown",
   "metadata": {},
   "source": [
    "The answer to this question is clearly yes. The graphs above show that private school students will obtain an overall higher admissions test score, a higher GPA, and most notably, higher AP exam scores than public school students. One could remark that the higher GPA is a result of private schools grading students higher, but admissions tests and AP exams are standardised, so internal grading should not be a factor. \n",
    "\n",
    "It is worth mentioning that there is a confounding factor here. In general, students who go to private schools are wealthier. This means their families can afford private tuition for exams and admission tests, which clearly can boost results. Moreover, these students are less likely to require financial aid for college tuition, which may make the university more likely to accept them. "
   ]
  },
  {
   "cell_type": "markdown",
   "metadata": {},
   "source": [
    "### Correlation Between Factors\n",
    "\n",
    "We now check the correlation between different features. This will be an nxn matrix, where n is the number of predicting features. \n"
   ]
  },
  {
   "cell_type": "code",
   "execution_count": 41,
   "metadata": {
    "collapsed": true
   },
   "outputs": [],
   "source": [
    "%matplotlib inline \n",
    "import numpy as np\n",
    "import pandas as pd\n",
    "import matplotlib.pyplot as plt\n",
    "import seaborn as sns\n",
    "sns.set(style=\"white\")\n",
    "\n",
    "df = pd.read_csv(\"collegedata_normalized.csv\", index_col=0)"
   ]
  },
  {
   "cell_type": "markdown",
   "metadata": {},
   "source": [
    "In the classification notebook, we do some transformations and cleaning of this data, including removing columns that are mostly null. We will skip the details of this here, and just do the same procedure. For details on how we cleaned and manipulated the data, please see the classification notebook. "
   ]
  },
  {
   "cell_type": "code",
   "execution_count": 42,
   "metadata": {
    "collapsed": false
   },
   "outputs": [],
   "source": [
    "cols_to_drop = []\n",
    "for i in df.columns:\n",
    "    if 1.0* df[i].isnull().sum() / len(df[i]) >= 0.5:\n",
    "        cols_to_drop.append(i)\n",
    "dfr = df.drop(cols_to_drop,axis=1)\n",
    "dfr = dfr[pd.notnull(df[\"acceptStatus\"])]\n",
    "predictor_cols = [\"admissionstest\",\"AP\",\"averageAP\",\"SATsubject\",\"GPA\",\"schooltype\",\"female\",\"MinorityRace\",\"international\",\"sports\",\"earlyAppl\",\"alumni\",\"outofstate\",\"acceptrate\",\"size\",\"public\"]\n",
    "dfpredict = dfr[predictor_cols]"
   ]
  },
  {
   "cell_type": "code",
   "execution_count": 43,
   "metadata": {
    "collapsed": false
   },
   "outputs": [],
   "source": [
    "corr = dfpredict.corr()"
   ]
  },
  {
   "cell_type": "code",
   "execution_count": 44,
   "metadata": {
    "collapsed": false
   },
   "outputs": [
    {
     "data": {
      "text/html": [
       "<div>\n",
       "<table border=\"1\" class=\"dataframe\">\n",
       "  <thead>\n",
       "    <tr style=\"text-align: right;\">\n",
       "      <th></th>\n",
       "      <th>admissionstest</th>\n",
       "      <th>AP</th>\n",
       "      <th>averageAP</th>\n",
       "      <th>SATsubject</th>\n",
       "      <th>GPA</th>\n",
       "      <th>schooltype</th>\n",
       "      <th>female</th>\n",
       "      <th>MinorityRace</th>\n",
       "      <th>international</th>\n",
       "      <th>sports</th>\n",
       "      <th>earlyAppl</th>\n",
       "      <th>alumni</th>\n",
       "      <th>outofstate</th>\n",
       "      <th>acceptrate</th>\n",
       "      <th>size</th>\n",
       "      <th>public</th>\n",
       "    </tr>\n",
       "  </thead>\n",
       "  <tbody>\n",
       "    <tr>\n",
       "      <th>admissionstest</th>\n",
       "      <td>1.000000</td>\n",
       "      <td>0.300077</td>\n",
       "      <td>0.615468</td>\n",
       "      <td>0.307851</td>\n",
       "      <td>0.386417</td>\n",
       "      <td>-0.017239</td>\n",
       "      <td>-0.048377</td>\n",
       "      <td>-0.199466</td>\n",
       "      <td>-0.012235</td>\n",
       "      <td>-0.033747</td>\n",
       "      <td>0.074231</td>\n",
       "      <td>0.006578</td>\n",
       "      <td>0.168070</td>\n",
       "      <td>-0.196538</td>\n",
       "      <td>-0.212750</td>\n",
       "      <td>-0.205196</td>\n",
       "    </tr>\n",
       "    <tr>\n",
       "      <th>AP</th>\n",
       "      <td>0.300077</td>\n",
       "      <td>1.000000</td>\n",
       "      <td>0.213112</td>\n",
       "      <td>0.246952</td>\n",
       "      <td>0.194943</td>\n",
       "      <td>-0.152441</td>\n",
       "      <td>-0.064252</td>\n",
       "      <td>-0.019141</td>\n",
       "      <td>-0.180875</td>\n",
       "      <td>0.010262</td>\n",
       "      <td>0.008903</td>\n",
       "      <td>0.001129</td>\n",
       "      <td>-0.012815</td>\n",
       "      <td>-0.059521</td>\n",
       "      <td>-0.018955</td>\n",
       "      <td>-0.005882</td>\n",
       "    </tr>\n",
       "    <tr>\n",
       "      <th>averageAP</th>\n",
       "      <td>0.615468</td>\n",
       "      <td>0.213112</td>\n",
       "      <td>1.000000</td>\n",
       "      <td>0.216462</td>\n",
       "      <td>0.306799</td>\n",
       "      <td>0.001554</td>\n",
       "      <td>-0.101868</td>\n",
       "      <td>-0.110308</td>\n",
       "      <td>0.074168</td>\n",
       "      <td>-0.022213</td>\n",
       "      <td>0.052698</td>\n",
       "      <td>0.010766</td>\n",
       "      <td>0.147573</td>\n",
       "      <td>-0.176976</td>\n",
       "      <td>-0.188032</td>\n",
       "      <td>-0.185226</td>\n",
       "    </tr>\n",
       "    <tr>\n",
       "      <th>SATsubject</th>\n",
       "      <td>0.307851</td>\n",
       "      <td>0.246952</td>\n",
       "      <td>0.216462</td>\n",
       "      <td>1.000000</td>\n",
       "      <td>0.133628</td>\n",
       "      <td>-0.020524</td>\n",
       "      <td>-0.044089</td>\n",
       "      <td>-0.009325</td>\n",
       "      <td>0.025135</td>\n",
       "      <td>-0.009479</td>\n",
       "      <td>0.007147</td>\n",
       "      <td>-0.019399</td>\n",
       "      <td>0.046028</td>\n",
       "      <td>-0.155450</td>\n",
       "      <td>-0.088504</td>\n",
       "      <td>-0.093877</td>\n",
       "    </tr>\n",
       "    <tr>\n",
       "      <th>GPA</th>\n",
       "      <td>0.386417</td>\n",
       "      <td>0.194943</td>\n",
       "      <td>0.306799</td>\n",
       "      <td>0.133628</td>\n",
       "      <td>1.000000</td>\n",
       "      <td>-0.063258</td>\n",
       "      <td>0.031790</td>\n",
       "      <td>-0.111563</td>\n",
       "      <td>-0.011855</td>\n",
       "      <td>-0.043950</td>\n",
       "      <td>0.015334</td>\n",
       "      <td>-0.030700</td>\n",
       "      <td>0.076131</td>\n",
       "      <td>-0.162255</td>\n",
       "      <td>-0.124542</td>\n",
       "      <td>-0.119522</td>\n",
       "    </tr>\n",
       "    <tr>\n",
       "      <th>schooltype</th>\n",
       "      <td>-0.017239</td>\n",
       "      <td>-0.152441</td>\n",
       "      <td>0.001554</td>\n",
       "      <td>-0.020524</td>\n",
       "      <td>-0.063258</td>\n",
       "      <td>1.000000</td>\n",
       "      <td>-0.026516</td>\n",
       "      <td>0.018590</td>\n",
       "      <td>0.263372</td>\n",
       "      <td>0.026649</td>\n",
       "      <td>0.024376</td>\n",
       "      <td>0.043440</td>\n",
       "      <td>0.064542</td>\n",
       "      <td>0.000452</td>\n",
       "      <td>-0.033514</td>\n",
       "      <td>-0.029004</td>\n",
       "    </tr>\n",
       "    <tr>\n",
       "      <th>female</th>\n",
       "      <td>-0.048377</td>\n",
       "      <td>-0.064252</td>\n",
       "      <td>-0.101868</td>\n",
       "      <td>-0.044089</td>\n",
       "      <td>0.031790</td>\n",
       "      <td>-0.026516</td>\n",
       "      <td>1.000000</td>\n",
       "      <td>-0.010596</td>\n",
       "      <td>0.012613</td>\n",
       "      <td>-0.049908</td>\n",
       "      <td>-0.023245</td>\n",
       "      <td>-0.004034</td>\n",
       "      <td>-0.050354</td>\n",
       "      <td>0.016558</td>\n",
       "      <td>0.048261</td>\n",
       "      <td>0.052921</td>\n",
       "    </tr>\n",
       "    <tr>\n",
       "      <th>MinorityRace</th>\n",
       "      <td>-0.199466</td>\n",
       "      <td>-0.019141</td>\n",
       "      <td>-0.110308</td>\n",
       "      <td>-0.009325</td>\n",
       "      <td>-0.111563</td>\n",
       "      <td>0.018590</td>\n",
       "      <td>-0.010596</td>\n",
       "      <td>1.000000</td>\n",
       "      <td>-0.011579</td>\n",
       "      <td>0.019158</td>\n",
       "      <td>-0.018069</td>\n",
       "      <td>-0.041214</td>\n",
       "      <td>-0.007624</td>\n",
       "      <td>-0.019972</td>\n",
       "      <td>0.005041</td>\n",
       "      <td>-0.004712</td>\n",
       "    </tr>\n",
       "    <tr>\n",
       "      <th>international</th>\n",
       "      <td>-0.012235</td>\n",
       "      <td>-0.180875</td>\n",
       "      <td>0.074168</td>\n",
       "      <td>0.025135</td>\n",
       "      <td>-0.011855</td>\n",
       "      <td>0.263372</td>\n",
       "      <td>0.012613</td>\n",
       "      <td>-0.011579</td>\n",
       "      <td>1.000000</td>\n",
       "      <td>-0.016718</td>\n",
       "      <td>-0.020727</td>\n",
       "      <td>-0.014645</td>\n",
       "      <td>0.122847</td>\n",
       "      <td>-0.039693</td>\n",
       "      <td>-0.021409</td>\n",
       "      <td>-0.018992</td>\n",
       "    </tr>\n",
       "    <tr>\n",
       "      <th>sports</th>\n",
       "      <td>-0.033747</td>\n",
       "      <td>0.010262</td>\n",
       "      <td>-0.022213</td>\n",
       "      <td>-0.009479</td>\n",
       "      <td>-0.043950</td>\n",
       "      <td>0.026649</td>\n",
       "      <td>-0.049908</td>\n",
       "      <td>0.019158</td>\n",
       "      <td>-0.016718</td>\n",
       "      <td>1.000000</td>\n",
       "      <td>0.021666</td>\n",
       "      <td>0.051073</td>\n",
       "      <td>0.013952</td>\n",
       "      <td>-0.015739</td>\n",
       "      <td>-0.014982</td>\n",
       "      <td>-0.015685</td>\n",
       "    </tr>\n",
       "    <tr>\n",
       "      <th>earlyAppl</th>\n",
       "      <td>0.074231</td>\n",
       "      <td>0.008903</td>\n",
       "      <td>0.052698</td>\n",
       "      <td>0.007147</td>\n",
       "      <td>0.015334</td>\n",
       "      <td>0.024376</td>\n",
       "      <td>-0.023245</td>\n",
       "      <td>-0.018069</td>\n",
       "      <td>-0.020727</td>\n",
       "      <td>0.021666</td>\n",
       "      <td>1.000000</td>\n",
       "      <td>0.089311</td>\n",
       "      <td>0.078314</td>\n",
       "      <td>-0.122157</td>\n",
       "      <td>-0.165489</td>\n",
       "      <td>-0.179110</td>\n",
       "    </tr>\n",
       "    <tr>\n",
       "      <th>alumni</th>\n",
       "      <td>0.006578</td>\n",
       "      <td>0.001129</td>\n",
       "      <td>0.010766</td>\n",
       "      <td>-0.019399</td>\n",
       "      <td>-0.030700</td>\n",
       "      <td>0.043440</td>\n",
       "      <td>-0.004034</td>\n",
       "      <td>-0.041214</td>\n",
       "      <td>-0.014645</td>\n",
       "      <td>0.051073</td>\n",
       "      <td>0.089311</td>\n",
       "      <td>1.000000</td>\n",
       "      <td>-0.024220</td>\n",
       "      <td>-0.028205</td>\n",
       "      <td>-0.007642</td>\n",
       "      <td>-0.032328</td>\n",
       "    </tr>\n",
       "    <tr>\n",
       "      <th>outofstate</th>\n",
       "      <td>0.168070</td>\n",
       "      <td>-0.012815</td>\n",
       "      <td>0.147573</td>\n",
       "      <td>0.046028</td>\n",
       "      <td>0.076131</td>\n",
       "      <td>0.064542</td>\n",
       "      <td>-0.050354</td>\n",
       "      <td>-0.007624</td>\n",
       "      <td>0.122847</td>\n",
       "      <td>0.013952</td>\n",
       "      <td>0.078314</td>\n",
       "      <td>-0.024220</td>\n",
       "      <td>1.000000</td>\n",
       "      <td>-0.210132</td>\n",
       "      <td>-0.509151</td>\n",
       "      <td>-0.559408</td>\n",
       "    </tr>\n",
       "    <tr>\n",
       "      <th>acceptrate</th>\n",
       "      <td>-0.196538</td>\n",
       "      <td>-0.059521</td>\n",
       "      <td>-0.176976</td>\n",
       "      <td>-0.155450</td>\n",
       "      <td>-0.162255</td>\n",
       "      <td>0.000452</td>\n",
       "      <td>0.016558</td>\n",
       "      <td>-0.019972</td>\n",
       "      <td>-0.039693</td>\n",
       "      <td>-0.015739</td>\n",
       "      <td>-0.122157</td>\n",
       "      <td>-0.028205</td>\n",
       "      <td>-0.210132</td>\n",
       "      <td>1.000000</td>\n",
       "      <td>0.392001</td>\n",
       "      <td>0.418477</td>\n",
       "    </tr>\n",
       "    <tr>\n",
       "      <th>size</th>\n",
       "      <td>-0.212750</td>\n",
       "      <td>-0.018955</td>\n",
       "      <td>-0.188032</td>\n",
       "      <td>-0.088504</td>\n",
       "      <td>-0.124542</td>\n",
       "      <td>-0.033514</td>\n",
       "      <td>0.048261</td>\n",
       "      <td>0.005041</td>\n",
       "      <td>-0.021409</td>\n",
       "      <td>-0.014982</td>\n",
       "      <td>-0.165489</td>\n",
       "      <td>-0.007642</td>\n",
       "      <td>-0.509151</td>\n",
       "      <td>0.392001</td>\n",
       "      <td>1.000000</td>\n",
       "      <td>0.883015</td>\n",
       "    </tr>\n",
       "    <tr>\n",
       "      <th>public</th>\n",
       "      <td>-0.205196</td>\n",
       "      <td>-0.005882</td>\n",
       "      <td>-0.185226</td>\n",
       "      <td>-0.093877</td>\n",
       "      <td>-0.119522</td>\n",
       "      <td>-0.029004</td>\n",
       "      <td>0.052921</td>\n",
       "      <td>-0.004712</td>\n",
       "      <td>-0.018992</td>\n",
       "      <td>-0.015685</td>\n",
       "      <td>-0.179110</td>\n",
       "      <td>-0.032328</td>\n",
       "      <td>-0.559408</td>\n",
       "      <td>0.418477</td>\n",
       "      <td>0.883015</td>\n",
       "      <td>1.000000</td>\n",
       "    </tr>\n",
       "  </tbody>\n",
       "</table>\n",
       "</div>"
      ],
      "text/plain": [
       "                admissionstest        AP  averageAP  SATsubject       GPA  \\\n",
       "admissionstest        1.000000  0.300077   0.615468    0.307851  0.386417   \n",
       "AP                    0.300077  1.000000   0.213112    0.246952  0.194943   \n",
       "averageAP             0.615468  0.213112   1.000000    0.216462  0.306799   \n",
       "SATsubject            0.307851  0.246952   0.216462    1.000000  0.133628   \n",
       "GPA                   0.386417  0.194943   0.306799    0.133628  1.000000   \n",
       "schooltype           -0.017239 -0.152441   0.001554   -0.020524 -0.063258   \n",
       "female               -0.048377 -0.064252  -0.101868   -0.044089  0.031790   \n",
       "MinorityRace         -0.199466 -0.019141  -0.110308   -0.009325 -0.111563   \n",
       "international        -0.012235 -0.180875   0.074168    0.025135 -0.011855   \n",
       "sports               -0.033747  0.010262  -0.022213   -0.009479 -0.043950   \n",
       "earlyAppl             0.074231  0.008903   0.052698    0.007147  0.015334   \n",
       "alumni                0.006578  0.001129   0.010766   -0.019399 -0.030700   \n",
       "outofstate            0.168070 -0.012815   0.147573    0.046028  0.076131   \n",
       "acceptrate           -0.196538 -0.059521  -0.176976   -0.155450 -0.162255   \n",
       "size                 -0.212750 -0.018955  -0.188032   -0.088504 -0.124542   \n",
       "public               -0.205196 -0.005882  -0.185226   -0.093877 -0.119522   \n",
       "\n",
       "                schooltype    female  MinorityRace  international    sports  \\\n",
       "admissionstest   -0.017239 -0.048377     -0.199466      -0.012235 -0.033747   \n",
       "AP               -0.152441 -0.064252     -0.019141      -0.180875  0.010262   \n",
       "averageAP         0.001554 -0.101868     -0.110308       0.074168 -0.022213   \n",
       "SATsubject       -0.020524 -0.044089     -0.009325       0.025135 -0.009479   \n",
       "GPA              -0.063258  0.031790     -0.111563      -0.011855 -0.043950   \n",
       "schooltype        1.000000 -0.026516      0.018590       0.263372  0.026649   \n",
       "female           -0.026516  1.000000     -0.010596       0.012613 -0.049908   \n",
       "MinorityRace      0.018590 -0.010596      1.000000      -0.011579  0.019158   \n",
       "international     0.263372  0.012613     -0.011579       1.000000 -0.016718   \n",
       "sports            0.026649 -0.049908      0.019158      -0.016718  1.000000   \n",
       "earlyAppl         0.024376 -0.023245     -0.018069      -0.020727  0.021666   \n",
       "alumni            0.043440 -0.004034     -0.041214      -0.014645  0.051073   \n",
       "outofstate        0.064542 -0.050354     -0.007624       0.122847  0.013952   \n",
       "acceptrate        0.000452  0.016558     -0.019972      -0.039693 -0.015739   \n",
       "size             -0.033514  0.048261      0.005041      -0.021409 -0.014982   \n",
       "public           -0.029004  0.052921     -0.004712      -0.018992 -0.015685   \n",
       "\n",
       "                earlyAppl    alumni  outofstate  acceptrate      size  \\\n",
       "admissionstest   0.074231  0.006578    0.168070   -0.196538 -0.212750   \n",
       "AP               0.008903  0.001129   -0.012815   -0.059521 -0.018955   \n",
       "averageAP        0.052698  0.010766    0.147573   -0.176976 -0.188032   \n",
       "SATsubject       0.007147 -0.019399    0.046028   -0.155450 -0.088504   \n",
       "GPA              0.015334 -0.030700    0.076131   -0.162255 -0.124542   \n",
       "schooltype       0.024376  0.043440    0.064542    0.000452 -0.033514   \n",
       "female          -0.023245 -0.004034   -0.050354    0.016558  0.048261   \n",
       "MinorityRace    -0.018069 -0.041214   -0.007624   -0.019972  0.005041   \n",
       "international   -0.020727 -0.014645    0.122847   -0.039693 -0.021409   \n",
       "sports           0.021666  0.051073    0.013952   -0.015739 -0.014982   \n",
       "earlyAppl        1.000000  0.089311    0.078314   -0.122157 -0.165489   \n",
       "alumni           0.089311  1.000000   -0.024220   -0.028205 -0.007642   \n",
       "outofstate       0.078314 -0.024220    1.000000   -0.210132 -0.509151   \n",
       "acceptrate      -0.122157 -0.028205   -0.210132    1.000000  0.392001   \n",
       "size            -0.165489 -0.007642   -0.509151    0.392001  1.000000   \n",
       "public          -0.179110 -0.032328   -0.559408    0.418477  0.883015   \n",
       "\n",
       "                  public  \n",
       "admissionstest -0.205196  \n",
       "AP             -0.005882  \n",
       "averageAP      -0.185226  \n",
       "SATsubject     -0.093877  \n",
       "GPA            -0.119522  \n",
       "schooltype     -0.029004  \n",
       "female          0.052921  \n",
       "MinorityRace   -0.004712  \n",
       "international  -0.018992  \n",
       "sports         -0.015685  \n",
       "earlyAppl      -0.179110  \n",
       "alumni         -0.032328  \n",
       "outofstate     -0.559408  \n",
       "acceptrate      0.418477  \n",
       "size            0.883015  \n",
       "public          1.000000  "
      ]
     },
     "execution_count": 44,
     "metadata": {},
     "output_type": "execute_result"
    }
   ],
   "source": [
    "corr"
   ]
  },
  {
   "cell_type": "code",
   "execution_count": 52,
   "metadata": {
    "collapsed": false
   },
   "outputs": [
    {
     "data": {
      "text/plain": [
       "<matplotlib.axes._subplots.AxesSubplot at 0x1094df5d0>"
      ]
     },
     "execution_count": 52,
     "metadata": {},
     "output_type": "execute_result"
    },
    {
     "data": {
      "image/png": "[encoded data removed]",
      "text/plain": [
       "<matplotlib.figure.Figure at 0x109278d10>"
      ]
     },
     "metadata": {},
     "output_type": "display_data"
    }
   ],
   "source": [
    "import numpy as np\n",
    "import pandas as pd\n",
    "\n",
    "# Set up the matplotlib figure\n",
    "f, ax = plt.subplots(figsize=(11, 9))\n",
    "# Generate a custom diverging colormap\n",
    "cmap = sns.diverging_palette(220, 10, as_cmap=True)\n",
    "# Draw the heatmap with the mask and correct aspect ratio\n",
    "sns.heatmap(corr, cmap=cmap, vmax=.3,\n",
    "            square=True, \n",
    "            linewidths=.5, cbar_kws={\"shrink\": .5}, ax=ax)"
   ]
  },
  {
   "cell_type": "markdown",
   "metadata": {},
   "source": [
    "## 2. "
   ]
  },
  {
   "cell_type": "code",
   "execution_count": null,
   "metadata": {
    "collapsed": true
   },
   "outputs": [],
   "source": []
  }
 ],
 "metadata": {
  "kernelspec": {
   "display_name": "Python 2",
   "language": "python",
   "name": "python2"
  },
  "language_info": {
   "codemirror_mode": {
    "name": "ipython",
    "version": 2
   },
   "file_extension": ".py",
   "mimetype": "text/x-python",
   "name": "python",
   "nbconvert_exporter": "python",
   "pygments_lexer": "ipython2",
   "version": "2.7.10"
  }
 },
 "nbformat": 4,
 "nbformat_minor": 0
}
