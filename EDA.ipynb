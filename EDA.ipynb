{
 "cells": [
  {
   "cell_type": "markdown",
   "metadata": {},
   "source": [
    "# Data analysis"
   ]
  },
  {
   "cell_type": "markdown",
   "metadata": {},
   "source": [
    "## 1. Exploratory Data Analysis\n",
    "\n",
    "Before doing any classification, we can look at what kind of information the scraped data gives us in itself. In our exploratory data analysis, we want to detect any obvious differences in how different universities handle gender and minorities. At first sight, how important is it to apply early or to have a family member alumnus?\n",
    "\n",
    "When creating and evaluating graphs based on our scraped data, we should keep in mind that our dataset is not balanced. For some universities we simply have a lot more data than for others. This is shown below. "
   ]
  },
  {
   "cell_type": "code",
   "execution_count": 1,
   "metadata": {
    "collapsed": false
   },
   "outputs": [
    {
     "data": {
      "text/html": [
       "<script type='text/javascript' src='https://public.tableau.com/javascripts/api/viz_v1.js'></script><div class='tableauPlaceholder' style='width: 982px; height: 742px;'><noscript><a href='#'><img alt='Gender ' src='https:&#47;&#47;public.tableau.com&#47;static&#47;images&#47;Da&#47;Dataavailability&#47;Gender&#47;1_rss.png' style='border: none' /></a></noscript><object class='tableauViz' width='982' height='742' style='display:none;'><param name='host_url' value='https%3A%2F%2Fpublic.tableau.com%2F' /> <param name='site_root' value='' /><param name='name' value='Dataavailability&#47;Gender' /><param name='tabs' value='no' /><param name='toolbar' value='yes' /><param name='static_image' value='https:&#47;&#47;public.tableau.com&#47;static&#47;images&#47;Da&#47;Dataavailability&#47;Gender&#47;1.png' /> <param name='animate_transition' value='yes' /><param name='display_static_image' value='yes' /><param name='display_spinner' value='yes' /><param name='display_overlay' value='yes' /><param name='display_count' value='yes' /><param name='showVizHome' value='no' /><param name='showTabs' value='y' /><param name='bootstrapWhenNotified' value='true' /></object></div>"
      ],
      "text/plain": [
       "<IPython.core.display.HTML object>"
      ]
     },
     "metadata": {},
     "output_type": "display_data"
    }
   ],
   "source": [
    "%%html\n",
    "<script type='text/javascript' src='https://public.tableau.com/javascripts/api/viz_v1.js'></script><div class='tableauPlaceholder' style='width: 982px; height: 742px;'><noscript><a href='#'><img alt='Gender ' src='https:&#47;&#47;public.tableau.com&#47;static&#47;images&#47;Da&#47;Dataavailability&#47;Gender&#47;1_rss.png' style='border: none' /></a></noscript><object class='tableauViz' width='982' height='742' style='display:none;'><param name='host_url' value='https%3A%2F%2Fpublic.tableau.com%2F' /> <param name='site_root' value='' /><param name='name' value='Dataavailability&#47;Gender' /><param name='tabs' value='no' /><param name='toolbar' value='yes' /><param name='static_image' value='https:&#47;&#47;public.tableau.com&#47;static&#47;images&#47;Da&#47;Dataavailability&#47;Gender&#47;1.png' /> <param name='animate_transition' value='yes' /><param name='display_static_image' value='yes' /><param name='display_spinner' value='yes' /><param name='display_overlay' value='yes' /><param name='display_count' value='yes' /><param name='showVizHome' value='no' /><param name='showTabs' value='y' /><param name='bootstrapWhenNotified' value='true' /></object></div>"
   ]
  },
  {
   "cell_type": "markdown",
   "metadata": {},
   "source": [
    "We have at least 100 accepted records for each university except for Caltech. We will not be able to make any conclusions for this university. On the other hand, we have many accepted records for the UCs, and a sufficient number of accepted records for the Ivys, so we can be quite confident about them.\n",
    "\n",
    "Our datamodel has many indicators. Below, we show a first comparison of the universities based on the proportion of accepted applicants who had a `TRUE` value for a given indicator. (For example in the Gender plot, of the students admittied to Caltech, about 60% were female.)"
   ]
  },
  {
   "cell_type": "code",
   "execution_count": 10,
   "metadata": {
    "collapsed": false
   },
   "outputs": [
    {
     "data": {
      "text/html": [
       "<script type='text/javascript' src='https://public.tableau.com/javascripts/api/viz_v1.js'></script><div class='tableauPlaceholder' style='width: 982px; height: 742px;'><noscript><a href='#'><img alt='Dashboard 3 ' src='https:&#47;&#47;public.tableau.com&#47;static&#47;images&#47;Sc&#47;Scores_5&#47;Dashboard3&#47;1_rss.png' style='border: none' /></a></noscript><object class='tableauViz' width='982' height='742' style='display:none;'><param name='host_url' value='https%3A%2F%2Fpublic.tableau.com%2F' /> <param name='site_root' value='' /><param name='name' value='Scores_5&#47;Dashboard3' /><param name='tabs' value='no' /><param name='toolbar' value='yes' /><param name='static_image' value='https:&#47;&#47;public.tableau.com&#47;static&#47;images&#47;Sc&#47;Scores_5&#47;Dashboard3&#47;1.png' /> <param name='animate_transition' value='yes' /><param name='display_static_image' value='yes' /><param name='display_spinner' value='yes' /><param name='display_overlay' value='yes' /><param name='display_count' value='yes' /><param name='showVizHome' value='no' /><param name='showTabs' value='y' /><param name='bootstrapWhenNotified' value='true' /></object></div>"
      ],
      "text/plain": [
       "<IPython.core.display.HTML object>"
      ]
     },
     "metadata": {},
     "output_type": "display_data"
    }
   ],
   "source": [
    "%%html\n",
    "<script type='text/javascript' src='https://public.tableau.com/javascripts/api/viz_v1.js'></script><div class='tableauPlaceholder' style='width: 982px; height: 742px;'><noscript><a href='#'><img alt='Dashboard 3 ' src='https:&#47;&#47;public.tableau.com&#47;static&#47;images&#47;Sc&#47;Scores_5&#47;Dashboard3&#47;1_rss.png' style='border: none' /></a></noscript><object class='tableauViz' width='982' height='742' style='display:none;'><param name='host_url' value='https%3A%2F%2Fpublic.tableau.com%2F' /> <param name='site_root' value='' /><param name='name' value='Scores_5&#47;Dashboard3' /><param name='tabs' value='no' /><param name='toolbar' value='yes' /><param name='static_image' value='https:&#47;&#47;public.tableau.com&#47;static&#47;images&#47;Sc&#47;Scores_5&#47;Dashboard3&#47;1.png' /> <param name='animate_transition' value='yes' /><param name='display_static_image' value='yes' /><param name='display_spinner' value='yes' /><param name='display_overlay' value='yes' /><param name='display_count' value='yes' /><param name='showVizHome' value='no' /><param name='showTabs' value='y' /><param name='bootstrapWhenNotified' value='true' /></object></div>"
   ]
  },
  {
   "cell_type": "markdown",
   "metadata": {},
   "source": [
    "##### Gender\n",
    "Firstly, we immediately notice the presence of 4 californian universities in the top 5 when it comes to accepting females. Caltech, UCLA and UCB are all known as more technical universities (especially Caltech), so it could be the case that these universities are overcompensating for a historically poor gender split by admitting more females to level the ratio. On the other side, Stanford, Vanderbilt and Duke are doing quite poorly on the gender equality front, with only about 40% of admitted students females in recent history. \n",
    "\n",
    "##### Minority\n",
    "The percentage of accepted minorities is very similar in most universities, varying around 25%. Whereas the Californian universities were better than the East Coast universities in terms of female admittance, they are worse for minority admittance. It is significant that the UCs, public universities that pride themselves on diversity of accepted candidates are relatively poor in minority acceptance. Caltech is clearly an outlier here due to its lack of data. For Notre Dame on the other hand, we do have enough records of acceptances so we can conclude that of their admitted students, there is a lower percentage of minorities. Given Notre Dame also appears to be slightly gender-biased (from the Gender plot), it seems that the university is not actively anti-discriminating their applicants. \n",
    "\n",
    "##### Alumni\n",
    "How important is legacy? Our graph shows that there are indeed universities for which it matters more than for others. For most universities, only about 5% of accepted students have an alumni connection. However, for the universities that are generally considered more elitist (e.g. Stanford and the Ivy Leagues), having alumni does appear to benefit one's application. \n",
    "\n",
    "##### Early application\n",
    "Early application seems to play an enormous role at some colleges, specifically MIT (~60%) and Chicago, Yale, Georgetown, and Notre Dame (~40%). In contrast, the public Californian universities give almost no weight to whether an application was early. The UCs have < 1% of admittied students as early applications. \n",
    "\n",
    "##### Out of state\n",
    "Our graph shows that for many universities, almost all accepted students are from a different state to the university. The Californian universities have the lowest proportion of out-of-state students, but this must be taken with the fact that California is the biggest state, so has the most applicants. This may explain that despite the fact that Caltech and Stanford are private, they still admit many Californians, purely because there are so many applicants from California. As is expected, the UCs have the lowest proportion of out-of-state students, as the institution is public. On the other side of the spectrum, Georgetown achieves a percentage of 99.41 out of state students. Again, this is to be expected given it is located in the state of \"District of Columbia\". \n",
    "\n",
    "##### International\n",
    "It is notable that the universities that admit the most (in terms of proportion) of international students are those that are widely considered to be the best, namely Caltech, Stanford, MIT, and the Ivy Leagues (especially Columbia and Harvard). This probably has two contributing reasons. Firstly, these are the universities with the best international reputation, so almost certainly receive more applications from international students compared to other universities. Secondly, these universities are all private, so are less likely to favour in-state and American students, and will just pick the best candidates from across the world. \n",
    "\n",
    "##### Sports\n",
    "High-school varsity sport plays an important role in the application to several top schools, notably Harvard, MIT, Stanford, and despite its reputation as an exclusively technical school, Caltech. In general (and this is by no means a hard-and-fast rule), the universities with a better \"reputation\" take sport into account more. The notable exception to this rule is the UCs, where < 2% admitted applicants listed proficiency at sport. Interestingly, none of Northwestern's admitted students listed varsity sport, and this is not for lack of results. \n",
    "\n",
    "##### Public/Private school\n",
    "Overall, universities' admitted students are 10-30% private-school high-school students, with the notable exception of Notre Dame (~40%). Recall that Notre Dame was also poor for gender equality and minority acceptance, and this plot shows it accepts more (in proportion) private-school students than the other colleges. Not surprisingly, the UCs have the lowest proportion of private-school students, as they are public universities. "
   ]
  },
  {
   "cell_type": "markdown",
   "metadata": {},
   "source": [
    "### Gender & Racial Equality\n",
    "Now, let us concentrate on the two most discussed indicators in college admissions: gender and minorities. Instead of just looking at the percentages admitted by universities, we should check if there are any discrepencies in how their scores compare. Ideally, we want the scores of minorities and non-minorities (or males and females) to be completely balanced. However, it is generally considered that SAT is racially biased, so universities should be compensating for this with more lenience towards minorities.\n",
    "\n",
    "Consider below an overview of SAT/ACT scores for non-minorities and minorities. Feel free to play with the filter to select a particular university or to switch between accepted/all records."
   ]
  },
  {
   "cell_type": "code",
   "execution_count": 6,
   "metadata": {
    "collapsed": false
   },
   "outputs": [
    {
     "data": {
      "text/html": [
       "<script type='text/javascript' src='https://public.tableau.com/javascripts/api/viz_v1.js'></script><div class='tableauPlaceholder' style='width: 982px; height: 742px;'><noscript><a href='#'><img alt='SAT&#47;ACT ' src='https:&#47;&#47;public.tableau.com&#47;static&#47;images&#47;5H&#47;5HQFR8RX5&#47;1_rss.png' style='border: none' /></a></noscript><object class='tableauViz' width='982' height='742' style='display:none;'><param name='host_url' value='https%3A%2F%2Fpublic.tableau.com%2F' /> <param name='path' value='shared&#47;5HQFR8RX5' /> <param name='toolbar' value='yes' /><param name='static_image' value='https:&#47;&#47;public.tableau.com&#47;static&#47;images&#47;5H&#47;5HQFR8RX5&#47;1.png' /> <param name='animate_transition' value='yes' /><param name='display_static_image' value='yes' /><param name='display_spinner' value='yes' /><param name='display_overlay' value='yes' /><param name='display_count' value='yes' /><param name='showVizHome' value='no' /><param name='showTabs' value='y' /><param name='bootstrapWhenNotified' value='true' /></object></div>"
      ],
      "text/plain": [
       "<IPython.core.display.HTML object>"
      ]
     },
     "metadata": {},
     "output_type": "display_data"
    }
   ],
   "source": [
    "%%html\n",
    "<script type='text/javascript' src='https://public.tableau.com/javascripts/api/viz_v1.js'></script><div class='tableauPlaceholder' style='width: 982px; height: 742px;'><noscript><a href='#'><img alt='SAT&#47;ACT ' src='https:&#47;&#47;public.tableau.com&#47;static&#47;images&#47;5H&#47;5HQFR8RX5&#47;1_rss.png' style='border: none' /></a></noscript><object class='tableauViz' width='982' height='742' style='display:none;'><param name='host_url' value='https%3A%2F%2Fpublic.tableau.com%2F' /> <param name='path' value='shared&#47;5HQFR8RX5' /> <param name='toolbar' value='yes' /><param name='static_image' value='https:&#47;&#47;public.tableau.com&#47;static&#47;images&#47;5H&#47;5HQFR8RX5&#47;1.png' /> <param name='animate_transition' value='yes' /><param name='display_static_image' value='yes' /><param name='display_spinner' value='yes' /><param name='display_overlay' value='yes' /><param name='display_count' value='yes' /><param name='showVizHome' value='no' /><param name='showTabs' value='y' /><param name='bootstrapWhenNotified' value='true' /></object></div>"
   ]
  },
  {
   "cell_type": "markdown",
   "metadata": {},
   "source": [
    "When only considering accepted students, we indeed see a drop in the minority scores for many universities. In particular, Emory and Carnegie Mellon are giving their minority candidates an obvious boost. In contrast, Duke and Harvard not only lack lenience towards minorities, but even show slightly higher scores for their accepted minorities than for their accepted non-minorities, indicating it is harder to get in as a minority student. \n",
    "\n",
    "Now, let's do the same for gender. In this case, we do want the scores of accepted females and males to be balanced, since the SAT and ACT are (as far as we know) neither biased towards males nor females. "
   ]
  },
  {
   "cell_type": "code",
   "execution_count": 7,
   "metadata": {
    "collapsed": false
   },
   "outputs": [
    {
     "data": {
      "text/html": [
       "<script type='text/javascript' src='https://public.tableau.com/javascripts/api/viz_v1.js'></script><div class='tableauPlaceholder' style='width: 982px; height: 742px;'><noscript><a href='#'><img alt='SAT&#47;GPA gender ' src='https:&#47;&#47;public.tableau.com&#47;static&#47;images&#47;B5&#47;B5XJ8G2KB&#47;1_rss.png' style='border: none' /></a></noscript><object class='tableauViz' width='982' height='742' style='display:none;'><param name='host_url' value='https%3A%2F%2Fpublic.tableau.com%2F' /> <param name='path' value='shared&#47;B5XJ8G2KB' /> <param name='toolbar' value='yes' /><param name='static_image' value='https:&#47;&#47;public.tableau.com&#47;static&#47;images&#47;B5&#47;B5XJ8G2KB&#47;1.png' /> <param name='animate_transition' value='yes' /><param name='display_static_image' value='yes' /><param name='display_spinner' value='yes' /><param name='display_overlay' value='yes' /><param name='display_count' value='yes' /><param name='showVizHome' value='no' /><param name='showTabs' value='y' /><param name='bootstrapWhenNotified' value='true' /></object></div>"
      ],
      "text/plain": [
       "<IPython.core.display.HTML object>"
      ]
     },
     "metadata": {},
     "output_type": "display_data"
    }
   ],
   "source": [
    "%%html\n",
    "<script type='text/javascript' src='https://public.tableau.com/javascripts/api/viz_v1.js'></script><div class='tableauPlaceholder' style='width: 982px; height: 742px;'><noscript><a href='#'><img alt='SAT&#47;GPA gender ' src='https:&#47;&#47;public.tableau.com&#47;static&#47;images&#47;B5&#47;B5XJ8G2KB&#47;1_rss.png' style='border: none' /></a></noscript><object class='tableauViz' width='982' height='742' style='display:none;'><param name='host_url' value='https%3A%2F%2Fpublic.tableau.com%2F' /> <param name='path' value='shared&#47;B5XJ8G2KB' /> <param name='toolbar' value='yes' /><param name='static_image' value='https:&#47;&#47;public.tableau.com&#47;static&#47;images&#47;B5&#47;B5XJ8G2KB&#47;1.png' /> <param name='animate_transition' value='yes' /><param name='display_static_image' value='yes' /><param name='display_spinner' value='yes' /><param name='display_overlay' value='yes' /><param name='display_count' value='yes' /><param name='showVizHome' value='no' /><param name='showTabs' value='y' /><param name='bootstrapWhenNotified' value='true' /></object></div>"
   ]
  },
  {
   "cell_type": "markdown",
   "metadata": {},
   "source": [
    "Many universities appear to be very fair when it comes to gender equality. In particular, Brown, Columbia and UChicago have very similar boxplots for accepted males and females, indicating no clear gender bias. At WashU, Vanderbilt and Berkeley, it appears females are getting a significant boost. As discussed below the Gender plot above, this is probably anti-discrimination to restore the gender balance to a historically male-dominated school. At MIT and Stanford on the other hand, males don't need to score as well on the SAT as females do to get in. This does not necessarily mean these universities have a gender bias, since these universities may value features that male applicants excel at. "
   ]
  },
  {
   "cell_type": "markdown",
   "metadata": {},
   "source": [
    "### Private vs. Public school\n",
    "An important question for parents all over America is probably whether to send their kids to private school. Is it worth spending so much money on tuition? On the one hand, we could check if having been to a private high school gives one an edge in applications. That is, for similar candidates when it comes to test scores, gender, minority etc., is the private school candidate favored above the public school candidate? This analysis however goes above exploratory data analysis. Above, we investigated the percentage of accepted private school candidates for each university, but this result does not reflect the importance universities attribute to the high school type, as it is correlated to several other variables, such as GPA and admission test scores. What we can do at this point, is investigate these correlations. Does sending your kid to private school result in higher GPA or test scores? "
   ]
  },
  {
   "cell_type": "code",
   "execution_count": 9,
   "metadata": {
    "collapsed": false
   },
   "outputs": [
    {
     "data": {
      "text/html": [
       "<script type='text/javascript' src='https://public.tableau.com/javascripts/api/viz_v1.js'></script><div class='tableauPlaceholder' style='width: 982px; height: 742px;'><noscript><a href='#'><img alt='Dashboard 5 ' src='https:&#47;&#47;public.tableau.com&#47;static&#47;images&#47;Pr&#47;Privateschool&#47;Dashboard5&#47;1_rss.png' style='border: none' /></a></noscript><object class='tableauViz' width='982' height='742' style='display:none;'><param name='host_url' value='https%3A%2F%2Fpublic.tableau.com%2F' /> <param name='site_root' value='' /><param name='name' value='Privateschool&#47;Dashboard5' /><param name='tabs' value='no' /><param name='toolbar' value='yes' /><param name='static_image' value='https:&#47;&#47;public.tableau.com&#47;static&#47;images&#47;Pr&#47;Privateschool&#47;Dashboard5&#47;1.png' /> <param name='animate_transition' value='yes' /><param name='display_static_image' value='yes' /><param name='display_spinner' value='yes' /><param name='display_overlay' value='yes' /><param name='display_count' value='yes' /><param name='showVizHome' value='no' /><param name='showTabs' value='y' /><param name='bootstrapWhenNotified' value='true' /></object></div>"
      ],
      "text/plain": [
       "<IPython.core.display.HTML object>"
      ]
     },
     "metadata": {},
     "output_type": "display_data"
    }
   ],
   "source": [
    "%%html\n",
    "<script type='text/javascript' src='https://public.tableau.com/javascripts/api/viz_v1.js'></script><div class='tableauPlaceholder' style='width: 982px; height: 742px;'><noscript><a href='#'><img alt='Dashboard 5 ' src='https:&#47;&#47;public.tableau.com&#47;static&#47;images&#47;Pr&#47;Privateschool&#47;Dashboard5&#47;1_rss.png' style='border: none' /></a></noscript><object class='tableauViz' width='982' height='742' style='display:none;'><param name='host_url' value='https%3A%2F%2Fpublic.tableau.com%2F' /> <param name='site_root' value='' /><param name='name' value='Privateschool&#47;Dashboard5' /><param name='tabs' value='no' /><param name='toolbar' value='yes' /><param name='static_image' value='https:&#47;&#47;public.tableau.com&#47;static&#47;images&#47;Pr&#47;Privateschool&#47;Dashboard5&#47;1.png' /> <param name='animate_transition' value='yes' /><param name='display_static_image' value='yes' /><param name='display_spinner' value='yes' /><param name='display_overlay' value='yes' /><param name='display_count' value='yes' /><param name='showVizHome' value='no' /><param name='showTabs' value='y' /><param name='bootstrapWhenNotified' value='true' /></object></div>"
   ]
  },
  {
   "cell_type": "markdown",
   "metadata": {},
   "source": [
    "The answer to this question is clearly yes; private school students have a better chance of getting into college. However, this is probably not due to colleges actively looking for private-school students, and more due to private-school students achieving higher scores on exams. The graphs above show that private school students will obtain overall a higher admissions test score, a higher GPA, and most notably, higher AP exam scores than public school students. One could remark that the higher GPA is a result of private schools grading students higher, but admissions tests and AP exams are standardised, so internal grading should not be a factor. \n",
    "\n",
    "It is worth mentioning that there is a confounding factor here. In general, students who go to private schools are wealthier. This means their families can afford private tuition for exams and admission tests, which clearly can boost results. Moreover, these students are less likely to require financial aid for college tuition, which may make the university more likely to accept them. "
   ]
  },
  {
   "cell_type": "markdown",
   "metadata": {},
   "source": [
    "## 2. "
   ]
  },
  {
   "cell_type": "code",
   "execution_count": null,
   "metadata": {
    "collapsed": true
   },
   "outputs": [],
   "source": []
  }
 ],
 "metadata": {
  "kernelspec": {
   "display_name": "Python 2",
   "language": "python",
   "name": "python2"
  },
  "language_info": {
   "codemirror_mode": {
    "name": "ipython",
    "version": 2
   },
   "file_extension": ".py",
   "mimetype": "text/x-python",
   "name": "python",
   "nbconvert_exporter": "python",
   "pygments_lexer": "ipython2",
   "version": "2.7.10"
  }
 },
 "nbformat": 4,
 "nbformat_minor": 0
}
