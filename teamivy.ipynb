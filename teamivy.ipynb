{
 "cells": [
  {
   "cell_type": "markdown",
   "metadata": {},
   "source": [
    "# Barred Gates: College Admissions Predictions"
   ]
  },
  {
   "cell_type": "markdown",
   "metadata": {
    "collapsed": true
   },
   "source": [
    "## Introduction\n",
    "\n",
    "Every year, four million students apply to college in the United States. The market for admission related services is $7 Billion ([NYTimes](http://boss.blogs.nytimes.com/2009/11/18/tune-in-start-up-drop-out/?_r=0)). The process\n",
    "is fraught with anxiety and uncertainty for students and their parents. A large source of\n",
    "this anxiety is the lack of reasonably accurate forecasts for successful admissions, in spite\n",
    "of expensive consultants and experienced high school college counselors. \n",
    "\n",
    "There are some rational reasons behind why forecasting college admissions is notoriously inaccurate. Top colleges have such an abundance of choice that the final selections among many qualified candidates can be somewhat random. University admission boards try to balance for diversity among ethnic, economic and geographic groups so the choices are dependent, year to year, on application pools. \n",
    "\n",
    "The lack of forecasting prowess is exacerbated by organizations like the [College Board](https://www.collegeboard.org/) which has a financial incentive to offer expensive \n",
    "standardized tests and study guides that offer little predictive ability into the applicability of a given student for a given college.\n",
    "\n",
    "Through this project, we hope to provide some clarity, precision and reasonably accurate forecasting of a student's probability of being accepted into a given college. We intend to make this available in a publicly accessible website, which is particularly timely given that the vast majority of college applications occur in the Fall."
   ]
  },
  {
   "cell_type": "markdown",
   "metadata": {},
   "source": [
    "## Project Objectives\n",
    "First and foremost, we want to know whether there is any rhyme or reason behind college admissions among the cream of the crop US universities. Colleges are surprisingly opaque about admissions criteria. All of us would like to find out whether this is because they are trying to be secretive about their algorithms, or, more unsettlingly, if admissions decisions come down to unprincipled guidelines on the whim of the selection committee. \n",
    "\n",
    "Secondly, if we can find clear profiles of admitted students, we want to test the common consensus and our own intuitions about which factors matter the most. Is it the case that we've all been so heavily focused on SAT scores that we've ignored the importance of breadth in AP courses? \n",
    "\n",
    "Finally, we aim to supplement our own technical skills by tackling a project with several moving parts. Not only will we use screen-scraping skills to download forum messages, but we will use language processing to parse those messages in to (real-world, messy) data. We will need to confront the issues of missing data and selection bias. The people who report their statistics on web forums are probably not a representative population! We will learn how to evaluate and test several different models we haven't tried before, such as random forest with regression. \n",
    "\n",
    "Lastly, we'll put our new-found visualization and communication skills to test by designing a reactive web application for our results. "
   ]
  },
  {
   "cell_type": "markdown",
   "metadata": {},
   "source": [
    "## What data?\n",
    "We have two main sources of data. One will provide student-based data, giving us the credentials of students who were either accepted or rejected from our target colleges, while the other gives us state information about each college (details like admission rate and financial aid status). We will scrape this data from the website CollegeData.com. The college-based information will come from the College Board and from U.S. News and World Report lists of top schools. This part of the data will be small, as we only aim to support the top 25 schools in the US with our app."
   ]
  },
  {
   "cell_type": "markdown",
   "metadata": {},
   "source": [
    "# Acknowledgements\n",
    "\n",
    "We'd like to thank the professors, TAs and our fellow students in [CS109](www.cs109.org) Fall 2015 for all their instruction, help and patience during this course. We have all learned a tremendous amount and feel confident that we will be able to use these skills for many years to come. In particular, we would like to express gratitude to Andy for his guidance.\n",
    "\n",
    "We'd also like to thank Professor Kevin Rader of the Harvard Statistics department who assisted with the Linear Mixture Models.\n",
    "\n",
    "Regards,\n",
    "\n",
    "Morgan, Lauren, Kiran and David\n",
    "\n",
    "December 2015"
   ]
  },
  {
   "cell_type": "code",
   "execution_count": null,
   "metadata": {
    "collapsed": true
   },
   "outputs": [],
   "source": []
  }
 ],
 "metadata": {
  "kernelspec": {
   "display_name": "Python 2",
   "language": "python",
   "name": "python2"
  },
  "language_info": {
   "codemirror_mode": {
    "name": "ipython",
    "version": 2
   },
   "file_extension": ".py",
   "mimetype": "text/x-python",
   "name": "python",
   "nbconvert_exporter": "python",
   "pygments_lexer": "ipython2",
   "version": "2.7.10"
  }
 },
 "nbformat": 4,
 "nbformat_minor": 0
}
