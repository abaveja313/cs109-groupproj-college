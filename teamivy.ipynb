{
 "cells": [
  {
   "cell_type": "markdown",
   "metadata": {},
   "source": [
    "# Barred Gates: College Admissions Predictions"
   ]
  },
  {
   "cell_type": "markdown",
   "metadata": {},
   "source": [
    "##### Team Ivy\n",
    "CS109 Fall 2015"
   ]
  },
  {
   "cell_type": "markdown",
   "metadata": {},
   "source": [
    "<img src=\"harvardgates.jpg\">\n",
    "Image credit: http://news.harvard.edu/gazette/story/2013/08/harvards-gates-on-the-screen/"
   ]
  },
  {
   "cell_type": "markdown",
   "metadata": {
    "collapsed": true
   },
   "source": [
    "Every year, four million students apply to college in the United States. The market for admission related services is $7 Billion. ([NYTimes](http://boss.blogs.nytimes.com/2009/11/18/tune-in-start-up-drop-out/?_r=0)) The process\n",
    "is fraught with anxiety and uncertainty for students and their parents. A large source of\n",
    "this anxiety is the lack of reasonably accurate forecasts for successful admissions, in spite\n",
    "of expensive consultants and experienced High School college counselors. \n",
    "\n",
    "The lack of precision in successful forecasting does have some rational reasons. Top schools have such an abundance of choice that the final selections among many qualified candidates can be somewhat random. Schools try to balance for diversity along ethnic, economic and geographic lines so the choices are dependent on year to year application pools. \n",
    "\n",
    "The lack of forecasting prowness is exacerbated by organizations like the [College Board](https://www.collegeboard.org/) which has a financial incentive to offer expensive \n",
    "standardized tests and study guides that offer little predictive ability into the applicability of a given student for a given college.\n",
    "\n",
    "Through this project, we hope to provide some clarity, precision and reasonably accurate forecasting of admissions probabilities for prospective students. We intend to make this available in a publicly accessible website, which is particularly timely given that the vast majority of college applications occur in the Fall."
   ]
  },
  {
   "cell_type": "markdown",
   "metadata": {},
   "source": [
    "## Related Work"
   ]
  },
  {
   "cell_type": "markdown",
   "metadata": {},
   "source": [
    "References: Naviance, Academic articles, Brief Market Survey"
   ]
  },
  {
   "cell_type": "markdown",
   "metadata": {},
   "source": [
    "## Initial Questions"
   ]
  },
  {
   "cell_type": "markdown",
   "metadata": {},
   "source": [
    "Initial questions, data sources, scraping, clean up"
   ]
  },
  {
   "cell_type": "markdown",
   "metadata": {},
   "source": [
    "## Exploratory Data Analysis"
   ]
  },
  {
   "cell_type": "markdown",
   "metadata": {},
   "source": [
    "## Final Analysis"
   ]
  },
  {
   "cell_type": "code",
   "execution_count": null,
   "metadata": {
    "collapsed": true
   },
   "outputs": [],
   "source": []
  }
 ],
 "metadata": {
  "kernelspec": {
   "display_name": "Python 2",
   "language": "python",
   "name": "python2"
  },
  "language_info": {
   "codemirror_mode": {
    "name": "ipython",
    "version": 2
   },
   "file_extension": ".py",
   "mimetype": "text/x-python",
   "name": "python",
   "nbconvert_exporter": "python",
   "pygments_lexer": "ipython2",
   "version": "2.7.10"
  }
 },
 "nbformat": 4,
 "nbformat_minor": 0
}
