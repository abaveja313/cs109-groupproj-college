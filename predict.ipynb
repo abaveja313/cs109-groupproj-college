{
 "cells": [
  {
   "cell_type": "markdown",
   "metadata": {},
   "source": [
    "# Simple Predictions"
   ]
  },
  {
   "cell_type": "markdown",
   "metadata": {},
   "source": [
    "This notebook converts the application data into a form ready to some Machine Learning tests. "
   ]
  },
  {
   "cell_type": "code",
   "execution_count": 4,
   "metadata": {
    "collapsed": true
   },
   "outputs": [],
   "source": [
    "import pandas as pd\n",
    "from sklearn.cross_validation import train_test_split\n",
    "from sklearn import linear_model\n",
    "from sklearn import svm\n",
    "from sklearn.preprocessing import Imputer\n",
    "from sklearn import metrics\n",
    "import numpy as np\n",
    "from sklearn.cross_validation import cross_val_score\n",
    "from sklearn.ensemble import RandomForestClassifier\n",
    "from sklearn.tree import DecisionTreeClassifier"
   ]
  },
  {
   "cell_type": "markdown",
   "metadata": {},
   "source": [
    "By default, uses the normalized data. Change this to `collegedata_unnormalized.csv` for the unnormalized form."
   ]
  },
  {
   "cell_type": "code",
   "execution_count": 5,
   "metadata": {
    "collapsed": false
   },
   "outputs": [
    {
     "data": {
      "text/html": [
       "<div>\n",
       "<table border=\"1\" class=\"dataframe\">\n",
       "  <thead>\n",
       "    <tr style=\"text-align: right;\">\n",
       "      <th></th>\n",
       "      <th>Unnamed: 0</th>\n",
       "      <th>studentID</th>\n",
       "      <th>classrank</th>\n",
       "      <th>admissionstest</th>\n",
       "      <th>AP</th>\n",
       "      <th>averageAP</th>\n",
       "      <th>SATsubject</th>\n",
       "      <th>GPA</th>\n",
       "      <th>GPA_w</th>\n",
       "      <th>program</th>\n",
       "      <th>...</th>\n",
       "      <th>alumni</th>\n",
       "      <th>outofstate</th>\n",
       "      <th>acceptStatus</th>\n",
       "      <th>acceptProb</th>\n",
       "      <th>name</th>\n",
       "      <th>acceptrate</th>\n",
       "      <th>size</th>\n",
       "      <th>public</th>\n",
       "      <th>finAidPct</th>\n",
       "      <th>instatePct</th>\n",
       "    </tr>\n",
       "  </thead>\n",
       "  <tbody>\n",
       "    <tr>\n",
       "      <th>0</th>\n",
       "      <td>0</td>\n",
       "      <td>PWY05BUB4I</td>\n",
       "      <td>NaN</td>\n",
       "      <td>0.111013</td>\n",
       "      <td>7</td>\n",
       "      <td>0.187427</td>\n",
       "      <td>0.070643</td>\n",
       "      <td>-0.013895</td>\n",
       "      <td>0.005109</td>\n",
       "      <td>Biomedical engineering</td>\n",
       "      <td>...</td>\n",
       "      <td>-1</td>\n",
       "      <td>-1</td>\n",
       "      <td>1</td>\n",
       "      <td>NaN</td>\n",
       "      <td>Rice</td>\n",
       "      <td>0.151</td>\n",
       "      <td>6621</td>\n",
       "      <td>-1</td>\n",
       "      <td>0</td>\n",
       "      <td>0</td>\n",
       "    </tr>\n",
       "    <tr>\n",
       "      <th>1</th>\n",
       "      <td>1</td>\n",
       "      <td>3UVDFVI9Z0</td>\n",
       "      <td>NaN</td>\n",
       "      <td>0.035099</td>\n",
       "      <td>7</td>\n",
       "      <td>0.115998</td>\n",
       "      <td>-0.096024</td>\n",
       "      <td>0.036646</td>\n",
       "      <td>0.033998</td>\n",
       "      <td>Classics</td>\n",
       "      <td>...</td>\n",
       "      <td>-1</td>\n",
       "      <td>1</td>\n",
       "      <td>1</td>\n",
       "      <td>NaN</td>\n",
       "      <td>Rice</td>\n",
       "      <td>0.151</td>\n",
       "      <td>6621</td>\n",
       "      <td>-1</td>\n",
       "      <td>0</td>\n",
       "      <td>0</td>\n",
       "    </tr>\n",
       "    <tr>\n",
       "      <th>2</th>\n",
       "      <td>2</td>\n",
       "      <td>BCCBHJUP0M</td>\n",
       "      <td>NaN</td>\n",
       "      <td>0.035099</td>\n",
       "      <td>0</td>\n",
       "      <td>NaN</td>\n",
       "      <td>0.070643</td>\n",
       "      <td>0.029426</td>\n",
       "      <td>-0.088225</td>\n",
       "      <td>Biological Science</td>\n",
       "      <td>...</td>\n",
       "      <td>-1</td>\n",
       "      <td>1</td>\n",
       "      <td>-1</td>\n",
       "      <td>NaN</td>\n",
       "      <td>Rice</td>\n",
       "      <td>0.151</td>\n",
       "      <td>6621</td>\n",
       "      <td>-1</td>\n",
       "      <td>0</td>\n",
       "      <td>0</td>\n",
       "    </tr>\n",
       "    <tr>\n",
       "      <th>3</th>\n",
       "      <td>3</td>\n",
       "      <td>WZFPWHSQMS</td>\n",
       "      <td>NaN</td>\n",
       "      <td>0.166223</td>\n",
       "      <td>7</td>\n",
       "      <td>0.151713</td>\n",
       "      <td>0.237310</td>\n",
       "      <td>0.007765</td>\n",
       "      <td>-0.032669</td>\n",
       "      <td>Physics</td>\n",
       "      <td>...</td>\n",
       "      <td>-1</td>\n",
       "      <td>1</td>\n",
       "      <td>-1</td>\n",
       "      <td>NaN</td>\n",
       "      <td>Rice</td>\n",
       "      <td>0.151</td>\n",
       "      <td>6621</td>\n",
       "      <td>-1</td>\n",
       "      <td>0</td>\n",
       "      <td>0</td>\n",
       "    </tr>\n",
       "    <tr>\n",
       "      <th>4</th>\n",
       "      <td>4</td>\n",
       "      <td>5W1JNQA7G0</td>\n",
       "      <td>NaN</td>\n",
       "      <td>0.048901</td>\n",
       "      <td>1</td>\n",
       "      <td>-0.062573</td>\n",
       "      <td>-0.096024</td>\n",
       "      <td>0.040256</td>\n",
       "      <td>NaN</td>\n",
       "      <td>NaN</td>\n",
       "      <td>...</td>\n",
       "      <td>-1</td>\n",
       "      <td>1</td>\n",
       "      <td>1</td>\n",
       "      <td>NaN</td>\n",
       "      <td>Rice</td>\n",
       "      <td>0.151</td>\n",
       "      <td>6621</td>\n",
       "      <td>-1</td>\n",
       "      <td>0</td>\n",
       "      <td>0</td>\n",
       "    </tr>\n",
       "    <tr>\n",
       "      <th>5</th>\n",
       "      <td>5</td>\n",
       "      <td>TWUKL79B6V</td>\n",
       "      <td>NaN</td>\n",
       "      <td>0.048901</td>\n",
       "      <td>0</td>\n",
       "      <td>NaN</td>\n",
       "      <td>-0.096024</td>\n",
       "      <td>0.058307</td>\n",
       "      <td>NaN</td>\n",
       "      <td>Political Science</td>\n",
       "      <td>...</td>\n",
       "      <td>-1</td>\n",
       "      <td>1</td>\n",
       "      <td>0</td>\n",
       "      <td>NaN</td>\n",
       "      <td>Rice</td>\n",
       "      <td>0.151</td>\n",
       "      <td>6621</td>\n",
       "      <td>-1</td>\n",
       "      <td>0</td>\n",
       "      <td>0</td>\n",
       "    </tr>\n",
       "    <tr>\n",
       "      <th>6</th>\n",
       "      <td>6</td>\n",
       "      <td>1OJUGUL4LL</td>\n",
       "      <td>NaN</td>\n",
       "      <td>0.097210</td>\n",
       "      <td>0</td>\n",
       "      <td>NaN</td>\n",
       "      <td>-0.096024</td>\n",
       "      <td>0.022206</td>\n",
       "      <td>0.018442</td>\n",
       "      <td>Computer Science</td>\n",
       "      <td>...</td>\n",
       "      <td>-1</td>\n",
       "      <td>1</td>\n",
       "      <td>-1</td>\n",
       "      <td>NaN</td>\n",
       "      <td>Rice</td>\n",
       "      <td>0.151</td>\n",
       "      <td>6621</td>\n",
       "      <td>-1</td>\n",
       "      <td>0</td>\n",
       "      <td>0</td>\n",
       "    </tr>\n",
       "    <tr>\n",
       "      <th>7</th>\n",
       "      <td>7</td>\n",
       "      <td>NX2TARIB0P</td>\n",
       "      <td>NaN</td>\n",
       "      <td>-0.296164</td>\n",
       "      <td>3</td>\n",
       "      <td>-0.145906</td>\n",
       "      <td>-0.096024</td>\n",
       "      <td>-0.049996</td>\n",
       "      <td>-0.026002</td>\n",
       "      <td>NaN</td>\n",
       "      <td>...</td>\n",
       "      <td>-1</td>\n",
       "      <td>1</td>\n",
       "      <td>-1</td>\n",
       "      <td>NaN</td>\n",
       "      <td>Rice</td>\n",
       "      <td>0.151</td>\n",
       "      <td>6621</td>\n",
       "      <td>-1</td>\n",
       "      <td>0</td>\n",
       "      <td>0</td>\n",
       "    </tr>\n",
       "    <tr>\n",
       "      <th>8</th>\n",
       "      <td>8</td>\n",
       "      <td>N4Y1IOID8K</td>\n",
       "      <td>NaN</td>\n",
       "      <td>0.007493</td>\n",
       "      <td>7</td>\n",
       "      <td>-0.062573</td>\n",
       "      <td>-0.429357</td>\n",
       "      <td>0.036646</td>\n",
       "      <td>-0.083780</td>\n",
       "      <td>Business</td>\n",
       "      <td>...</td>\n",
       "      <td>-1</td>\n",
       "      <td>-1</td>\n",
       "      <td>-1</td>\n",
       "      <td>NaN</td>\n",
       "      <td>Rice</td>\n",
       "      <td>0.151</td>\n",
       "      <td>6621</td>\n",
       "      <td>-1</td>\n",
       "      <td>0</td>\n",
       "      <td>0</td>\n",
       "    </tr>\n",
       "    <tr>\n",
       "      <th>9</th>\n",
       "      <td>9</td>\n",
       "      <td>911MU875UY</td>\n",
       "      <td>NaN</td>\n",
       "      <td>-0.006309</td>\n",
       "      <td>4</td>\n",
       "      <td>-0.000073</td>\n",
       "      <td>-0.096024</td>\n",
       "      <td>0.058307</td>\n",
       "      <td>0.151775</td>\n",
       "      <td>Computer Science</td>\n",
       "      <td>...</td>\n",
       "      <td>-1</td>\n",
       "      <td>1</td>\n",
       "      <td>1</td>\n",
       "      <td>NaN</td>\n",
       "      <td>Rice</td>\n",
       "      <td>0.151</td>\n",
       "      <td>6621</td>\n",
       "      <td>-1</td>\n",
       "      <td>0</td>\n",
       "      <td>0</td>\n",
       "    </tr>\n",
       "  </tbody>\n",
       "</table>\n",
       "<p>10 rows × 35 columns</p>\n",
       "</div>"
      ],
      "text/plain": [
       "   Unnamed: 0   studentID  classrank  admissionstest  AP  averageAP  \\\n",
       "0           0  PWY05BUB4I        NaN        0.111013   7   0.187427   \n",
       "1           1  3UVDFVI9Z0        NaN        0.035099   7   0.115998   \n",
       "2           2  BCCBHJUP0M        NaN        0.035099   0        NaN   \n",
       "3           3  WZFPWHSQMS        NaN        0.166223   7   0.151713   \n",
       "4           4  5W1JNQA7G0        NaN        0.048901   1  -0.062573   \n",
       "5           5  TWUKL79B6V        NaN        0.048901   0        NaN   \n",
       "6           6  1OJUGUL4LL        NaN        0.097210   0        NaN   \n",
       "7           7  NX2TARIB0P        NaN       -0.296164   3  -0.145906   \n",
       "8           8  N4Y1IOID8K        NaN        0.007493   7  -0.062573   \n",
       "9           9  911MU875UY        NaN       -0.006309   4  -0.000073   \n",
       "\n",
       "   SATsubject       GPA     GPA_w                 program     ...      alumni  \\\n",
       "0    0.070643 -0.013895  0.005109  Biomedical engineering     ...          -1   \n",
       "1   -0.096024  0.036646  0.033998                Classics     ...          -1   \n",
       "2    0.070643  0.029426 -0.088225      Biological Science     ...          -1   \n",
       "3    0.237310  0.007765 -0.032669                 Physics     ...          -1   \n",
       "4   -0.096024  0.040256       NaN                     NaN     ...          -1   \n",
       "5   -0.096024  0.058307       NaN       Political Science     ...          -1   \n",
       "6   -0.096024  0.022206  0.018442        Computer Science     ...          -1   \n",
       "7   -0.096024 -0.049996 -0.026002                     NaN     ...          -1   \n",
       "8   -0.429357  0.036646 -0.083780                Business     ...          -1   \n",
       "9   -0.096024  0.058307  0.151775        Computer Science     ...          -1   \n",
       "\n",
       "   outofstate acceptStatus  acceptProb  name  acceptrate  size  public  \\\n",
       "0          -1            1         NaN  Rice       0.151  6621      -1   \n",
       "1           1            1         NaN  Rice       0.151  6621      -1   \n",
       "2           1           -1         NaN  Rice       0.151  6621      -1   \n",
       "3           1           -1         NaN  Rice       0.151  6621      -1   \n",
       "4           1            1         NaN  Rice       0.151  6621      -1   \n",
       "5           1            0         NaN  Rice       0.151  6621      -1   \n",
       "6           1           -1         NaN  Rice       0.151  6621      -1   \n",
       "7           1           -1         NaN  Rice       0.151  6621      -1   \n",
       "8          -1           -1         NaN  Rice       0.151  6621      -1   \n",
       "9           1            1         NaN  Rice       0.151  6621      -1   \n",
       "\n",
       "   finAidPct  instatePct  \n",
       "0          0           0  \n",
       "1          0           0  \n",
       "2          0           0  \n",
       "3          0           0  \n",
       "4          0           0  \n",
       "5          0           0  \n",
       "6          0           0  \n",
       "7          0           0  \n",
       "8          0           0  \n",
       "9          0           0  \n",
       "\n",
       "[10 rows x 35 columns]"
      ]
     },
     "execution_count": 5,
     "metadata": {},
     "output_type": "execute_result"
    }
   ],
   "source": [
    "applications = pd.read_csv(\"collegedata_normalized.csv\")\n",
    "applications.head(10)"
   ]
  },
  {
   "cell_type": "code",
   "execution_count": 6,
   "metadata": {
    "collapsed": false
   },
   "outputs": [
    {
     "data": {
      "text/plain": [
       "Index([u'Unnamed: 0', u'studentID', u'classrank', u'admissionstest', u'AP',\n",
       "       u'averageAP', u'SATsubject', u'GPA', u'GPA_w', u'program',\n",
       "       u'schooltype', u'intendedgradyear', u'addInfo', u'canAfford', u'female',\n",
       "       u'MinorityGender', u'MinorityRace', u'international', u'firstinfamily',\n",
       "       u'sports', u'artist', u'workexp', u'collegeID', u'earlyAppl',\n",
       "       u'visited', u'alumni', u'outofstate', u'acceptStatus', u'acceptProb',\n",
       "       u'name', u'acceptrate', u'size', u'public', u'finAidPct',\n",
       "       u'instatePct'],\n",
       "      dtype='object')"
      ]
     },
     "execution_count": 6,
     "metadata": {},
     "output_type": "execute_result"
    }
   ],
   "source": [
    "applications.columns"
   ]
  },
  {
   "cell_type": "markdown",
   "metadata": {},
   "source": [
    "Pick only the columns we'll use for prediction. There are no factors in the current model."
   ]
  },
  {
   "cell_type": "code",
   "execution_count": 7,
   "metadata": {
    "collapsed": false
   },
   "outputs": [
    {
     "data": {
      "text/html": [
       "<div>\n",
       "<table border=\"1\" class=\"dataframe\">\n",
       "  <thead>\n",
       "    <tr style=\"text-align: right;\">\n",
       "      <th></th>\n",
       "      <th>admissionstest</th>\n",
       "      <th>AP</th>\n",
       "      <th>averageAP</th>\n",
       "      <th>SATsubject</th>\n",
       "      <th>GPA</th>\n",
       "      <th>GPA_w</th>\n",
       "      <th>schooltype</th>\n",
       "      <th>canAfford</th>\n",
       "      <th>female</th>\n",
       "      <th>MinorityGender</th>\n",
       "      <th>MinorityRace</th>\n",
       "      <th>international</th>\n",
       "      <th>sports</th>\n",
       "      <th>earlyAppl</th>\n",
       "      <th>alumni</th>\n",
       "      <th>outofstate</th>\n",
       "    </tr>\n",
       "  </thead>\n",
       "  <tbody>\n",
       "    <tr>\n",
       "      <th>0</th>\n",
       "      <td>0.111013</td>\n",
       "      <td>7</td>\n",
       "      <td>0.187427</td>\n",
       "      <td>0.070643</td>\n",
       "      <td>-0.013895</td>\n",
       "      <td>0.005109</td>\n",
       "      <td>-1</td>\n",
       "      <td>0</td>\n",
       "      <td>1</td>\n",
       "      <td>-1</td>\n",
       "      <td>-1</td>\n",
       "      <td>-1</td>\n",
       "      <td>-1</td>\n",
       "      <td>-1</td>\n",
       "      <td>-1</td>\n",
       "      <td>-1</td>\n",
       "    </tr>\n",
       "    <tr>\n",
       "      <th>1</th>\n",
       "      <td>0.035099</td>\n",
       "      <td>7</td>\n",
       "      <td>0.115998</td>\n",
       "      <td>-0.096024</td>\n",
       "      <td>0.036646</td>\n",
       "      <td>0.033998</td>\n",
       "      <td>-1</td>\n",
       "      <td>0</td>\n",
       "      <td>-1</td>\n",
       "      <td>-1</td>\n",
       "      <td>-1</td>\n",
       "      <td>-1</td>\n",
       "      <td>-1</td>\n",
       "      <td>-1</td>\n",
       "      <td>-1</td>\n",
       "      <td>1</td>\n",
       "    </tr>\n",
       "    <tr>\n",
       "      <th>2</th>\n",
       "      <td>0.035099</td>\n",
       "      <td>0</td>\n",
       "      <td>NaN</td>\n",
       "      <td>0.070643</td>\n",
       "      <td>0.029426</td>\n",
       "      <td>-0.088225</td>\n",
       "      <td>1</td>\n",
       "      <td>0</td>\n",
       "      <td>1</td>\n",
       "      <td>-1</td>\n",
       "      <td>1</td>\n",
       "      <td>-1</td>\n",
       "      <td>-1</td>\n",
       "      <td>-1</td>\n",
       "      <td>-1</td>\n",
       "      <td>1</td>\n",
       "    </tr>\n",
       "    <tr>\n",
       "      <th>3</th>\n",
       "      <td>0.166223</td>\n",
       "      <td>7</td>\n",
       "      <td>0.151713</td>\n",
       "      <td>0.237310</td>\n",
       "      <td>0.007765</td>\n",
       "      <td>-0.032669</td>\n",
       "      <td>1</td>\n",
       "      <td>0</td>\n",
       "      <td>-1</td>\n",
       "      <td>-1</td>\n",
       "      <td>-1</td>\n",
       "      <td>-1</td>\n",
       "      <td>-1</td>\n",
       "      <td>-1</td>\n",
       "      <td>-1</td>\n",
       "      <td>1</td>\n",
       "    </tr>\n",
       "    <tr>\n",
       "      <th>4</th>\n",
       "      <td>0.048901</td>\n",
       "      <td>1</td>\n",
       "      <td>-0.062573</td>\n",
       "      <td>-0.096024</td>\n",
       "      <td>0.040256</td>\n",
       "      <td>NaN</td>\n",
       "      <td>1</td>\n",
       "      <td>0</td>\n",
       "      <td>-1</td>\n",
       "      <td>-1</td>\n",
       "      <td>-1</td>\n",
       "      <td>-1</td>\n",
       "      <td>-1</td>\n",
       "      <td>1</td>\n",
       "      <td>-1</td>\n",
       "      <td>1</td>\n",
       "    </tr>\n",
       "  </tbody>\n",
       "</table>\n",
       "</div>"
      ],
      "text/plain": [
       "   admissionstest  AP  averageAP  SATsubject       GPA     GPA_w  schooltype  \\\n",
       "0        0.111013   7   0.187427    0.070643 -0.013895  0.005109          -1   \n",
       "1        0.035099   7   0.115998   -0.096024  0.036646  0.033998          -1   \n",
       "2        0.035099   0        NaN    0.070643  0.029426 -0.088225           1   \n",
       "3        0.166223   7   0.151713    0.237310  0.007765 -0.032669           1   \n",
       "4        0.048901   1  -0.062573   -0.096024  0.040256       NaN           1   \n",
       "\n",
       "   canAfford  female  MinorityGender  MinorityRace  international  sports  \\\n",
       "0          0       1              -1            -1             -1      -1   \n",
       "1          0      -1              -1            -1             -1      -1   \n",
       "2          0       1              -1             1             -1      -1   \n",
       "3          0      -1              -1            -1             -1      -1   \n",
       "4          0      -1              -1            -1             -1      -1   \n",
       "\n",
       "   earlyAppl  alumni  outofstate  \n",
       "0         -1      -1          -1  \n",
       "1         -1      -1           1  \n",
       "2         -1      -1           1  \n",
       "3         -1      -1           1  \n",
       "4          1      -1           1  "
      ]
     },
     "execution_count": 7,
     "metadata": {},
     "output_type": "execute_result"
    }
   ],
   "source": [
    "y = np.ravel(applications.acceptStatus)\n",
    "cols_to_retain = [u'admissionstest', u'AP',\n",
    "       u'averageAP', u'SATsubject', u'GPA', u'GPA_w',u'schooltype', u'canAfford', u'female',\n",
    "       u'MinorityGender', u'MinorityRace', u'international',\n",
    "       u'sports', u'earlyAppl',\n",
    "       u'alumni', u'outofstate']\n",
    "\n",
    "applDF = applications[cols_to_retain]\n",
    "applDF.head()"
   ]
  },
  {
   "cell_type": "markdown",
   "metadata": {},
   "source": [
    "Impute missing values."
   ]
  },
  {
   "cell_type": "code",
   "execution_count": 8,
   "metadata": {
    "collapsed": false
   },
   "outputs": [
    {
     "data": {
      "text/plain": [
       "((16062, 16), (16062,))"
      ]
     },
     "execution_count": 8,
     "metadata": {},
     "output_type": "execute_result"
    }
   ],
   "source": [
    "imp = Imputer(missing_values='NaN', strategy='mean', axis=0)\n",
    "imp.fit(applDF)\n",
    "X = imp.transform(applDF)\n",
    "X.shape, y.shape"
   ]
  },
  {
   "cell_type": "markdown",
   "metadata": {},
   "source": [
    "Split into training and test sets. There is no validation set currently."
   ]
  },
  {
   "cell_type": "code",
   "execution_count": 9,
   "metadata": {
    "collapsed": false
   },
   "outputs": [
    {
     "name": "stdout",
     "output_type": "stream",
     "text": [
      "(12849, 16) (3213, 16) (12849,) (3213,) (16062,)\n"
     ]
    }
   ],
   "source": [
    "X_train, X_test, y_train, y_test = train_test_split(X, y, test_size=0.2)\n",
    "print X_train.shape, X_test.shape, y_train.shape, y_test.shape, y.shape"
   ]
  },
  {
   "cell_type": "markdown",
   "metadata": {},
   "source": [
    "Run an initial Logistic Regression without any optimization. This is boiler plate for the final training code if we\n",
    "elect to use Scikit-learn"
   ]
  },
  {
   "cell_type": "code",
   "execution_count": 10,
   "metadata": {
    "collapsed": false
   },
   "outputs": [
    {
     "name": "stdout",
     "output_type": "stream",
     "text": [
      "0.544973544974\n"
     ]
    }
   ],
   "source": [
    "clf = linear_model.LogisticRegression(C=1000)\n",
    "clf.fit(X_train,y_train)\n",
    "predicted = clf.predict(X_test)\n",
    "print metrics.accuracy_score(y_test, predicted)"
   ]
  },
  {
   "cell_type": "markdown",
   "metadata": {},
   "source": [
    "Only 54% accuracy. Not so great. Show the coefficients."
   ]
  },
  {
   "cell_type": "code",
   "execution_count": 11,
   "metadata": {
    "collapsed": false
   },
   "outputs": [
    {
     "data": {
      "text/html": [
       "<div>\n",
       "<table border=\"1\" class=\"dataframe\">\n",
       "  <thead>\n",
       "    <tr style=\"text-align: right;\">\n",
       "      <th></th>\n",
       "      <th>0</th>\n",
       "      <th>1</th>\n",
       "    </tr>\n",
       "  </thead>\n",
       "  <tbody>\n",
       "    <tr>\n",
       "      <th>0</th>\n",
       "      <td>admissionstest</td>\n",
       "      <td>[-2.70964829055, 1.02888916041, 2.62731288861]</td>\n",
       "    </tr>\n",
       "    <tr>\n",
       "      <th>1</th>\n",
       "      <td>AP</td>\n",
       "      <td>[-0.0125526092972, -0.0107880513872, 0.0213932...</td>\n",
       "    </tr>\n",
       "    <tr>\n",
       "      <th>2</th>\n",
       "      <td>averageAP</td>\n",
       "      <td>[-0.451431569105, 0.194880150093, 0.368256779965]</td>\n",
       "    </tr>\n",
       "    <tr>\n",
       "      <th>3</th>\n",
       "      <td>SATsubject</td>\n",
       "      <td>[0.324437532234, -0.316107891002, -0.165193140...</td>\n",
       "    </tr>\n",
       "    <tr>\n",
       "      <th>4</th>\n",
       "      <td>GPA</td>\n",
       "      <td>[-2.44417724732, -0.676517016124, 3.93592882358]</td>\n",
       "    </tr>\n",
       "    <tr>\n",
       "      <th>5</th>\n",
       "      <td>GPA_w</td>\n",
       "      <td>[-0.775291377667, 0.880175549677, 0.27360895452]</td>\n",
       "    </tr>\n",
       "    <tr>\n",
       "      <th>6</th>\n",
       "      <td>schooltype</td>\n",
       "      <td>[-0.0293820265718, 0.0403076306956, 0.00846334...</td>\n",
       "    </tr>\n",
       "    <tr>\n",
       "      <th>7</th>\n",
       "      <td>canAfford</td>\n",
       "      <td>[0.0539701818375, -0.0565995741233, -0.0303885...</td>\n",
       "    </tr>\n",
       "    <tr>\n",
       "      <th>8</th>\n",
       "      <td>female</td>\n",
       "      <td>[-0.0170100071389, -0.0727362252438, 0.0710153...</td>\n",
       "    </tr>\n",
       "    <tr>\n",
       "      <th>9</th>\n",
       "      <td>MinorityGender</td>\n",
       "      <td>[-0.347965036465, 0.148784702401, 0.272710429176]</td>\n",
       "    </tr>\n",
       "    <tr>\n",
       "      <th>10</th>\n",
       "      <td>MinorityRace</td>\n",
       "      <td>[-0.291086472505, 0.0326967431559, 0.31586190677]</td>\n",
       "    </tr>\n",
       "    <tr>\n",
       "      <th>11</th>\n",
       "      <td>international</td>\n",
       "      <td>[-0.0188844335786, -0.088952065221, 0.08618235...</td>\n",
       "    </tr>\n",
       "    <tr>\n",
       "      <th>12</th>\n",
       "      <td>sports</td>\n",
       "      <td>[-0.101716565481, -0.300615865159, 0.278915786...</td>\n",
       "    </tr>\n",
       "    <tr>\n",
       "      <th>13</th>\n",
       "      <td>earlyAppl</td>\n",
       "      <td>[-0.0418761984679, -1.13233487721, 0.446548242...</td>\n",
       "    </tr>\n",
       "    <tr>\n",
       "      <th>14</th>\n",
       "      <td>alumni</td>\n",
       "      <td>[-0.192139934153, -0.158610556641, 0.290538489...</td>\n",
       "    </tr>\n",
       "    <tr>\n",
       "      <th>15</th>\n",
       "      <td>outofstate</td>\n",
       "      <td>[0.225577335984, 0.231381216033, -0.404063978264]</td>\n",
       "    </tr>\n",
       "  </tbody>\n",
       "</table>\n",
       "</div>"
      ],
      "text/plain": [
       "                 0                                                  1\n",
       "0   admissionstest     [-2.70964829055, 1.02888916041, 2.62731288861]\n",
       "1               AP  [-0.0125526092972, -0.0107880513872, 0.0213932...\n",
       "2        averageAP  [-0.451431569105, 0.194880150093, 0.368256779965]\n",
       "3       SATsubject  [0.324437532234, -0.316107891002, -0.165193140...\n",
       "4              GPA   [-2.44417724732, -0.676517016124, 3.93592882358]\n",
       "5            GPA_w   [-0.775291377667, 0.880175549677, 0.27360895452]\n",
       "6       schooltype  [-0.0293820265718, 0.0403076306956, 0.00846334...\n",
       "7        canAfford  [0.0539701818375, -0.0565995741233, -0.0303885...\n",
       "8           female  [-0.0170100071389, -0.0727362252438, 0.0710153...\n",
       "9   MinorityGender  [-0.347965036465, 0.148784702401, 0.272710429176]\n",
       "10    MinorityRace  [-0.291086472505, 0.0326967431559, 0.31586190677]\n",
       "11   international  [-0.0188844335786, -0.088952065221, 0.08618235...\n",
       "12          sports  [-0.101716565481, -0.300615865159, 0.278915786...\n",
       "13       earlyAppl  [-0.0418761984679, -1.13233487721, 0.446548242...\n",
       "14          alumni  [-0.192139934153, -0.158610556641, 0.290538489...\n",
       "15      outofstate  [0.225577335984, 0.231381216033, -0.404063978264]"
      ]
     },
     "execution_count": 11,
     "metadata": {},
     "output_type": "execute_result"
    }
   ],
   "source": [
    "pd.DataFrame(zip(applDF.columns, np.transpose(clf.coef_)))"
   ]
  },
  {
   "cell_type": "markdown",
   "metadata": {},
   "source": [
    "Run a series of 10 fold cross validations using different algorithms and take an average of the result."
   ]
  },
  {
   "cell_type": "code",
   "execution_count": 12,
   "metadata": {
    "collapsed": false
   },
   "outputs": [
    {
     "name": "stdout",
     "output_type": "stream",
     "text": [
      "[ 0.5528607   0.56102117  0.48630137  0.5373599   0.51992528  0.56039851\n",
      "  0.56039851  0.54358655  0.5373599   0.5392279 ]\n",
      "0.539843977497\n"
     ]
    }
   ],
   "source": [
    "scores = cross_val_score(linear_model.LogisticRegression(), X, y, scoring='accuracy', cv=10)\n",
    "print scores\n",
    "print scores.mean()"
   ]
  },
  {
   "cell_type": "code",
   "execution_count": 13,
   "metadata": {
    "collapsed": false
   },
   "outputs": [
    {
     "name": "stdout",
     "output_type": "stream",
     "text": [
      "[ 0.66542289  0.66998755  0.61457036  0.6120797   0.63636364  0.64757161\n",
      "  0.64757161  0.64134496  0.62826899  0.59589041]\n",
      "0.635907170251\n"
     ]
    }
   ],
   "source": [
    "scores = cross_val_score(RandomForestClassifier(), X, y, scoring='accuracy', cv=10)\n",
    "print scores\n",
    "print scores.mean()"
   ]
  },
  {
   "cell_type": "code",
   "execution_count": 14,
   "metadata": {
    "collapsed": false
   },
   "outputs": [
    {
     "name": "stdout",
     "output_type": "stream",
     "text": [
      "[ 0.64427861  0.67123288  0.61892902  0.59713574  0.62266501  0.61892902\n",
      "  0.63013699  0.62328767  0.6139477   0.58655044]\n",
      "0.622709305279\n"
     ]
    }
   ],
   "source": [
    "scores = cross_val_score(DecisionTreeClassifier(), X, y, scoring='accuracy', cv=10)\n",
    "print scores\n",
    "print scores.mean()"
   ]
  },
  {
   "cell_type": "markdown",
   "metadata": {
    "collapsed": true
   },
   "source": [
    "So we are getting about 63% accuracy with untuned Random Forests."
   ]
  },
  {
   "cell_type": "code",
   "execution_count": null,
   "metadata": {
    "collapsed": true
   },
   "outputs": [],
   "source": []
  }
 ],
 "metadata": {
  "kernelspec": {
   "display_name": "Python 2",
   "language": "python",
   "name": "python2"
  },
  "language_info": {
   "codemirror_mode": {
    "name": "ipython",
    "version": 2
   },
   "file_extension": ".py",
   "mimetype": "text/x-python",
   "name": "python",
   "nbconvert_exporter": "python",
   "pygments_lexer": "ipython2",
   "version": "2.7.10"
  }
 },
 "nbformat": 4,
 "nbformat_minor": 0
}
