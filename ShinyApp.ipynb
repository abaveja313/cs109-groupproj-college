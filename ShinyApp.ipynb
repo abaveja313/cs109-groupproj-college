{
 "cells": [
  {
   "cell_type": "markdown",
   "metadata": {},
   "source": [
    "##User interface: R Shiny Application "
   ]
  },
  {
   "cell_type": "code",
   "execution_count": 6,
   "metadata": {
    "collapsed": false
   },
   "outputs": [],
   "source": [
    "import TIdatabase as ti\n",
    "import pandas as pd\n",
    "\n",
    "%load_ext rpy2.ipython"
   ]
  },
  {
   "cell_type": "code",
   "execution_count": 8,
   "metadata": {
    "collapsed": false
   },
   "outputs": [
    {
     "data": {
      "text/plain": [
       "[1] 1 2 3\n"
      ]
     },
     "metadata": {},
     "output_type": "display_data"
    }
   ],
   "source": [
    "%%R \n",
    "a=c(1,2,3)\n",
    "print(a)"
   ]
  },
  {
   "cell_type": "code",
   "execution_count": null,
   "metadata": {
    "collapsed": true
   },
   "outputs": [],
   "source": [
    "%%R\n",
    "library(ggvis)\n",
    "library(dplyr)\n",
    "\n",
    "# For dropdown menu\n",
    "actionLink <- function(inputId, ...) {\n",
    "  tags$a(href='javascript:void',\n",
    "         id=inputId,\n",
    "         class='action-button',\n",
    "         ...)\n",
    "}\n",
    "\n",
    "shinyUI(fluidPage(\n",
    "  titlePanel(\"What are my chances?\"),\n",
    "  fluidRow(\n",
    "    column(3,\n",
    "           wellPanel(\n",
    "             h4(\"Application information\"),\n",
    "             sliderInput(\"sat\", \"SAT score (combined)\",\n",
    "                         0, 2400, 1500, step = 10),\n",
    "             sliderInput(\"gpa\", \"GPA\", 0, 5, step = .1),\n",
    "             sliderInput(\"rank\", \"Class Rank (percentile)\",\n",
    "                         0, 100, 0, step = 5),\n",
    "             selectInput(\"apnum\", \"Number of AP exams taken\",\n",
    "                         c(\"0\", \"1\", \"2\", \"3\", \"4\", \"5\",\n",
    "                           \"6\", \"7\", \"8\", \"9\", \"10\", \"11\",\n",
    "                           \"12\", \"Music\", \"Musical\", \"Mystery\", \"Romance\", \"Sci-Fi\",\n",
    "                           \"Short\", \"Sport\", \"Thriller\", \"War\", \"Western\")),\n",
    "             selectInput(\"genre\", \"Genre (a movie can have multiple genres)\",\n",
    "                         c(\"All\", \"Action\", \"Adventure\", \"Animation\", \"Biography\", \"Comedy\",\n",
    "                           \"Crime\", \"Documentary\", \"Drama\", \"Family\", \"Fantasy\", \"History\",\n",
    "                           \"Horror\", \"Music\", \"Musical\", \"Mystery\", \"Romance\", \"Sci-Fi\",\n",
    "                           \"Short\", \"Sport\", \"Thriller\", \"War\", \"Western\")\n",
    "             ),\n",
    "             textInput(\"college\", \"What college are you applying to?\"),\n",
    "             textInput(\"cast\", \"Cast names contains (e.g. Tom Hanks)\")\n",
    "           ),\n",
    "           #wellPanel(\n",
    "             #selectInput(\"xvar\", \"X-axis variable\", axis_vars, selected = \"Meter\"),\n",
    "             #selectInput(\"yvar\", \"Y-axis variable\", axis_vars, selected = \"Reviews\"),\n",
    "             #tags$small(paste0(\n",
    "               \"Note: This predictor tool is based on data from only a sample of students\",\n",
    "               \" and does not provde a guarantee of admission to any institution.\"\n",
    "               \"\n",
    "             ))\n",
    "           )\n",
    "    ),\n",
    "    column(9,\n",
    "           ggvisOutput(\"plot1\"),\n",
    "           wellPanel(\n",
    "             span(\"Number of movies selected:\",\n",
    "                  textOutput(\"n_movies\")\n",
    "             )\n",
    "           )\n",
    "    )\n",
    "  )\n",
    "))\n"
   ]
  }
 ],
 "metadata": {
  "kernelspec": {
   "display_name": "Python 2",
   "language": "python",
   "name": "python2"
  },
  "language_info": {
   "codemirror_mode": {
    "name": "ipython",
    "version": 2
   },
   "file_extension": ".py",
   "mimetype": "text/x-python",
   "name": "python",
   "nbconvert_exporter": "python",
   "pygments_lexer": "ipython2",
   "version": "2.7.10"
  }
 },
 "nbformat": 4,
 "nbformat_minor": 0
}
