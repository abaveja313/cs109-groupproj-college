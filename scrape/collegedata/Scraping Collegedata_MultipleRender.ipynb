{
 "cells": [
  {
   "cell_type": "markdown",
   "metadata": {},
   "source": [
    "# Scraping collegedata.com with Qt Webkit\n"
   ]
  },
  {
   "cell_type": "code",
   "execution_count": 1,
   "metadata": {
    "collapsed": false
   },
   "outputs": [],
   "source": [
    "%matplotlib inline\n",
    "import numpy as np\n",
    "import scipy as sp\n",
    "import matplotlib as mpl\n",
    "import matplotlib.cm as cm\n",
    "import matplotlib.pyplot as plt\n",
    "import pandas as pd\n",
    "pd.set_option('display.width', 500)\n",
    "pd.set_option('display.max_columns', 100)\n",
    "pd.set_option('display.notebook_repr_html', True)\n",
    "import seaborn as sns\n",
    "sns.set_style(\"whitegrid\")\n",
    "sns.set_context(\"poster\")\n",
    "\n",
    "import requests\n",
    "import time\n",
    "from bs4 import BeautifulSoup\n",
    "import re"
   ]
  },
  {
   "cell_type": "code",
   "execution_count": 2,
   "metadata": {
    "collapsed": true
   },
   "outputs": [],
   "source": [
    "college_id_dict={'Princeton': 111, 'Harvard': 444, 'Yale': 244, 'Columbia': 399, 'Stanford': 781, 'UChicago': 327, 'MIT': 186, 'Duke': 1026, 'UPenn': 67, 'CalTech': 706, 'JohnsHopkins': 1509, 'Dartmouth': 403, 'Northwestern': 1803, 'Brown': 163, 'Cornell': 787, 'Vanderbilt': 1562, 'WashU': 1720, 'Rice': 731, 'NotreDame': 1774, 'UCB': 1090, 'Emory': 1039, 'Georgetown': 1182, 'CarnegieMellon': 204, 'UCLA': 1093, 'USC': 1138}\n",
    "baseurl='http://www.collegedata.com/cs/admissions/'\n",
    "tracker_url='admissions_tracker_result.jhtml?schoolId='\n",
    "student_url='admissions_profile_view.jhtml?profileName='"
   ]
  },
  {
   "cell_type": "code",
   "execution_count": 3,
   "metadata": {
    "collapsed": true
   },
   "outputs": [],
   "source": [
    "## Source: https://webscraping.com/blog/Scraping-multiple-JavaScript-webpages-with-webkit/\n",
    "import sys\n",
    "from PyQt4.QtCore import *\n",
    "from PyQt4.QtGui import *\n",
    "from PyQt4.QtWebKit import *\n",
    "\n",
    "class Render(QWebPage):  \n",
    "    def __init__(self, urls):\n",
    "        self.app = QApplication(sys.argv)  \n",
    "        QWebPage.__init__(self)  \n",
    "        self.loadFinished.connect(self._loadFinished)  \n",
    "        self.urls = urls \n",
    "        self.profileList=set()\n",
    "        self.crawl()  \n",
    "        self.app.exec_()  \n",
    "      \n",
    "    def crawl(self):  \n",
    "        if self.urls:  \n",
    "            url = self.urls.pop(0)    \n",
    "            self.mainFrame().load(QUrl(url))  \n",
    "        else:  \n",
    "            self.app.quit()  \n",
    "        \n",
    "    def _loadFinished(self, result): \n",
    "        frame = self.mainFrame()  \n",
    "        url = str(frame.url().toString())  \n",
    "        html = frame.toHtml()  \n",
    "        self.scrape(url, html)\n",
    "        self.crawl()\n",
    "    \n",
    "    def scrape(self,url, html):\n",
    "        soup = BeautifulSoup(str(html.toAscii()),'html.parser')     \n",
    "        profiles=soup.find_all(\"a\",href=re.compile(r\"enterProfileByName\"))\n",
    "        for p in profiles:\n",
    "            self.profileList.add(p.get(\"href\").split(\"'\")[1])"
   ]
  },
  {
   "cell_type": "markdown",
   "metadata": {},
   "source": [
    "Execute the next cell to try out for 1 university and 2 years"
   ]
  },
  {
   "cell_type": "code",
   "execution_count": null,
   "metadata": {
    "collapsed": false
   },
   "outputs": [],
   "source": [
    "#urls=[]\n",
    "#schoolid=111\n",
    "#schoolurl=baseurl+tracker_url+str(schoolid)+'&classYear='\n",
    "#for year in range(2009,2011):\n",
    "#    urls.append(schoolurl+str(year))\n",
    "#r=Render(urls)\n",
    "#print len(r.profileList)"
   ]
  },
  {
   "cell_type": "markdown",
   "metadata": {},
   "source": [
    "Execute the next cell to try out for all universities and years 2009-2019. This takes about 55 minutes."
   ]
  },
  {
   "cell_type": "code",
   "execution_count": 4,
   "metadata": {
    "collapsed": false
   },
   "outputs": [
    {
     "name": "stdout",
     "output_type": "stream",
     "text": [
      "We found  5020 students\n",
      "CPU times: user 21min 40s, sys: 3min 8s, total: 24min 48s\n",
      "Wall time: 53min 21s\n"
     ]
    }
   ],
   "source": [
    "%%time\n",
    "urls=[]\n",
    "for school in college_id_dict:\n",
    "    schoolurl=baseurl+tracker_url+str(college_id_dict[school])+'&classYear='\n",
    "    for year in range(2009,2020):\n",
    "        urls.append(schoolurl+str(year))\n",
    "r=Render(urls)\n",
    "print 'We found ', len(r.profileList), 'students'"
   ]
  },
  {
   "cell_type": "code",
   "execution_count": null,
   "metadata": {
    "collapsed": true
   },
   "outputs": [],
   "source": []
  }
 ],
 "metadata": {
  "kernelspec": {
   "display_name": "Python 2",
   "language": "python",
   "name": "python2"
  },
  "language_info": {
   "codemirror_mode": {
    "name": "ipython",
    "version": 2
   },
   "file_extension": ".py",
   "mimetype": "text/x-python",
   "name": "python",
   "nbconvert_exporter": "python",
   "pygments_lexer": "ipython2",
   "version": "2.7.10"
  }
 },
 "nbformat": 4,
 "nbformat_minor": 0
}
