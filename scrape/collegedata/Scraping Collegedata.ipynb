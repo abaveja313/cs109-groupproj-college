{
 "cells": [
  {
   "cell_type": "markdown",
   "metadata": {},
   "source": [
    "# Scraping collegedata.com\n"
   ]
  },
  {
   "cell_type": "code",
   "execution_count": 23,
   "metadata": {
    "collapsed": true
   },
   "outputs": [],
   "source": [
    "%matplotlib inline\n",
    "import numpy as np\n",
    "import scipy as sp\n",
    "import matplotlib as mpl\n",
    "import matplotlib.cm as cm\n",
    "import matplotlib.pyplot as plt\n",
    "import pandas as pd\n",
    "pd.set_option('display.width', 500)\n",
    "pd.set_option('display.max_columns', 100)\n",
    "pd.set_option('display.notebook_repr_html', True)\n",
    "import seaborn as sns\n",
    "sns.set_style(\"whitegrid\")\n",
    "sns.set_context(\"poster\")\n",
    "\n",
    "import requests\n",
    "import time\n",
    "from bs4 import BeautifulSoup\n",
    "from lxml import html"
   ]
  },
  {
   "cell_type": "code",
   "execution_count": 24,
   "metadata": {
    "collapsed": true
   },
   "outputs": [],
   "source": [
    "college_id_dict={'Princeton': 111, 'Harvard': 444, 'Yale': 244, 'Columbia': 399, 'Stanford': 781, 'UChicago': 327, 'MIT': 186, 'Duke': 1026, 'UPenn': 67, 'CalTech': 706, 'JohnsHopkins': 1509, 'Dartmouth': 403, 'Northwestern': 1803, 'Brown': 163, 'Cornell': 787, 'Vanderbilt': 1562, 'WashU': 1720, 'Rice': 731, 'NotreDame': 1774, 'UCB': 1090, 'Emory': 1039, 'Georgetown': 1182, 'CarnegieMellon': 204, 'UCLA': 1093, 'USC': 1138}\n",
    "baseurl='http://www.collegedata.com/cs/admissions/'\n",
    "tracker_url='admissions_tracker_result.jhtml?schoolId='\n",
    "student_url='admissions_profile_view.jhtml?profileName='"
   ]
  },
  {
   "cell_type": "code",
   "execution_count": 31,
   "metadata": {
    "collapsed": false
   },
   "outputs": [
    {
     "name": "stdout",
     "output_type": "stream",
     "text": [
      "<div id=\"profilewrap\">\n",
      "<div id=\"tablewrap\"></div>\n",
      "</div>\n"
     ]
    }
   ],
   "source": [
    "schoolurl=baseurl+tracker_url+str(111)+'&classYear='\n",
    "soup = BeautifulSoup(requests.get(schoolurl+str(2013)).text,'html.parser')\n",
    "rows = soup.find(id=\"profilewrap\") #.find(id='tableBodyWrap').find_all(\"tr\")[1:]\n",
    "print rows"
   ]
  },
  {
   "cell_type": "code",
   "execution_count": null,
   "metadata": {
    "collapsed": true
   },
   "outputs": [],
   "source": [
    "for school, schoolid in college_id_dict:\n",
    "    schoolurl=baseurl+tracker_url+str(schoolid)+'&classYear='\n",
    "    for year in range(2009,2020):\n",
    "        soup = BeautifulSoup(requests.get(schoolurl+str(year)).text,'html.parser')     "
   ]
  }
 ],
 "metadata": {
  "kernelspec": {
   "display_name": "Python 2",
   "language": "python",
   "name": "python2"
  },
  "language_info": {
   "codemirror_mode": {
    "name": "ipython",
    "version": 2
   },
   "file_extension": ".py",
   "mimetype": "text/x-python",
   "name": "python",
   "nbconvert_exporter": "python",
   "pygments_lexer": "ipython2",
   "version": "2.7.10"
  }
 },
 "nbformat": 4,
 "nbformat_minor": 0
}
