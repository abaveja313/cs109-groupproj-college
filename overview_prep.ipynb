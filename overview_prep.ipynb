{
 "cells": [
  {
   "cell_type": "markdown",
   "metadata": {},
   "source": [
    "# Overview Preparation\n",
    "\n",
    "This notebook is create underlying text and graphics for the overview page. Ultimately the contents have to be manually moved to a more pleasing format by hand."
   ]
  },
  {
   "cell_type": "markdown",
   "metadata": {},
   "source": [
    "It is college application season. Across the country four million students will be submitting upwards of forty million applications ([source](http://www.nytimes.com/2014/11/16/nyregion/applications-by-the-dozen-as-anxious-students-hedge-college-bets.html)) and then fretting until late March to find the results. Our team at Harvard's Data Science Class has analyzed more than 13,000 applications to determine which factors matter most to the top twenty-five colleges in the USA. We have also built an [online predictor](http://www.chanceme.info/) that lets a student or parent enter current results, see the chances of getting into an elite college. Even more importantly, the student can then change the values to see if time is better spent improving grades or playing more varsity sports.\n",
    "\n",
    "Let's see how one student, Morgan a math-savvy junior, can use [our website](http://www.chanceme.info/) decide where to spend her time. "
   ]
  },
  {
   "cell_type": "markdown",
   "metadata": {},
   "source": [
    "INSERT VIDEO HERE"
   ]
  },
  {
   "cell_type": "markdown",
   "metadata": {},
   "source": [
    "## Which Factors are Most Important\n",
    "\n",
    "\n",
    "\n",
    "\n",
    "\n",
    "\n",
    "\n",
    "\n",
    "\n",
    "\n",
    "\n",
    "\n",
    "\n",
    "\n",
    "\n",
    "\n",
    "\n",
    "\n",
    "\n",
    "\n",
    "\n",
    "\n",
    "\n",
    "\n",
    "\n",
    "\n",
    "\n",
    "\n",
    "\n",
    "\n",
    "\n",
    "\n",
    "\n",
    "\n",
    "\n",
    "\n",
    "\n",
    "\n",
    "\n",
    "\n",
    "\n",
    "\n",
    "\n",
    "\n",
    "\n",
    "\n",
    "\n",
    "\n",
    "\n",
    "\n",
    "\n"
   ]
  },
  {
   "cell_type": "markdown",
   "metadata": {},
   "source": [
    "Standardized tests, GPA and the school the student is applying are the most important factors by far that determine admission success. This should come as no surprise. What is surprising is how little other factors matter. Sports can be [a huge time sink](http://collegepuzzle.stanford.edu/?p=2088) yet make no difference to a successful admission. Unless the student is a star recruited athlete, a fraction of the time spent on sports would be better spent improving standardized tests, especially the SAT or ACT score. \n",
    "\n",
    "Having Legacy which many parents count on and many students wish for turns out not to be as important better AP exams or SAT subject tests. \n",
    "\n",
    "<img src=\"features.png\">"
   ]
  },
  {
   "cell_type": "markdown",
   "metadata": {},
   "source": [
    "## Diversity\n",
    "\n",
    "Being an underrepresented minority (Hispanic, African-American, Native American) provides an average boost to the candidate's SAT or ACT by 87 points. This can make a huge difference when the schools are so competitive. However, this advantage varies significantly by school. Carnegie Mellon gives the greatest boost to minorities, with an average increase of 149 points. Harvard is notably the only of the top twenty-five that has statistically no premium given to underrepresented minorities.\n",
    "\n",
    "<img src=\"minoritySAT.png\"></a>"
   ]
  },
  {
   "cell_type": "markdown",
   "metadata": {},
   "source": [
    "## Truly Needs Blind?\n",
    "\n",
    "Most of these elite schools claim to be \"needs blind.\" Their admission decision is not supposed to factor in the ability of the candidate to pay. Our analysis showed this indeed to be the case: whether or not the candidate needed financial assistance had no affect on the acceptance decision. The acceptance rates, when all other factors were accounted for, remained the same irrespective of whether the student was able to "
   ]
  },
  {
   "cell_type": "markdown",
   "metadata": {},
   "source": [
    "Private schools"
   ]
  },
  {
   "cell_type": "markdown",
   "metadata": {},
   "source": [
    "Per school differences"
   ]
  },
  {
   "cell_type": "markdown",
   "metadata": {},
   "source": [
    "General advice"
   ]
  },
  {
   "cell_type": "code",
   "execution_count": null,
   "metadata": {
    "collapsed": true
   },
   "outputs": [],
   "source": []
  }
 ],
 "metadata": {
  "kernelspec": {
   "display_name": "Python 2",
   "language": "python",
   "name": "python2"
  },
  "language_info": {
   "codemirror_mode": {
    "name": "ipython",
    "version": 2
   },
   "file_extension": ".py",
   "mimetype": "text/x-python",
   "name": "python",
   "nbconvert_exporter": "python",
   "pygments_lexer": "ipython2",
   "version": "2.7.10"
  }
 },
 "nbformat": 4,
 "nbformat_minor": 0
}
