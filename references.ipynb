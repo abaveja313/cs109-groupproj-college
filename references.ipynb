{
 "cells": [
  {
   "cell_type": "markdown",
   "metadata": {},
   "source": [
    "# References"
   ]
  },
  {
   "cell_type": "markdown",
   "metadata": {},
   "source": [
    "### Data Sources We Used\n",
    "\n",
    "[Collegedata Admissions tracker](http://www.collegedata.com/cs/admissions/admissions_tracker.jhtml)\n",
    "\n",
    "### Data Sources We Partially Used\n",
    "\n",
    "We started by [scraping 30,000 messages in 1,000 threads](https://github.com/wihl/cs109-groupproj-college/tree/master/scrape/collegeconfidential) from [College Confidential](http://www.collegeconfidential.com/). However, this dataset was not as useful for predictions as the Collegedata Admissions Tracker. We may revisit this in the future for textual analysis of the threads. \n",
    "\n",
    "### Data Sources We Examined But Did Not Use\n",
    "\n",
    "We examined and explored a number of different sources of data, but the data was not useful for generating predictive models of admissions.\n",
    "\n",
    "[NY Times 'The Choice' Blog](http://thechoice.blogs.nytimes.com/category/admissions-data/?_r=0) four year project, ended June 2013\n",
    "\n",
    "[Stanford Admissions](http://ucomm.stanford.edu/cds/2014#admission)\n",
    "\n",
    "[Harvard Admission Statistics](http://oir.harvard.edu/fact-book/college_admissions)\n",
    "\n",
    "[National Center for Education Statistics](https://nces.ed.gov/collegenavigator/), especially the [Data Tools Section](https://nces.ed.gov/datatools/index.asp?DataToolSectionID=4)\n",
    "\n",
    "[College Board Data](http://research.collegeboard.org/data) - not publicly available.\n",
    "\n",
    "[College Scorecard Data](https://collegescorecard.ed.gov/data/) Obama's failed attempt at a college ranking system.\n",
    "\n",
    "[National Research Center for College Admissions](https://datalab.nrccua.org/EnrollmentLens)\n",
    "\n",
    "[Common Data Set](http://www.commondataset.org/#download) Used US News, Peterson's and the College Board for school rankings. Not clear how we can access the submitted data.\n",
    "\n",
    "### Related Research\n",
    "\n",
    "We explored many different potential sources of predicting college admissions. Interestingly, for a multi-billion dollar market with many 'experts' advising students and parents, there is surprisingly little research into what factors actually make a significant difference to admission candidates. These were the best articles we could find and they are only tangentially useful.\n",
    "\n",
    "[Admissions Decision-Making Models: How U.S. Institutions of Higher Education Select Undergraduate Students](http://research.collegeboard.org/publications/content/2012/05/admissions-decision-making-models-how-us-institutions-higher-education) Rigol, Gretchen, College Board 2003\n",
    "\n",
    "[Comprehensive Wikipedia Article on College Admissions](https://en.wikipedia.org/wiki/College_admissions_in_the_United_States). This is a very thorough article on college admissions in the United States.\n",
    "\n",
    "[Student Portfolios and The College Admissions Problem](https://github.com/wihl/cs109-groupproj-college/blob/master/65488447.pdf)\n",
    "\n",
    "[Beyond Correlations: Usefulness of High School GPA and Test Scores in Making College Admissions Decisions](https://github.com/wihl/cs109-groupproj-college/blob/master/beyondcorrelation.pdf)"
   ]
  },
  {
   "cell_type": "markdown",
   "metadata": {},
   "source": [
    "# Software Dependencies\n",
    "\n",
    "### Libraries Used\n",
    "\n",
    "We use a number of different libraries besides the typical ones from class (Pandas, Numpy, Sci-kit Learn, statsmodels, CSV)\n",
    "\n",
    "##### In Python:\n",
    "\n",
    "Flask is used a lightweight host for the public classification webservice. Install with `pip install flask`\n",
    "\n",
    "NLTK was used for preliminary experiments with analyzing text from College Confidential.\n",
    "\n",
    "##### iPython Notebook Extensions\n",
    "\n",
    "rpy2 enables R cells in an iPython notebook. Install with `pip install rpy2`\n",
    "\n",
    "SVG diagrams were built with Google Drawings\n",
    "\n",
    "\n",
    "\n"
   ]
  },
  {
   "cell_type": "code",
   "execution_count": null,
   "metadata": {
    "collapsed": true
   },
   "outputs": [],
   "source": []
  }
 ],
 "metadata": {
  "kernelspec": {
   "display_name": "Python 2",
   "language": "python",
   "name": "python2"
  },
  "language_info": {
   "codemirror_mode": {
    "name": "ipython",
    "version": 2
   },
   "file_extension": ".py",
   "mimetype": "text/x-python",
   "name": "python",
   "nbconvert_exporter": "python",
   "pygments_lexer": "ipython2",
   "version": "2.7.10"
  }
 },
 "nbformat": 4,
 "nbformat_minor": 0
}
